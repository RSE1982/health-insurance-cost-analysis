{
 "cells": [
  {
   "cell_type": "markdown",
   "id": "d4e4b9e4",
   "metadata": {},
   "source": [
    "# 🏥 Healthcare Insurance Cost Analysis  \n",
    "## 🧩 Notebook 02 – Data Cleaning and Transformation  \n",
    "| Field | Description |\n",
    "|-------|-------------|\n",
    "|**Author:** | Robert Steven Elliott  |\n",
    "|**Course:** | Code Institute – Data Analytics with AI Bootcamp  |\n",
    "|**Project Type:** | Individual Formative Project  |\n",
    "|**Date:** | October 2025  |\n",
    "\n",
    "---\n",
    "\n",
    "## **Objectives**\n",
    "- Clean the raw healthcare dataset.\n",
    "- Handle missing values and remove duplicates.\n",
    "- Encode categorical variables for analysis.\n",
    "- Prepare the dataset for feature engineering and visualisation.\n",
    "\n",
    "## **Inputs**\n",
    "- `data/raw/insurance.csv`\n",
    "\n",
    "## **Outputs**\n",
    "- `data/processed/insurance_clean.csv`  \n",
    "- Cleaned, encoded DataFrame ready for analysis.\n",
    "\n",
    "## **Additional Comments**\n",
    "Ensure that Notebook 01 was executed successfully before running this notebook.\n",
    "All cleaning steps must be reproducible and clearly documented.\n",
    "\n",
    "---"
   ]
  },
  {
   "cell_type": "markdown",
   "id": "351f2521",
   "metadata": {
    "vscode": {
     "languageId": "plaintext"
    }
   },
   "source": [
    "# Change Working Directory"
   ]
  },
  {
   "cell_type": "code",
   "execution_count": null,
   "id": "f9a94fa2",
   "metadata": {},
   "outputs": [
    {
     "name": "stdout",
     "output_type": "stream",
     "text": [
      "✅ Working directory set to project root: /home/robert/Projects/health-insurance-cost-analysis\n"
     ]
    }
   ],
   "source": [
    "import os\n",
    "PROJECT_ROOT = os.path.join(os.getcwd(), \"..\")\n",
    "os.chdir(PROJECT_ROOT)\n",
    "print(\"✅ Working directory set to project root:\", os.getcwd())"
   ]
  },
  {
   "cell_type": "markdown",
   "id": "a691e2d4",
   "metadata": {},
   "source": [
    "Confirm the new current directory"
   ]
  },
  {
   "cell_type": "code",
   "execution_count": 2,
   "id": "9dd4a06f",
   "metadata": {},
   "outputs": [
    {
     "data": {
      "text/plain": [
       "'/home/robert/Projects/health-insurance-cost-analysis'"
      ]
     },
     "execution_count": 2,
     "metadata": {},
     "output_type": "execute_result"
    }
   ],
   "source": [
    "current_dir = os.getcwd()\n",
    "current_dir"
   ]
  },
  {
   "cell_type": "markdown",
   "id": "11f4ade2",
   "metadata": {},
   "source": [
    "---"
   ]
  },
  {
   "cell_type": "markdown",
   "id": "eef98515",
   "metadata": {},
   "source": [
    "# Import Dependencies"
   ]
  },
  {
   "cell_type": "code",
   "execution_count": 3,
   "id": "ab7b963e",
   "metadata": {},
   "outputs": [],
   "source": [
    "import pandas as pd\n",
    "import numpy as np"
   ]
  },
  {
   "cell_type": "markdown",
   "id": "e041b71e",
   "metadata": {},
   "source": [
    "---"
   ]
  },
  {
   "cell_type": "markdown",
   "id": "c943825e",
   "metadata": {},
   "source": [
    "# Load Dataset"
   ]
  },
  {
   "cell_type": "code",
   "execution_count": 4,
   "id": "9e565990",
   "metadata": {},
   "outputs": [
    {
     "name": "stdout",
     "output_type": "stream",
     "text": [
      "✅ Dataset loaded. Shape: (1338, 7)\n"
     ]
    }
   ],
   "source": [
    "data_path = \"data/raw/insurance.csv\"\n",
    "\n",
    "try:\n",
    "    df = pd.read_csv(data_path)\n",
    "    print(f\"✅ Dataset loaded. Shape: {df.shape}\")\n",
    "except FileNotFoundError:\n",
    "    raise FileNotFoundError(\"❌ insurance.csv not found. Place it in data/raw/\")"
   ]
  },
  {
   "cell_type": "markdown",
   "id": "1b505bf0",
   "metadata": {},
   "source": [
    "---"
   ]
  },
  {
   "cell_type": "markdown",
   "id": "78896af6",
   "metadata": {},
   "source": [
    "# Inspect Dataset"
   ]
  },
  {
   "cell_type": "code",
   "execution_count": 5,
   "id": "0575fb2b",
   "metadata": {},
   "outputs": [
    {
     "name": "stdout",
     "output_type": "stream",
     "text": [
      "📋 DataFrame info:\n",
      "<class 'pandas.core.frame.DataFrame'>\n",
      "RangeIndex: 1338 entries, 0 to 1337\n",
      "Data columns (total 7 columns):\n",
      " #   Column    Non-Null Count  Dtype  \n",
      "---  ------    --------------  -----  \n",
      " 0   age       1338 non-null   int64  \n",
      " 1   sex       1338 non-null   object \n",
      " 2   bmi       1338 non-null   float64\n",
      " 3   children  1338 non-null   int64  \n",
      " 4   smoker    1338 non-null   object \n",
      " 5   region    1338 non-null   object \n",
      " 6   charges   1338 non-null   float64\n",
      "dtypes: float64(2), int64(2), object(3)\n",
      "memory usage: 73.3+ KB\n"
     ]
    }
   ],
   "source": [
    "print(\"📋 DataFrame info:\")\n",
    "df.info()"
   ]
  },
  {
   "cell_type": "code",
   "execution_count": 6,
   "id": "f2f1113e",
   "metadata": {},
   "outputs": [
    {
     "name": "stdout",
     "output_type": "stream",
     "text": [
      "\n",
      "🔍 Preview:\n"
     ]
    },
    {
     "data": {
      "application/vnd.microsoft.datawrangler.viewer.v0+json": {
       "columns": [
        {
         "name": "index",
         "rawType": "int64",
         "type": "integer"
        },
        {
         "name": "age",
         "rawType": "int64",
         "type": "integer"
        },
        {
         "name": "sex",
         "rawType": "object",
         "type": "string"
        },
        {
         "name": "bmi",
         "rawType": "float64",
         "type": "float"
        },
        {
         "name": "children",
         "rawType": "int64",
         "type": "integer"
        },
        {
         "name": "smoker",
         "rawType": "object",
         "type": "string"
        },
        {
         "name": "region",
         "rawType": "object",
         "type": "string"
        },
        {
         "name": "charges",
         "rawType": "float64",
         "type": "float"
        }
       ],
       "ref": "45d00018-fc68-4f66-a6bf-cfd821d543f3",
       "rows": [
        [
         "0",
         "19",
         "female",
         "27.9",
         "0",
         "yes",
         "southwest",
         "16884.924"
        ],
        [
         "1",
         "18",
         "male",
         "33.77",
         "1",
         "no",
         "southeast",
         "1725.5523"
        ],
        [
         "2",
         "28",
         "male",
         "33.0",
         "3",
         "no",
         "southeast",
         "4449.462"
        ],
        [
         "3",
         "33",
         "male",
         "22.705",
         "0",
         "no",
         "northwest",
         "21984.47061"
        ],
        [
         "4",
         "32",
         "male",
         "28.88",
         "0",
         "no",
         "northwest",
         "3866.8552"
        ]
       ],
       "shape": {
        "columns": 7,
        "rows": 5
       }
      },
      "text/html": [
       "<div>\n",
       "<style scoped>\n",
       "    .dataframe tbody tr th:only-of-type {\n",
       "        vertical-align: middle;\n",
       "    }\n",
       "\n",
       "    .dataframe tbody tr th {\n",
       "        vertical-align: top;\n",
       "    }\n",
       "\n",
       "    .dataframe thead th {\n",
       "        text-align: right;\n",
       "    }\n",
       "</style>\n",
       "<table border=\"1\" class=\"dataframe\">\n",
       "  <thead>\n",
       "    <tr style=\"text-align: right;\">\n",
       "      <th></th>\n",
       "      <th>age</th>\n",
       "      <th>sex</th>\n",
       "      <th>bmi</th>\n",
       "      <th>children</th>\n",
       "      <th>smoker</th>\n",
       "      <th>region</th>\n",
       "      <th>charges</th>\n",
       "    </tr>\n",
       "  </thead>\n",
       "  <tbody>\n",
       "    <tr>\n",
       "      <th>0</th>\n",
       "      <td>19</td>\n",
       "      <td>female</td>\n",
       "      <td>27.900</td>\n",
       "      <td>0</td>\n",
       "      <td>yes</td>\n",
       "      <td>southwest</td>\n",
       "      <td>16884.92400</td>\n",
       "    </tr>\n",
       "    <tr>\n",
       "      <th>1</th>\n",
       "      <td>18</td>\n",
       "      <td>male</td>\n",
       "      <td>33.770</td>\n",
       "      <td>1</td>\n",
       "      <td>no</td>\n",
       "      <td>southeast</td>\n",
       "      <td>1725.55230</td>\n",
       "    </tr>\n",
       "    <tr>\n",
       "      <th>2</th>\n",
       "      <td>28</td>\n",
       "      <td>male</td>\n",
       "      <td>33.000</td>\n",
       "      <td>3</td>\n",
       "      <td>no</td>\n",
       "      <td>southeast</td>\n",
       "      <td>4449.46200</td>\n",
       "    </tr>\n",
       "    <tr>\n",
       "      <th>3</th>\n",
       "      <td>33</td>\n",
       "      <td>male</td>\n",
       "      <td>22.705</td>\n",
       "      <td>0</td>\n",
       "      <td>no</td>\n",
       "      <td>northwest</td>\n",
       "      <td>21984.47061</td>\n",
       "    </tr>\n",
       "    <tr>\n",
       "      <th>4</th>\n",
       "      <td>32</td>\n",
       "      <td>male</td>\n",
       "      <td>28.880</td>\n",
       "      <td>0</td>\n",
       "      <td>no</td>\n",
       "      <td>northwest</td>\n",
       "      <td>3866.85520</td>\n",
       "    </tr>\n",
       "  </tbody>\n",
       "</table>\n",
       "</div>"
      ],
      "text/plain": [
       "   age     sex     bmi  children smoker     region      charges\n",
       "0   19  female  27.900         0    yes  southwest  16884.92400\n",
       "1   18    male  33.770         1     no  southeast   1725.55230\n",
       "2   28    male  33.000         3     no  southeast   4449.46200\n",
       "3   33    male  22.705         0     no  northwest  21984.47061\n",
       "4   32    male  28.880         0     no  northwest   3866.85520"
      ]
     },
     "metadata": {},
     "output_type": "display_data"
    }
   ],
   "source": [
    "print(\"\\n🔍 Preview:\")\n",
    "display(df.head())"
   ]
  },
  {
   "cell_type": "code",
   "execution_count": 7,
   "id": "6c6aa4e5",
   "metadata": {},
   "outputs": [
    {
     "name": "stdout",
     "output_type": "stream",
     "text": [
      "\n",
      "🔢 Missing Values:\n"
     ]
    },
    {
     "data": {
      "application/vnd.microsoft.datawrangler.viewer.v0+json": {
       "columns": [
        {
         "name": "index",
         "rawType": "object",
         "type": "string"
        },
        {
         "name": "0",
         "rawType": "int64",
         "type": "integer"
        }
       ],
       "ref": "708b909a-b4f5-454f-9d7c-2fbfb6c9a4f5",
       "rows": [
        [
         "age",
         "0"
        ],
        [
         "sex",
         "0"
        ],
        [
         "bmi",
         "0"
        ],
        [
         "children",
         "0"
        ],
        [
         "smoker",
         "0"
        ],
        [
         "region",
         "0"
        ],
        [
         "charges",
         "0"
        ]
       ],
       "shape": {
        "columns": 1,
        "rows": 7
       }
      },
      "text/plain": [
       "age         0\n",
       "sex         0\n",
       "bmi         0\n",
       "children    0\n",
       "smoker      0\n",
       "region      0\n",
       "charges     0\n",
       "dtype: int64"
      ]
     },
     "metadata": {},
     "output_type": "display_data"
    }
   ],
   "source": [
    "print(\"\\n🔢 Missing Values:\")\n",
    "display(df.isna().sum())"
   ]
  },
  {
   "cell_type": "markdown",
   "id": "4120a4bc",
   "metadata": {},
   "source": [
    "---"
   ]
  },
  {
   "cell_type": "markdown",
   "id": "1888ce85",
   "metadata": {},
   "source": [
    "# Handle Missing Values"
   ]
  },
  {
   "cell_type": "markdown",
   "id": "d30999b8",
   "metadata": {},
   "source": [
    "There are no missing values so this is not required."
   ]
  },
  {
   "cell_type": "markdown",
   "id": "54f723dd",
   "metadata": {},
   "source": [
    "---"
   ]
  },
  {
   "cell_type": "markdown",
   "id": "e69cd5f8",
   "metadata": {},
   "source": [
    "# Remove Duplicates"
   ]
  },
  {
   "cell_type": "code",
   "execution_count": 8,
   "id": "09382471",
   "metadata": {},
   "outputs": [
    {
     "name": "stdout",
     "output_type": "stream",
     "text": [
      "✅ Removed 1 duplicate rows.\n"
     ]
    }
   ],
   "source": [
    "before = df.shape[0]\n",
    "df.drop_duplicates(inplace=True)\n",
    "after = df.shape[0]\n",
    "print(f\"✅ Removed {before - after} duplicate rows.\")"
   ]
  },
  {
   "cell_type": "markdown",
   "id": "b0e05712",
   "metadata": {},
   "source": [
    "Duplicate entries were checked and removed from the dataset to ensure data quality and prevent bias in descriptive and correlation analyses.  \n",
    "This step improves the dataset’s integrity before further encoding and transformation."
   ]
  },
  {
   "cell_type": "markdown",
   "id": "4dad4067",
   "metadata": {},
   "source": [
    "---"
   ]
  },
  {
   "cell_type": "markdown",
   "id": "ed7471f3",
   "metadata": {},
   "source": [
    "# Encode Categorical Variables"
   ]
  },
  {
   "cell_type": "code",
   "execution_count": 9,
   "id": "7c6da6fa",
   "metadata": {},
   "outputs": [
    {
     "name": "stdout",
     "output_type": "stream",
     "text": [
      "✅ All categorical variables set to 'category' dtype for readability.\n"
     ]
    },
    {
     "data": {
      "application/vnd.microsoft.datawrangler.viewer.v0+json": {
       "columns": [
        {
         "name": "index",
         "rawType": "int64",
         "type": "integer"
        },
        {
         "name": "sex",
         "rawType": "category",
         "type": "unknown"
        },
        {
         "name": "smoker",
         "rawType": "category",
         "type": "unknown"
        },
        {
         "name": "region",
         "rawType": "category",
         "type": "unknown"
        }
       ],
       "ref": "ac8bdeeb-e663-4cf5-9a15-508f30ab8cec",
       "rows": [
        [
         "0",
         "female",
         "yes",
         "southwest"
        ],
        [
         "1",
         "male",
         "no",
         "southeast"
        ],
        [
         "2",
         "male",
         "no",
         "southeast"
        ],
        [
         "3",
         "male",
         "no",
         "northwest"
        ],
        [
         "4",
         "male",
         "no",
         "northwest"
        ]
       ],
       "shape": {
        "columns": 3,
        "rows": 5
       }
      },
      "text/html": [
       "<div>\n",
       "<style scoped>\n",
       "    .dataframe tbody tr th:only-of-type {\n",
       "        vertical-align: middle;\n",
       "    }\n",
       "\n",
       "    .dataframe tbody tr th {\n",
       "        vertical-align: top;\n",
       "    }\n",
       "\n",
       "    .dataframe thead th {\n",
       "        text-align: right;\n",
       "    }\n",
       "</style>\n",
       "<table border=\"1\" class=\"dataframe\">\n",
       "  <thead>\n",
       "    <tr style=\"text-align: right;\">\n",
       "      <th></th>\n",
       "      <th>sex</th>\n",
       "      <th>smoker</th>\n",
       "      <th>region</th>\n",
       "    </tr>\n",
       "  </thead>\n",
       "  <tbody>\n",
       "    <tr>\n",
       "      <th>0</th>\n",
       "      <td>female</td>\n",
       "      <td>yes</td>\n",
       "      <td>southwest</td>\n",
       "    </tr>\n",
       "    <tr>\n",
       "      <th>1</th>\n",
       "      <td>male</td>\n",
       "      <td>no</td>\n",
       "      <td>southeast</td>\n",
       "    </tr>\n",
       "    <tr>\n",
       "      <th>2</th>\n",
       "      <td>male</td>\n",
       "      <td>no</td>\n",
       "      <td>southeast</td>\n",
       "    </tr>\n",
       "    <tr>\n",
       "      <th>3</th>\n",
       "      <td>male</td>\n",
       "      <td>no</td>\n",
       "      <td>northwest</td>\n",
       "    </tr>\n",
       "    <tr>\n",
       "      <th>4</th>\n",
       "      <td>male</td>\n",
       "      <td>no</td>\n",
       "      <td>northwest</td>\n",
       "    </tr>\n",
       "  </tbody>\n",
       "</table>\n",
       "</div>"
      ],
      "text/plain": [
       "      sex smoker     region\n",
       "0  female    yes  southwest\n",
       "1    male     no  southeast\n",
       "2    male     no  southeast\n",
       "3    male     no  northwest\n",
       "4    male     no  northwest"
      ]
     },
     "metadata": {},
     "output_type": "display_data"
    }
   ],
   "source": [
    "categorical_columns = ['sex', 'smoker', 'region']\n",
    "df[categorical_columns] = df[categorical_columns].astype('category')\n",
    "\n",
    "print(\"✅ All categorical variables set to 'category' dtype for readability.\")\n",
    "display(df[categorical_columns].head())"
   ]
  },
  {
   "cell_type": "markdown",
   "id": "5f9d6676",
   "metadata": {},
   "source": [
    "All categorical variables (`sex`, `smoker`, and `region`) were retained in their original text format  \n",
    "and converted to Pandas `category` dtype for clarity and consistency.  \n",
    "This ensures that visualisations remain easy to interpret without unnecessary numeric encoding."
   ]
  },
  {
   "cell_type": "markdown",
   "id": "68f612c3",
   "metadata": {},
   "source": [
    "---"
   ]
  },
  {
   "cell_type": "markdown",
   "id": "a49d5fa5",
   "metadata": {},
   "source": [
    "# Basic integrity checks"
   ]
  },
  {
   "cell_type": "code",
   "execution_count": 11,
   "id": "011788f9",
   "metadata": {},
   "outputs": [
    {
     "name": "stdout",
     "output_type": "stream",
     "text": [
      "✅ DataFrame shape: (1337, 7)\n",
      "✅ No nulls remaining: True\n",
      "✅ Numeric columns: ['age', 'bmi', 'children', 'charges']\n",
      "✅ Categorical columns: ['sex', 'smoker', 'region']\n"
     ]
    }
   ],
   "source": [
    "\n",
    "print(f\"✅ DataFrame shape: {df.shape}\")\n",
    "print(\"✅ No nulls remaining:\", df.isnull().sum().sum() == 0)\n",
    "print(\"✅ Numeric columns:\", df.select_dtypes(include=np.number).columns.tolist())\n",
    "print(\"✅ Categorical columns:\", df.select_dtypes(include='category').columns.tolist())"
   ]
  },
  {
   "cell_type": "markdown",
   "id": "22f0f0de",
   "metadata": {},
   "source": [
    "---"
   ]
  },
  {
   "cell_type": "markdown",
   "id": "d8895b29",
   "metadata": {},
   "source": [
    "# Save Cleaned Dataset"
   ]
  },
  {
   "cell_type": "code",
   "execution_count": 12,
   "id": "45412ec8",
   "metadata": {},
   "outputs": [
    {
     "name": "stdout",
     "output_type": "stream",
     "text": [
      "📁 Cleaned dataset saved to: data/processed/insurance_clean.csv\n"
     ]
    }
   ],
   "source": [
    "output_path = \"data/processed/insurance_clean.csv\"\n",
    "df.to_csv(output_path, index=False)\n",
    "print(f\"📁 Cleaned dataset saved to: {output_path}\")"
   ]
  }
 ],
 "metadata": {
  "kernelspec": {
   "display_name": ".venv",
   "language": "python",
   "name": "python3"
  },
  "language_info": {
   "codemirror_mode": {
    "name": "ipython",
    "version": 3
   },
   "file_extension": ".py",
   "mimetype": "text/x-python",
   "name": "python",
   "nbconvert_exporter": "python",
   "pygments_lexer": "ipython3",
   "version": "3.12.2"
  }
 },
 "nbformat": 4,
 "nbformat_minor": 5
}
