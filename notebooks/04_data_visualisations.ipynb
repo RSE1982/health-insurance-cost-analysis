{
 "cells": [
  {
   "cell_type": "markdown",
   "id": "a6bf3b8a",
   "metadata": {},
   "source": [
    "# 🏥 Healthcare Insurance Cost Analysis  \n",
    "## 📊 Notebook 04 – Exploratory Data Analysis and Visualisations \n",
    "\n",
    "| Feild | Description |\n",
    "|-------|-------------|\n",
    "|**Author:** |Robert Steven Elliott  |\n",
    "|**Course:** |Code Institute – Data Analytics with AI Bootcamp |  \n",
    "|**Project Type:** |Individual Formative Project  | \n",
    "|**Date:** |October 2025  |\n",
    "\n",
    "---\n",
    "\n",
    "## **Objectives**\n",
    "- Conduct exploratory data analysis (EDA) to uncover trends and patterns.  \n",
    "- Produce static visualisations using Matplotlib and Seaborn.  \n",
    "- Create interactive dashboards using Plotly.  \n",
    "- Summarise relationships between key features and healthcare insurance charges.\n",
    "\n",
    "## **Inputs**\n",
    "- `data/processed/insurance_enriched.csv`\n",
    "\n",
    "## **Outputs**\n",
    "- Static and interactive visualisations saved to `reports/figures/`  \n",
    "- Analytical insights summarised for presentation and documentation.\n",
    "\n",
    "## **Additional Comments**\n",
    "Run after `03_feature_engineering.ipynb`.  \n",
    "Ensure your enriched dataset is available in `data/processed/insurance_enriched.csv`.\n"
   ]
  },
  {
   "cell_type": "markdown",
   "id": "dcc5a90f",
   "metadata": {},
   "source": [
    "---"
   ]
  },
  {
   "cell_type": "markdown",
   "id": "6d00aa51",
   "metadata": {},
   "source": [
    "# Change Working Directory"
   ]
  },
  {
   "cell_type": "code",
   "execution_count": null,
   "id": "45b8ac88",
   "metadata": {},
   "outputs": [],
   "source": [
    "import os\n",
    "PROJECT_ROOT = os.path.join(os.getcwd(), \"..\")\n",
    "os.chdir(PROJECT_ROOT)\n",
    "print(\"✅ Working directory set to project root:\", os.getcwd())"
   ]
  },
  {
   "cell_type": "markdown",
   "id": "b79da7f5",
   "metadata": {},
   "source": [
    "---"
   ]
  },
  {
   "cell_type": "markdown",
   "id": "8b97b6c1",
   "metadata": {},
   "source": [
    "# Import Libraries"
   ]
  },
  {
   "cell_type": "code",
   "execution_count": null,
   "id": "b6e5cea5",
   "metadata": {},
   "outputs": [],
   "source": [
    "import pandas as pd\n",
    "import numpy as np\n",
    "import matplotlib.pyplot as plt\n",
    "import seaborn as sns\n",
    "import plotly.express as px\n",
    "\n",
    "# Aesthetic setup\n",
    "sns.set(style=\"whitegrid\", palette=\"muted\")\n",
    "print(\"✅ Libraries imported successfully.\")"
   ]
  },
  {
   "cell_type": "markdown",
   "id": "23cfbd2b",
   "metadata": {},
   "source": [
    "---"
   ]
  },
  {
   "cell_type": "markdown",
   "id": "72a654af",
   "metadata": {},
   "source": [
    "# Load Enriched Dataset"
   ]
  },
  {
   "cell_type": "code",
   "execution_count": null,
   "id": "8520ec2a",
   "metadata": {},
   "outputs": [],
   "source": [
    "data_path = \"data/final/insurance_final.csv\"\n",
    "\n",
    "try:\n",
    "    df = pd.read_csv(data_path)\n",
    "    print(f\"✅ Enriched dataset loaded. Shape: {df.shape}\")\n",
    "except FileNotFoundError:\n",
    "    raise FileNotFoundError(\"❌ insurance_final.csv not found. Please run Notebook 03 first.\")\n",
    "\n",
    "display(df.head())"
   ]
  },
  {
   "cell_type": "markdown",
   "id": "8bdf624a",
   "metadata": {},
   "source": [
    "## Data Type Restoration\n",
    "when loading from CSV, categorical columns (`sex`, `smoker`, `region`, `bmi_category`,`age_group`,`family_size_category`) were re-cast to the `category` dtype  \n",
    "to maintain consistency with the ETL pipeline and improve plotting performance."
   ]
  },
  {
   "cell_type": "code",
   "execution_count": null,
   "id": "683fae55",
   "metadata": {},
   "outputs": [],
   "source": [
    "for col in ['sex', 'smoker', 'region', 'bmi_category', 'age_group', 'family_size_category']:\n",
    "    df[col] = df[col].astype('category')\n",
    "print(\"✅ Data types after restoration:\")\n",
    "print(df.dtypes)"
   ]
  },
  {
   "cell_type": "markdown",
   "id": "66be151e",
   "metadata": {},
   "source": [
    "---"
   ]
  },
  {
   "cell_type": "markdown",
   "id": "6a084a92",
   "metadata": {},
   "source": [
    "# Summary Statistics and Overview"
   ]
  },
  {
   "cell_type": "code",
   "execution_count": null,
   "id": "850c447d",
   "metadata": {},
   "outputs": [],
   "source": [
    "# Basic descriptive stats\n",
    "df.describe()\n"
   ]
  },
  {
   "cell_type": "code",
   "execution_count": null,
   "id": "8933ce5b",
   "metadata": {},
   "outputs": [],
   "source": [
    "\n",
    "# Correlation with target variable\n",
    "corr = df.corr(numeric_only=True)\n",
    "display(corr['charges'].sort_values(ascending=False))"
   ]
  },
  {
   "cell_type": "markdown",
   "id": "76728cda",
   "metadata": {},
   "source": [
    "---"
   ]
  },
  {
   "cell_type": "markdown",
   "id": "e1925d99",
   "metadata": {},
   "source": [
    "# Identify Top Correlations"
   ]
  },
  {
   "cell_type": "code",
   "execution_count": null,
   "id": "1cb19301",
   "metadata": {},
   "outputs": [],
   "source": [
    "top_corr = corr.drop('charges').head(5)['charges']\n",
    "top_corr_df = top_corr.reset_index()\n",
    "top_corr_df.columns = ['Feature', 'Correlation_with_Charges']\n",
    "\n",
    "print(\"🔍 Top 5 correlated features with Charges:\")\n",
    "display(top_corr_df)"
   ]
  },
  {
   "cell_type": "markdown",
   "id": "a81393aa",
   "metadata": {},
   "source": [
    "---"
   ]
  },
  {
   "cell_type": "markdown",
   "id": "1e8ab1c8",
   "metadata": {},
   "source": [
    "# Distribution of Key Variables"
   ]
  },
  {
   "cell_type": "markdown",
   "id": "7e92d091",
   "metadata": {},
   "source": [
    "## Distribution of Charges"
   ]
  },
  {
   "cell_type": "code",
   "execution_count": null,
   "id": "a710b092",
   "metadata": {},
   "outputs": [],
   "source": [
    "plt.figure(figsize=(10,5))\n",
    "sns.histplot(df['charges'], bins=30, kde=True, color='skyblue')\n",
    "plt.title(\"Distribution of Insurance Charges\")\n",
    "plt.xlabel(\"Charges ($)\")\n",
    "plt.ylabel(\"Frequency\")\n",
    "plt.tight_layout()\n",
    "plt.show()"
   ]
  },
  {
   "cell_type": "markdown",
   "id": "5e183ddf",
   "metadata": {},
   "source": [
    "## Distribution of BMI"
   ]
  },
  {
   "cell_type": "code",
   "execution_count": null,
   "id": "aad06596",
   "metadata": {},
   "outputs": [],
   "source": [
    "plt.figure(figsize=(10,5))\n",
    "sns.histplot(df['bmi'], bins=20, kde=True, color='salmon')\n",
    "plt.title(\"Distribution of BMI\")\n",
    "plt.xlabel(\"BMI\")\n",
    "plt.ylabel(\"Frequency\")\n",
    "plt.tight_layout()\n",
    "plt.show()"
   ]
  },
  {
   "cell_type": "markdown",
   "id": "b533128c",
   "metadata": {},
   "source": [
    "## Distribution of Age"
   ]
  },
  {
   "cell_type": "code",
   "execution_count": null,
   "id": "32be906e",
   "metadata": {},
   "outputs": [],
   "source": [
    "plt.figure(figsize=(10,5))\n",
    "sns.histplot(df['age'], bins=15, kde=True, color='lightgreen')\n",
    "plt.title(\"Distribution of Age\")\n",
    "plt.xlabel(\"Age\")\n",
    "plt.ylabel(\"Frequency\")\n",
    "plt.tight_layout()\n",
    "plt.show()"
   ]
  }
 ],
 "metadata": {
  "kernelspec": {
   "display_name": ".venv",
   "language": "python",
   "name": "python3"
  },
  "language_info": {
   "codemirror_mode": {
    "name": "ipython",
    "version": 3
   },
   "file_extension": ".py",
   "mimetype": "text/x-python",
   "name": "python",
   "nbconvert_exporter": "python",
   "pygments_lexer": "ipython3",
   "version": "3.12.2"
  }
 },
 "nbformat": 4,
 "nbformat_minor": 5
}
