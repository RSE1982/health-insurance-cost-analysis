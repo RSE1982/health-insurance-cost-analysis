{
 "cells": [
  {
   "cell_type": "markdown",
   "id": "a6bf3b8a",
   "metadata": {},
   "source": [
    "# 🏥 Healthcare Insurance Cost Analysis  \n",
    "## 📊 Notebook 04 – Exploratory Data Analysis and Visualisations \n",
    "\n",
    "| Feild | Description |\n",
    "|-------|-------------|\n",
    "|**Author:** |Robert Steven Elliott  |\n",
    "|**Course:** |Code Institute – Data Analytics with AI Bootcamp |  \n",
    "|**Project Type:** |Individual Formative Project  | \n",
    "|**Date:** |October 2025  |\n",
    "\n",
    "---\n",
    "\n",
    "## Hypotheses\n",
    "\n",
    "| ID     | Hypothesis                                                                             | Expected Outcome                                                                |\n",
    "| ------ | -------------------------------------------------------------------------------------- | ------------------------------------------------------------------------------- |\n",
    "| **H1** | Smoking status significantly increases insurance charges.                              | Smokers will pay considerably higher premiums due to elevated health risks.     |\n",
    "| **H2** | Higher BMI correlates with higher insurance charges.                                   | Individuals with obesity or high BMI values will face greater healthcare costs. |\n",
    "| **H3** | Age positively correlates with insurance charges.                                      | Older individuals will have higher medical expenses and premiums.               |\n",
    "| **H4** | Gender has little or no significant effect on insurance charges.                       | Gender differences will be minimal after accounting for smoking and BMI.        |\n",
    "| **H5** | Geographic region may slightly influence charges, but lifestyle factors will dominate. | Regional cost differences exist but are weaker than smoking/BMI effects.        |\n",
    "| **H6** | Individuals with more children may experience slightly higher insurance costs.         | Larger families may increase total policy coverage but only modestly.           |\n",
    "\n",
    "\n",
    "\n",
    "## Objectives\n",
    "- Conduct exploratory data analysis (EDA) to uncover trends and patterns.  \n",
    "- Produce static visualisations using Matplotlib and Seaborn.  \n",
    "- Create interactive dashboards using Plotly.  \n",
    "- Summarise relationships between key features and healthcare insurance charges.\n",
    "\n",
    "## Inputs\n",
    "- `data/final/insurance_final.csv`\n",
    "\n",
    "## Outputs\n",
    "- Static and interactive visualisations saved to `figures/`  \n",
    "- Analytical insights summarised for presentation and documentation.\n",
    "\n",
    "## Additional Comments\n",
    "Run after `03_feature_engineering.ipynb`.  \n",
    "Ensure your enriched dataset is available in `data/processed/insurance_enriched.csv`.\n"
   ]
  },
  {
   "cell_type": "markdown",
   "id": "dcc5a90f",
   "metadata": {},
   "source": [
    "---"
   ]
  },
  {
   "cell_type": "markdown",
   "id": "f5e1f763",
   "metadata": {},
   "source": [
    "# Ignore Warnings"
   ]
  },
  {
   "cell_type": "markdown",
   "id": "bd8f5bf2",
   "metadata": {},
   "source": [
    "This project uses alot of old library versions so we will turn of future warnings"
   ]
  },
  {
   "cell_type": "code",
   "execution_count": 1,
   "id": "8075da86",
   "metadata": {},
   "outputs": [],
   "source": [
    "import warnings\n",
    "warnings.simplefilter(action='ignore', category=FutureWarning)"
   ]
  },
  {
   "cell_type": "markdown",
   "id": "6d00aa51",
   "metadata": {},
   "source": [
    "# Change Working Directory"
   ]
  },
  {
   "cell_type": "code",
   "execution_count": 2,
   "id": "45b8ac88",
   "metadata": {},
   "outputs": [
    {
     "name": "stdout",
     "output_type": "stream",
     "text": [
      "✅ Working directory set to project root: /home/robert/Projects/health-insurance-cost-analysis\n"
     ]
    }
   ],
   "source": [
    "import os\n",
    "PROJECT_ROOT = os.path.join(os.getcwd(), \"..\")\n",
    "os.chdir(PROJECT_ROOT)\n",
    "print(\"✅ Working directory set to project root:\", os.getcwd())"
   ]
  },
  {
   "cell_type": "markdown",
   "id": "b79da7f5",
   "metadata": {},
   "source": [
    "---"
   ]
  },
  {
   "cell_type": "markdown",
   "id": "8b97b6c1",
   "metadata": {},
   "source": [
    "# Import Libraries and Dataset"
   ]
  },
  {
   "cell_type": "code",
   "execution_count": 3,
   "id": "b6e5cea5",
   "metadata": {},
   "outputs": [
    {
     "name": "stdout",
     "output_type": "stream",
     "text": [
      "✅ Data loaded successfully.\n"
     ]
    },
    {
     "data": {
      "application/vnd.microsoft.datawrangler.viewer.v0+json": {
       "columns": [
        {
         "name": "index",
         "rawType": "int64",
         "type": "integer"
        },
        {
         "name": "age",
         "rawType": "int64",
         "type": "integer"
        },
        {
         "name": "sex",
         "rawType": "object",
         "type": "string"
        },
        {
         "name": "bmi",
         "rawType": "float64",
         "type": "float"
        },
        {
         "name": "children",
         "rawType": "int64",
         "type": "integer"
        },
        {
         "name": "smoker",
         "rawType": "object",
         "type": "string"
        },
        {
         "name": "region",
         "rawType": "object",
         "type": "string"
        },
        {
         "name": "charges",
         "rawType": "float64",
         "type": "float"
        },
        {
         "name": "bmi_category",
         "rawType": "object",
         "type": "string"
        },
        {
         "name": "age_group",
         "rawType": "object",
         "type": "string"
        },
        {
         "name": "family_size_category",
         "rawType": "object",
         "type": "string"
        }
       ],
       "ref": "bf7de0be-07a2-4b6b-9221-df948c20e058",
       "rows": [
        [
         "0",
         "19",
         "female",
         "27.9",
         "0",
         "yes",
         "southwest",
         "16884.924",
         "Overweight",
         "18-25",
         "No Children"
        ],
        [
         "1",
         "18",
         "male",
         "33.77",
         "1",
         "no",
         "southeast",
         "1725.5523",
         "Obese",
         "18-25",
         "Small Family"
        ],
        [
         "2",
         "28",
         "male",
         "33.0",
         "3",
         "no",
         "southeast",
         "4449.462",
         "Obese",
         "26-35",
         "Medium Family"
        ],
        [
         "3",
         "33",
         "male",
         "22.705",
         "0",
         "no",
         "northwest",
         "21984.47061",
         "Normal",
         "26-35",
         "No Children"
        ],
        [
         "4",
         "32",
         "male",
         "28.88",
         "0",
         "no",
         "northwest",
         "3866.8552",
         "Overweight",
         "26-35",
         "No Children"
        ]
       ],
       "shape": {
        "columns": 10,
        "rows": 5
       }
      },
      "text/html": [
       "<div>\n",
       "<style scoped>\n",
       "    .dataframe tbody tr th:only-of-type {\n",
       "        vertical-align: middle;\n",
       "    }\n",
       "\n",
       "    .dataframe tbody tr th {\n",
       "        vertical-align: top;\n",
       "    }\n",
       "\n",
       "    .dataframe thead th {\n",
       "        text-align: right;\n",
       "    }\n",
       "</style>\n",
       "<table border=\"1\" class=\"dataframe\">\n",
       "  <thead>\n",
       "    <tr style=\"text-align: right;\">\n",
       "      <th></th>\n",
       "      <th>age</th>\n",
       "      <th>sex</th>\n",
       "      <th>bmi</th>\n",
       "      <th>children</th>\n",
       "      <th>smoker</th>\n",
       "      <th>region</th>\n",
       "      <th>charges</th>\n",
       "      <th>bmi_category</th>\n",
       "      <th>age_group</th>\n",
       "      <th>family_size_category</th>\n",
       "    </tr>\n",
       "  </thead>\n",
       "  <tbody>\n",
       "    <tr>\n",
       "      <th>0</th>\n",
       "      <td>19</td>\n",
       "      <td>female</td>\n",
       "      <td>27.900</td>\n",
       "      <td>0</td>\n",
       "      <td>yes</td>\n",
       "      <td>southwest</td>\n",
       "      <td>16884.92400</td>\n",
       "      <td>Overweight</td>\n",
       "      <td>18-25</td>\n",
       "      <td>No Children</td>\n",
       "    </tr>\n",
       "    <tr>\n",
       "      <th>1</th>\n",
       "      <td>18</td>\n",
       "      <td>male</td>\n",
       "      <td>33.770</td>\n",
       "      <td>1</td>\n",
       "      <td>no</td>\n",
       "      <td>southeast</td>\n",
       "      <td>1725.55230</td>\n",
       "      <td>Obese</td>\n",
       "      <td>18-25</td>\n",
       "      <td>Small Family</td>\n",
       "    </tr>\n",
       "    <tr>\n",
       "      <th>2</th>\n",
       "      <td>28</td>\n",
       "      <td>male</td>\n",
       "      <td>33.000</td>\n",
       "      <td>3</td>\n",
       "      <td>no</td>\n",
       "      <td>southeast</td>\n",
       "      <td>4449.46200</td>\n",
       "      <td>Obese</td>\n",
       "      <td>26-35</td>\n",
       "      <td>Medium Family</td>\n",
       "    </tr>\n",
       "    <tr>\n",
       "      <th>3</th>\n",
       "      <td>33</td>\n",
       "      <td>male</td>\n",
       "      <td>22.705</td>\n",
       "      <td>0</td>\n",
       "      <td>no</td>\n",
       "      <td>northwest</td>\n",
       "      <td>21984.47061</td>\n",
       "      <td>Normal</td>\n",
       "      <td>26-35</td>\n",
       "      <td>No Children</td>\n",
       "    </tr>\n",
       "    <tr>\n",
       "      <th>4</th>\n",
       "      <td>32</td>\n",
       "      <td>male</td>\n",
       "      <td>28.880</td>\n",
       "      <td>0</td>\n",
       "      <td>no</td>\n",
       "      <td>northwest</td>\n",
       "      <td>3866.85520</td>\n",
       "      <td>Overweight</td>\n",
       "      <td>26-35</td>\n",
       "      <td>No Children</td>\n",
       "    </tr>\n",
       "  </tbody>\n",
       "</table>\n",
       "</div>"
      ],
      "text/plain": [
       "   age     sex     bmi  children smoker     region      charges bmi_category  \\\n",
       "0   19  female  27.900         0    yes  southwest  16884.92400   Overweight   \n",
       "1   18    male  33.770         1     no  southeast   1725.55230        Obese   \n",
       "2   28    male  33.000         3     no  southeast   4449.46200        Obese   \n",
       "3   33    male  22.705         0     no  northwest  21984.47061       Normal   \n",
       "4   32    male  28.880         0     no  northwest   3866.85520   Overweight   \n",
       "\n",
       "  age_group family_size_category  \n",
       "0     18-25          No Children  \n",
       "1     18-25         Small Family  \n",
       "2     26-35        Medium Family  \n",
       "3     26-35          No Children  \n",
       "4     26-35          No Children  "
      ]
     },
     "execution_count": 3,
     "metadata": {},
     "output_type": "execute_result"
    }
   ],
   "source": [
    "import pandas as pd\n",
    "import numpy as np\n",
    "import matplotlib.pyplot as plt\n",
    "import seaborn as sns\n",
    "import plotly.express as px\n",
    "\n",
    "pd.set_option('display.max_columns', None)\n",
    "sns.set_theme(style=\"whitegrid\")\n",
    "\n",
    "df = pd.read_csv(\"data/final/insurance_final.csv\")\n",
    "print(\"✅ Data loaded successfully.\")\n",
    "df.head()\n"
   ]
  },
  {
   "cell_type": "markdown",
   "id": "d717f16f",
   "metadata": {},
   "source": [
    "### Explanation:\n",
    "This section imports the necessary Python libraries and loads the final dataset created during the ETL process. The first few rows confirm the dataset’s structure and variable names."
   ]
  },
  {
   "cell_type": "markdown",
   "id": "23cfbd2b",
   "metadata": {},
   "source": [
    "---"
   ]
  },
  {
   "cell_type": "markdown",
   "id": "8bdf624a",
   "metadata": {},
   "source": [
    "## Data Type Restoration\n",
    "when loading from CSV, categorical columns (`sex`, `smoker`, `region`, `bmi_category`,`age_group`,`family_size_category`) were re-cast to the `category` dtype  \n",
    "to maintain consistency with the ETL pipeline and improve plotting performance."
   ]
  },
  {
   "cell_type": "code",
   "execution_count": 4,
   "id": "683fae55",
   "metadata": {},
   "outputs": [
    {
     "name": "stdout",
     "output_type": "stream",
     "text": [
      "✅ Data types after restoration:\n"
     ]
    }
   ],
   "source": [
    "for col in ['sex', 'smoker', 'region', 'bmi_category', 'age_group', 'family_size_category']:\n",
    "    df[col] = df[col].astype('category')\n",
    "print(\"✅ Data types after restoration:\")"
   ]
  },
  {
   "cell_type": "markdown",
   "id": "66be151e",
   "metadata": {},
   "source": [
    "---"
   ]
  },
  {
   "cell_type": "markdown",
   "id": "809acbd3",
   "metadata": {},
   "source": [
    "# Overview of Dataset"
   ]
  },
  {
   "cell_type": "code",
   "execution_count": 5,
   "id": "e8b3ae80",
   "metadata": {},
   "outputs": [
    {
     "name": "stdout",
     "output_type": "stream",
     "text": [
      "<class 'pandas.core.frame.DataFrame'>\n",
      "RangeIndex: 1337 entries, 0 to 1336\n",
      "Data columns (total 10 columns):\n",
      " #   Column                Non-Null Count  Dtype   \n",
      "---  ------                --------------  -----   \n",
      " 0   age                   1337 non-null   int64   \n",
      " 1   sex                   1337 non-null   category\n",
      " 2   bmi                   1337 non-null   float64 \n",
      " 3   children              1337 non-null   int64   \n",
      " 4   smoker                1337 non-null   category\n",
      " 5   region                1337 non-null   category\n",
      " 6   charges               1337 non-null   float64 \n",
      " 7   bmi_category          1337 non-null   category\n",
      " 8   age_group             1337 non-null   category\n",
      " 9   family_size_category  1337 non-null   category\n",
      "dtypes: category(6), float64(2), int64(2)\n",
      "memory usage: 50.8 KB\n"
     ]
    },
    {
     "data": {
      "application/vnd.microsoft.datawrangler.viewer.v0+json": {
       "columns": [
        {
         "name": "index",
         "rawType": "object",
         "type": "string"
        },
        {
         "name": "age",
         "rawType": "float64",
         "type": "float"
        },
        {
         "name": "sex",
         "rawType": "object",
         "type": "unknown"
        },
        {
         "name": "bmi",
         "rawType": "float64",
         "type": "float"
        },
        {
         "name": "children",
         "rawType": "float64",
         "type": "float"
        },
        {
         "name": "smoker",
         "rawType": "object",
         "type": "unknown"
        },
        {
         "name": "region",
         "rawType": "object",
         "type": "unknown"
        },
        {
         "name": "charges",
         "rawType": "float64",
         "type": "float"
        },
        {
         "name": "bmi_category",
         "rawType": "object",
         "type": "unknown"
        },
        {
         "name": "age_group",
         "rawType": "object",
         "type": "unknown"
        },
        {
         "name": "family_size_category",
         "rawType": "object",
         "type": "unknown"
        }
       ],
       "ref": "8d4dd0e5-aa3a-441a-8118-737dc91ba07c",
       "rows": [
        [
         "count",
         "1337.0",
         "1337",
         "1337.0",
         "1337.0",
         "1337",
         "1337",
         "1337.0",
         "1337",
         "1337",
         "1337"
        ],
        [
         "unique",
         null,
         "2",
         null,
         null,
         "2",
         "4",
         null,
         "5",
         "5",
         "4"
        ],
        [
         "top",
         null,
         "male",
         null,
         null,
         "no",
         "southeast",
         null,
         "Obese",
         "18-25",
         "No Children"
        ],
        [
         "freq",
         null,
         "675",
         null,
         null,
         "1063",
         "364",
         null,
         "622",
         "305",
         "573"
        ],
        [
         "mean",
         "39.222139117427076",
         null,
         "30.66345175766642",
         "1.0957367240089753",
         null,
         null,
         "13279.121486655948",
         null,
         null,
         null
        ],
        [
         "std",
         "14.044332734156425",
         null,
         "6.100468409615801",
         "1.2055714286412176",
         null,
         null,
         "12110.359656344175",
         null,
         null,
         null
        ],
        [
         "min",
         "18.0",
         null,
         "15.96",
         "0.0",
         null,
         null,
         "1121.8739",
         null,
         null,
         null
        ],
        [
         "25%",
         "27.0",
         null,
         "26.29",
         "0.0",
         null,
         null,
         "4746.344",
         null,
         null,
         null
        ],
        [
         "50%",
         "39.0",
         null,
         "30.4",
         "1.0",
         null,
         null,
         "9386.1613",
         null,
         null,
         null
        ],
        [
         "75%",
         "51.0",
         null,
         "34.7",
         "2.0",
         null,
         null,
         "16657.71745",
         null,
         null,
         null
        ],
        [
         "max",
         "64.0",
         null,
         "53.13",
         "5.0",
         null,
         null,
         "63770.42801",
         null,
         null,
         null
        ]
       ],
       "shape": {
        "columns": 10,
        "rows": 11
       }
      },
      "text/html": [
       "<div>\n",
       "<style scoped>\n",
       "    .dataframe tbody tr th:only-of-type {\n",
       "        vertical-align: middle;\n",
       "    }\n",
       "\n",
       "    .dataframe tbody tr th {\n",
       "        vertical-align: top;\n",
       "    }\n",
       "\n",
       "    .dataframe thead th {\n",
       "        text-align: right;\n",
       "    }\n",
       "</style>\n",
       "<table border=\"1\" class=\"dataframe\">\n",
       "  <thead>\n",
       "    <tr style=\"text-align: right;\">\n",
       "      <th></th>\n",
       "      <th>age</th>\n",
       "      <th>sex</th>\n",
       "      <th>bmi</th>\n",
       "      <th>children</th>\n",
       "      <th>smoker</th>\n",
       "      <th>region</th>\n",
       "      <th>charges</th>\n",
       "      <th>bmi_category</th>\n",
       "      <th>age_group</th>\n",
       "      <th>family_size_category</th>\n",
       "    </tr>\n",
       "  </thead>\n",
       "  <tbody>\n",
       "    <tr>\n",
       "      <th>count</th>\n",
       "      <td>1337.000000</td>\n",
       "      <td>1337</td>\n",
       "      <td>1337.000000</td>\n",
       "      <td>1337.000000</td>\n",
       "      <td>1337</td>\n",
       "      <td>1337</td>\n",
       "      <td>1337.000000</td>\n",
       "      <td>1337</td>\n",
       "      <td>1337</td>\n",
       "      <td>1337</td>\n",
       "    </tr>\n",
       "    <tr>\n",
       "      <th>unique</th>\n",
       "      <td>NaN</td>\n",
       "      <td>2</td>\n",
       "      <td>NaN</td>\n",
       "      <td>NaN</td>\n",
       "      <td>2</td>\n",
       "      <td>4</td>\n",
       "      <td>NaN</td>\n",
       "      <td>5</td>\n",
       "      <td>5</td>\n",
       "      <td>4</td>\n",
       "    </tr>\n",
       "    <tr>\n",
       "      <th>top</th>\n",
       "      <td>NaN</td>\n",
       "      <td>male</td>\n",
       "      <td>NaN</td>\n",
       "      <td>NaN</td>\n",
       "      <td>no</td>\n",
       "      <td>southeast</td>\n",
       "      <td>NaN</td>\n",
       "      <td>Obese</td>\n",
       "      <td>18-25</td>\n",
       "      <td>No Children</td>\n",
       "    </tr>\n",
       "    <tr>\n",
       "      <th>freq</th>\n",
       "      <td>NaN</td>\n",
       "      <td>675</td>\n",
       "      <td>NaN</td>\n",
       "      <td>NaN</td>\n",
       "      <td>1063</td>\n",
       "      <td>364</td>\n",
       "      <td>NaN</td>\n",
       "      <td>622</td>\n",
       "      <td>305</td>\n",
       "      <td>573</td>\n",
       "    </tr>\n",
       "    <tr>\n",
       "      <th>mean</th>\n",
       "      <td>39.222139</td>\n",
       "      <td>NaN</td>\n",
       "      <td>30.663452</td>\n",
       "      <td>1.095737</td>\n",
       "      <td>NaN</td>\n",
       "      <td>NaN</td>\n",
       "      <td>13279.121487</td>\n",
       "      <td>NaN</td>\n",
       "      <td>NaN</td>\n",
       "      <td>NaN</td>\n",
       "    </tr>\n",
       "    <tr>\n",
       "      <th>std</th>\n",
       "      <td>14.044333</td>\n",
       "      <td>NaN</td>\n",
       "      <td>6.100468</td>\n",
       "      <td>1.205571</td>\n",
       "      <td>NaN</td>\n",
       "      <td>NaN</td>\n",
       "      <td>12110.359656</td>\n",
       "      <td>NaN</td>\n",
       "      <td>NaN</td>\n",
       "      <td>NaN</td>\n",
       "    </tr>\n",
       "    <tr>\n",
       "      <th>min</th>\n",
       "      <td>18.000000</td>\n",
       "      <td>NaN</td>\n",
       "      <td>15.960000</td>\n",
       "      <td>0.000000</td>\n",
       "      <td>NaN</td>\n",
       "      <td>NaN</td>\n",
       "      <td>1121.873900</td>\n",
       "      <td>NaN</td>\n",
       "      <td>NaN</td>\n",
       "      <td>NaN</td>\n",
       "    </tr>\n",
       "    <tr>\n",
       "      <th>25%</th>\n",
       "      <td>27.000000</td>\n",
       "      <td>NaN</td>\n",
       "      <td>26.290000</td>\n",
       "      <td>0.000000</td>\n",
       "      <td>NaN</td>\n",
       "      <td>NaN</td>\n",
       "      <td>4746.344000</td>\n",
       "      <td>NaN</td>\n",
       "      <td>NaN</td>\n",
       "      <td>NaN</td>\n",
       "    </tr>\n",
       "    <tr>\n",
       "      <th>50%</th>\n",
       "      <td>39.000000</td>\n",
       "      <td>NaN</td>\n",
       "      <td>30.400000</td>\n",
       "      <td>1.000000</td>\n",
       "      <td>NaN</td>\n",
       "      <td>NaN</td>\n",
       "      <td>9386.161300</td>\n",
       "      <td>NaN</td>\n",
       "      <td>NaN</td>\n",
       "      <td>NaN</td>\n",
       "    </tr>\n",
       "    <tr>\n",
       "      <th>75%</th>\n",
       "      <td>51.000000</td>\n",
       "      <td>NaN</td>\n",
       "      <td>34.700000</td>\n",
       "      <td>2.000000</td>\n",
       "      <td>NaN</td>\n",
       "      <td>NaN</td>\n",
       "      <td>16657.717450</td>\n",
       "      <td>NaN</td>\n",
       "      <td>NaN</td>\n",
       "      <td>NaN</td>\n",
       "    </tr>\n",
       "    <tr>\n",
       "      <th>max</th>\n",
       "      <td>64.000000</td>\n",
       "      <td>NaN</td>\n",
       "      <td>53.130000</td>\n",
       "      <td>5.000000</td>\n",
       "      <td>NaN</td>\n",
       "      <td>NaN</td>\n",
       "      <td>63770.428010</td>\n",
       "      <td>NaN</td>\n",
       "      <td>NaN</td>\n",
       "      <td>NaN</td>\n",
       "    </tr>\n",
       "  </tbody>\n",
       "</table>\n",
       "</div>"
      ],
      "text/plain": [
       "                age   sex          bmi     children smoker     region  \\\n",
       "count   1337.000000  1337  1337.000000  1337.000000   1337       1337   \n",
       "unique          NaN     2          NaN          NaN      2          4   \n",
       "top             NaN  male          NaN          NaN     no  southeast   \n",
       "freq            NaN   675          NaN          NaN   1063        364   \n",
       "mean      39.222139   NaN    30.663452     1.095737    NaN        NaN   \n",
       "std       14.044333   NaN     6.100468     1.205571    NaN        NaN   \n",
       "min       18.000000   NaN    15.960000     0.000000    NaN        NaN   \n",
       "25%       27.000000   NaN    26.290000     0.000000    NaN        NaN   \n",
       "50%       39.000000   NaN    30.400000     1.000000    NaN        NaN   \n",
       "75%       51.000000   NaN    34.700000     2.000000    NaN        NaN   \n",
       "max       64.000000   NaN    53.130000     5.000000    NaN        NaN   \n",
       "\n",
       "             charges bmi_category age_group family_size_category  \n",
       "count    1337.000000         1337      1337                 1337  \n",
       "unique           NaN            5         5                    4  \n",
       "top              NaN        Obese     18-25          No Children  \n",
       "freq             NaN          622       305                  573  \n",
       "mean    13279.121487          NaN       NaN                  NaN  \n",
       "std     12110.359656          NaN       NaN                  NaN  \n",
       "min      1121.873900          NaN       NaN                  NaN  \n",
       "25%      4746.344000          NaN       NaN                  NaN  \n",
       "50%      9386.161300          NaN       NaN                  NaN  \n",
       "75%     16657.717450          NaN       NaN                  NaN  \n",
       "max     63770.428010          NaN       NaN                  NaN  "
      ]
     },
     "execution_count": 5,
     "metadata": {},
     "output_type": "execute_result"
    }
   ],
   "source": [
    "df.info()\n",
    "df.describe(include='all')"
   ]
  },
  {
   "cell_type": "markdown",
   "id": "687b620e",
   "metadata": {},
   "source": [
    "### Observations:\n",
    "- The dataset contains continuous variables (age, bmi, charges, children) and categorical variables (sex, smoker, region, bmi_category, age_group, family_size_category).\n",
    "- No missing values remain after ETL cleaning.\n",
    "- charges has a wide range and likely includes outliers."
   ]
  },
  {
   "cell_type": "markdown",
   "id": "cfbe39c2",
   "metadata": {},
   "source": [
    "---"
   ]
  },
  {
   "cell_type": "markdown",
   "id": "d4779d8a",
   "metadata": {},
   "source": [
    "# General Distribution of Numeric Features"
   ]
  },
  {
   "cell_type": "code",
   "execution_count": 6,
   "id": "3eb616e5",
   "metadata": {},
   "outputs": [
    {
     "data": {
      "image/png": "[encoded data removed]",
      "text/plain": [
       "<Figure size 1000x600 with 4 Axes>"
      ]
     },
     "metadata": {},
     "output_type": "display_data"
    }
   ],
   "source": [
    "numeric_features = ['age', 'bmi', 'children', 'charges']\n",
    "\n",
    "df[numeric_features].hist(bins=20, figsize=(10, 6), layout=(2, 2))\n",
    "plt.suptitle(\"Distribution of Numeric Features\", fontsize=14)\n",
    "plt.tight_layout(rect=[0, 0, 1, 0.96])\n",
    "plt.show()\n"
   ]
  },
  {
   "cell_type": "markdown",
   "id": "cc8e2e26",
   "metadata": {},
   "source": [
    "### Observations:\n",
    "- Age appears evenly distributed.\n",
    "- BMI is slightly right-skewed, centred around 25–35.\n",
    "- Children mostly between 0–2 dependents.\n",
    "- Charges show a long right tail — a small subset pay extremely high amounts."
   ]
  },
  {
   "cell_type": "markdown",
   "id": "ca925386",
   "metadata": {},
   "source": [
    "# Outlier Detection with Boxplots"
   ]
  },
  {
   "cell_type": "code",
   "execution_count": 7,
   "id": "1781b25c",
   "metadata": {},
   "outputs": [
    {
     "data": {
      "image/png": "[encoded data removed]",
      "text/plain": [
       "<Figure size 1000x800 with 4 Axes>"
      ]
     },
     "metadata": {},
     "output_type": "display_data"
    }
   ],
   "source": [
    "numeric_features = ['age', 'bmi', 'children', 'charges']\n",
    "\n",
    "fig, axes = plt.subplots(nrows=2, ncols=2, figsize=(10, 8))\n",
    "axes = axes.flatten()\n",
    "\n",
    "for i, col in enumerate(numeric_features):\n",
    "    sns.boxplot(x=df[col], ax=axes[i], color='skyblue')\n",
    "    axes[i].set_title(f\"Boxplot of {col.capitalize()}\")\n",
    "    axes[i].set_xlabel(col.capitalize())\n",
    "\n",
    "plt.suptitle(\"Outlier Detection Across Numeric Features\", fontsize=14)\n",
    "plt.tight_layout(rect=[0, 0, 1, 0.97])\n",
    "plt.show()\n"
   ]
  },
  {
   "cell_type": "markdown",
   "id": "905b7407",
   "metadata": {},
   "source": [
    "### Observations:\n",
    "- charges and bmi show visible outliers.\n",
    "- The distribution suggests a few high-cost individuals likely linked to smoking or chronic illness."
   ]
  },
  {
   "cell_type": "markdown",
   "id": "669bc34d",
   "metadata": {},
   "source": [
    "---"
   ]
  },
  {
   "cell_type": "markdown",
   "id": "531934d5",
   "metadata": {},
   "source": [
    "# Categorical Feature Distributions"
   ]
  },
  {
   "cell_type": "code",
   "execution_count": 9,
   "id": "de595c22",
   "metadata": {},
   "outputs": [
    {
     "data": {
      "application/vnd.plotly.v1+json": {
       "config": {
        "plotlyServerURL": "https://plot.ly"
       },
       "data": [
        {
         "alignmentgroup": "True",
         "hovertemplate": "Sex=%{x}<br>Count=%{y}<extra></extra>",
         "legendgroup": "male",
         "marker": {
          "color": "#636efa",
          "pattern": {
           "shape": ""
          }
         },
         "name": "male",
         "offsetgroup": "male",
         "orientation": "v",
         "showlegend": true,
         "textposition": "auto",
         "type": "bar",
         "x": [
          "male"
         ],
         "xaxis": "x",
         "y": [
          675
         ],
         "yaxis": "y"
        },
        {
         "alignmentgroup": "True",
         "hovertemplate": "Sex=%{x}<br>Count=%{y}<extra></extra>",
         "legendgroup": "female",
         "marker": {
          "color": "#EF553B",
          "pattern": {
           "shape": ""
          }
         },
         "name": "female",
         "offsetgroup": "female",
         "orientation": "v",
         "showlegend": true,
         "textposition": "auto",
         "type": "bar",
         "x": [
          "female"
         ],
         "xaxis": "x",
         "y": [
          662
         ],
         "yaxis": "y"
        }
       ],
       "layout": {
        "barmode": "relative",
        "legend": {
         "title": {
          "text": "Sex"
         },
         "tracegroupgap": 0
        },
        "template": {
         "data": {
          "bar": [
           {
            "error_x": {
             "color": "#2a3f5f"
            },
            "error_y": {
             "color": "#2a3f5f"
            },
            "marker": {
             "line": {
              "color": "#E5ECF6",
              "width": 0.5
             },
             "pattern": {
              "fillmode": "overlay",
              "size": 10,
              "solidity": 0.2
             }
            },
            "type": "bar"
           }
          ],
          "barpolar": [
           {
            "marker": {
             "line": {
              "color": "#E5ECF6",
              "width": 0.5
             },
             "pattern": {
              "fillmode": "overlay",
              "size": 10,
              "solidity": 0.2
             }
            },
            "type": "barpolar"
           }
          ],
          "carpet": [
           {
            "aaxis": {
             "endlinecolor": "#2a3f5f",
             "gridcolor": "white",
             "linecolor": "white",
             "minorgridcolor": "white",
             "startlinecolor": "#2a3f5f"
            },
            "baxis": {
             "endlinecolor": "#2a3f5f",
             "gridcolor": "white",
             "linecolor": "white",
             "minorgridcolor": "white",
             "startlinecolor": "#2a3f5f"
            },
            "type": "carpet"
           }
          ],
          "choropleth": [
           {
            "colorbar": {
             "outlinewidth": 0,
             "ticks": ""
            },
            "type": "choropleth"
           }
          ],
          "contour": [
           {
            "colorbar": {
             "outlinewidth": 0,
             "ticks": ""
            },
            "colorscale": [
             [
              0,
              "#0d0887"
             ],
             [
              0.1111111111111111,
              "#46039f"
             ],
             [
              0.2222222222222222,
              "#7201a8"
             ],
             [
              0.3333333333333333,
              "#9c179e"
             ],
             [
              0.4444444444444444,
              "#bd3786"
             ],
             [
              0.5555555555555556,
              "#d8576b"
             ],
             [
              0.6666666666666666,
              "#ed7953"
             ],
             [
              0.7777777777777778,
              "#fb9f3a"
             ],
             [
              0.8888888888888888,
              "#fdca26"
             ],
             [
              1,
              "#f0f921"
             ]
            ],
            "type": "contour"
           }
          ],
          "contourcarpet": [
           {
            "colorbar": {
             "outlinewidth": 0,
             "ticks": ""
            },
            "type": "contourcarpet"
           }
          ],
          "heatmap": [
           {
            "colorbar": {
             "outlinewidth": 0,
             "ticks": ""
            },
            "colorscale": [
             [
              0,
              "#0d0887"
             ],
             [
              0.1111111111111111,
              "#46039f"
             ],
             [
              0.2222222222222222,
              "#7201a8"
             ],
             [
              0.3333333333333333,
              "#9c179e"
             ],
             [
              0.4444444444444444,
              "#bd3786"
             ],
             [
              0.5555555555555556,
              "#d8576b"
             ],
             [
              0.6666666666666666,
              "#ed7953"
             ],
             [
              0.7777777777777778,
              "#fb9f3a"
             ],
             [
              0.8888888888888888,
              "#fdca26"
             ],
             [
              1,
              "#f0f921"
             ]
            ],
            "type": "heatmap"
           }
          ],
          "heatmapgl": [
           {
            "colorbar": {
             "outlinewidth": 0,
             "ticks": ""
            },
            "colorscale": [
             [
              0,
              "#0d0887"
             ],
             [
              0.1111111111111111,
              "#46039f"
             ],
             [
              0.2222222222222222,
              "#7201a8"
             ],
             [
              0.3333333333333333,
              "#9c179e"
             ],
             [
              0.4444444444444444,
              "#bd3786"
             ],
             [
              0.5555555555555556,
              "#d8576b"
             ],
             [
              0.6666666666666666,
              "#ed7953"
             ],
             [
              0.7777777777777778,
              "#fb9f3a"
             ],
             [
              0.8888888888888888,
              "#fdca26"
             ],
             [
              1,
              "#f0f921"
             ]
            ],
            "type": "heatmapgl"
           }
          ],
          "histogram": [
           {
            "marker": {
             "pattern": {
              "fillmode": "overlay",
              "size": 10,
              "solidity": 0.2
             }
            },
            "type": "histogram"
           }
          ],
          "histogram2d": [
           {
            "colorbar": {
             "outlinewidth": 0,
             "ticks": ""
            },
            "colorscale": [
             [
              0,
              "#0d0887"
             ],
             [
              0.1111111111111111,
              "#46039f"
             ],
             [
              0.2222222222222222,
              "#7201a8"
             ],
             [
              0.3333333333333333,
              "#9c179e"
             ],
             [
              0.4444444444444444,
              "#bd3786"
             ],
             [
              0.5555555555555556,
              "#d8576b"
             ],
             [
              0.6666666666666666,
              "#ed7953"
             ],
             [
              0.7777777777777778,
              "#fb9f3a"
             ],
             [
              0.8888888888888888,
              "#fdca26"
             ],
             [
              1,
              "#f0f921"
             ]
            ],
            "type": "histogram2d"
           }
          ],
          "histogram2dcontour": [
           {
            "colorbar": {
             "outlinewidth": 0,
             "ticks": ""
            },
            "colorscale": [
             [
              0,
              "#0d0887"
             ],
             [
              0.1111111111111111,
              "#46039f"
             ],
             [
              0.2222222222222222,
              "#7201a8"
             ],
             [
              0.3333333333333333,
              "#9c179e"
             ],
             [
              0.4444444444444444,
              "#bd3786"
             ],
             [
              0.5555555555555556,
              "#d8576b"
             ],
             [
              0.6666666666666666,
              "#ed7953"
             ],
             [
              0.7777777777777778,
              "#fb9f3a"
             ],
             [
              0.8888888888888888,
              "#fdca26"
             ],
             [
              1,
              "#f0f921"
             ]
            ],
            "type": "histogram2dcontour"
           }
          ],
          "mesh3d": [
           {
            "colorbar": {
             "outlinewidth": 0,
             "ticks": ""
            },
            "type": "mesh3d"
           }
          ],
          "parcoords": [
           {
            "line": {
             "colorbar": {
              "outlinewidth": 0,
              "ticks": ""
             }
            },
            "type": "parcoords"
           }
          ],
          "pie": [
           {
            "automargin": true,
            "type": "pie"
           }
          ],
          "scatter": [
           {
            "fillpattern": {
             "fillmode": "overlay",
             "size": 10,
             "solidity": 0.2
            },
            "type": "scatter"
           }
          ],
          "scatter3d": [
           {
            "line": {
             "colorbar": {
              "outlinewidth": 0,
              "ticks": ""
             }
            },
            "marker": {
             "colorbar": {
              "outlinewidth": 0,
              "ticks": ""
             }
            },
            "type": "scatter3d"
           }
          ],
          "scattercarpet": [
           {
            "marker": {
             "colorbar": {
              "outlinewidth": 0,
              "ticks": ""
             }
            },
            "type": "scattercarpet"
           }
          ],
          "scattergeo": [
           {
            "marker": {
             "colorbar": {
              "outlinewidth": 0,
              "ticks": ""
             }
            },
            "type": "scattergeo"
           }
          ],
          "scattergl": [
           {
            "marker": {
             "colorbar": {
              "outlinewidth": 0,
              "ticks": ""
             }
            },
            "type": "scattergl"
           }
          ],
          "scattermapbox": [
           {
            "marker": {
             "colorbar": {
              "outlinewidth": 0,
              "ticks": ""
             }
            },
            "type": "scattermapbox"
           }
          ],
          "scatterpolar": [
           {
            "marker": {
             "colorbar": {
              "outlinewidth": 0,
              "ticks": ""
             }
            },
            "type": "scatterpolar"
           }
          ],
          "scatterpolargl": [
           {
            "marker": {
             "colorbar": {
              "outlinewidth": 0,
              "ticks": ""
             }
            },
            "type": "scatterpolargl"
           }
          ],
          "scatterternary": [
           {
            "marker": {
             "colorbar": {
              "outlinewidth": 0,
              "ticks": ""
             }
            },
            "type": "scatterternary"
           }
          ],
          "surface": [
           {
            "colorbar": {
             "outlinewidth": 0,
             "ticks": ""
            },
            "colorscale": [
             [
              0,
              "#0d0887"
             ],
             [
              0.1111111111111111,
              "#46039f"
             ],
             [
              0.2222222222222222,
              "#7201a8"
             ],
             [
              0.3333333333333333,
              "#9c179e"
             ],
             [
              0.4444444444444444,
              "#bd3786"
             ],
             [
              0.5555555555555556,
              "#d8576b"
             ],
             [
              0.6666666666666666,
              "#ed7953"
             ],
             [
              0.7777777777777778,
              "#fb9f3a"
             ],
             [
              0.8888888888888888,
              "#fdca26"
             ],
             [
              1,
              "#f0f921"
             ]
            ],
            "type": "surface"
           }
          ],
          "table": [
           {
            "cells": {
             "fill": {
              "color": "#EBF0F8"
             },
             "line": {
              "color": "white"
             }
            },
            "header": {
             "fill": {
              "color": "#C8D4E3"
             },
             "line": {
              "color": "white"
             }
            },
            "type": "table"
           }
          ]
         },
         "layout": {
          "annotationdefaults": {
           "arrowcolor": "#2a3f5f",
           "arrowhead": 0,
           "arrowwidth": 1
          },
          "autotypenumbers": "strict",
          "coloraxis": {
           "colorbar": {
            "outlinewidth": 0,
            "ticks": ""
           }
          },
          "colorscale": {
           "diverging": [
            [
             0,
             "#8e0152"
            ],
            [
             0.1,
             "#c51b7d"
            ],
            [
             0.2,
             "#de77ae"
            ],
            [
             0.3,
             "#f1b6da"
            ],
            [
             0.4,
             "#fde0ef"
            ],
            [
             0.5,
             "#f7f7f7"
            ],
            [
             0.6,
             "#e6f5d0"
            ],
            [
             0.7,
             "#b8e186"
            ],
            [
             0.8,
             "#7fbc41"
            ],
            [
             0.9,
             "#4d9221"
            ],
            [
             1,
             "#276419"
            ]
           ],
           "sequential": [
            [
             0,
             "#0d0887"
            ],
            [
             0.1111111111111111,
             "#46039f"
            ],
            [
             0.2222222222222222,
             "#7201a8"
            ],
            [
             0.3333333333333333,
             "#9c179e"
            ],
            [
             0.4444444444444444,
             "#bd3786"
            ],
            [
             0.5555555555555556,
             "#d8576b"
            ],
            [
             0.6666666666666666,
             "#ed7953"
            ],
            [
             0.7777777777777778,
             "#fb9f3a"
            ],
            [
             0.8888888888888888,
             "#fdca26"
            ],
            [
             1,
             "#f0f921"
            ]
           ],
           "sequentialminus": [
            [
             0,
             "#0d0887"
            ],
            [
             0.1111111111111111,
             "#46039f"
            ],
            [
             0.2222222222222222,
             "#7201a8"
            ],
            [
             0.3333333333333333,
             "#9c179e"
            ],
            [
             0.4444444444444444,
             "#bd3786"
            ],
            [
             0.5555555555555556,
             "#d8576b"
            ],
            [
             0.6666666666666666,
             "#ed7953"
            ],
            [
             0.7777777777777778,
             "#fb9f3a"
            ],
            [
             0.8888888888888888,
             "#fdca26"
            ],
            [
             1,
             "#f0f921"
            ]
           ]
          },
          "colorway": [
           "#636efa",
           "#EF553B",
           "#00cc96",
           "#ab63fa",
           "#FFA15A",
           "#19d3f3",
           "#FF6692",
           "#B6E880",
           "#FF97FF",
           "#FECB52"
          ],
          "font": {
           "color": "#2a3f5f"
          },
          "geo": {
           "bgcolor": "white",
           "lakecolor": "white",
           "landcolor": "#E5ECF6",
           "showlakes": true,
           "showland": true,
           "subunitcolor": "white"
          },
          "hoverlabel": {
           "align": "left"
          },
          "hovermode": "closest",
          "mapbox": {
           "style": "light"
          },
          "paper_bgcolor": "white",
          "plot_bgcolor": "#E5ECF6",
          "polar": {
           "angularaxis": {
            "gridcolor": "white",
            "linecolor": "white",
            "ticks": ""
           },
           "bgcolor": "#E5ECF6",
           "radialaxis": {
            "gridcolor": "white",
            "linecolor": "white",
            "ticks": ""
           }
          },
          "scene": {
           "xaxis": {
            "backgroundcolor": "#E5ECF6",
            "gridcolor": "white",
            "gridwidth": 2,
            "linecolor": "white",
            "showbackground": true,
            "ticks": "",
            "zerolinecolor": "white"
           },
           "yaxis": {
            "backgroundcolor": "#E5ECF6",
            "gridcolor": "white",
            "gridwidth": 2,
            "linecolor": "white",
            "showbackground": true,
            "ticks": "",
            "zerolinecolor": "white"
           },
           "zaxis": {
            "backgroundcolor": "#E5ECF6",
            "gridcolor": "white",
            "gridwidth": 2,
            "linecolor": "white",
            "showbackground": true,
            "ticks": "",
            "zerolinecolor": "white"
           }
          },
          "shapedefaults": {
           "line": {
            "color": "#2a3f5f"
           }
          },
          "ternary": {
           "aaxis": {
            "gridcolor": "white",
            "linecolor": "white",
            "ticks": ""
           },
           "baxis": {
            "gridcolor": "white",
            "linecolor": "white",
            "ticks": ""
           },
           "bgcolor": "#E5ECF6",
           "caxis": {
            "gridcolor": "white",
            "linecolor": "white",
            "ticks": ""
           }
          },
          "title": {
           "x": 0.05
          },
          "xaxis": {
           "automargin": true,
           "gridcolor": "white",
           "linecolor": "white",
           "ticks": "",
           "title": {
            "standoff": 15
           },
           "zerolinecolor": "white",
           "zerolinewidth": 2
          },
          "yaxis": {
           "automargin": true,
           "gridcolor": "white",
           "linecolor": "white",
           "ticks": "",
           "title": {
            "standoff": 15
           },
           "zerolinecolor": "white",
           "zerolinewidth": 2
          }
         }
        },
        "title": {
         "text": "Distribution of Sex"
        },
        "xaxis": {
         "anchor": "y",
         "categoryarray": [
          "male",
          "female"
         ],
         "categoryorder": "array",
         "domain": [
          0,
          1
         ],
         "title": {
          "text": "Sex"
         }
        },
        "yaxis": {
         "anchor": "x",
         "domain": [
          0,
          1
         ],
         "title": {
          "text": "Count"
         }
        }
       }
      }
     },
     "metadata": {},
     "output_type": "display_data"
    },
    {
     "data": {
      "application/vnd.plotly.v1+json": {
       "config": {
        "plotlyServerURL": "https://plot.ly"
       },
       "data": [
        {
         "alignmentgroup": "True",
         "hovertemplate": "Smoker=%{x}<br>Count=%{y}<extra></extra>",
         "legendgroup": "no",
         "marker": {
          "color": "#636efa",
          "pattern": {
           "shape": ""
          }
         },
         "name": "no",
         "offsetgroup": "no",
         "orientation": "v",
         "showlegend": true,
         "textposition": "auto",
         "type": "bar",
         "x": [
          "no"
         ],
         "xaxis": "x",
         "y": [
          1063
         ],
         "yaxis": "y"
        },
        {
         "alignmentgroup": "True",
         "hovertemplate": "Smoker=%{x}<br>Count=%{y}<extra></extra>",
         "legendgroup": "yes",
         "marker": {
          "color": "#EF553B",
          "pattern": {
           "shape": ""
          }
         },
         "name": "yes",
         "offsetgroup": "yes",
         "orientation": "v",
         "showlegend": true,
         "textposition": "auto",
         "type": "bar",
         "x": [
          "yes"
         ],
         "xaxis": "x",
         "y": [
          274
         ],
         "yaxis": "y"
        }
       ],
       "layout": {
        "barmode": "relative",
        "legend": {
         "title": {
          "text": "Smoker"
         },
         "tracegroupgap": 0
        },
        "template": {
         "data": {
          "bar": [
           {
            "error_x": {
             "color": "#2a3f5f"
            },
            "error_y": {
             "color": "#2a3f5f"
            },
            "marker": {
             "line": {
              "color": "#E5ECF6",
              "width": 0.5
             },
             "pattern": {
              "fillmode": "overlay",
              "size": 10,
              "solidity": 0.2
             }
            },
            "type": "bar"
           }
          ],
          "barpolar": [
           {
            "marker": {
             "line": {
              "color": "#E5ECF6",
              "width": 0.5
             },
             "pattern": {
              "fillmode": "overlay",
              "size": 10,
              "solidity": 0.2
             }
            },
            "type": "barpolar"
           }
          ],
          "carpet": [
           {
            "aaxis": {
             "endlinecolor": "#2a3f5f",
             "gridcolor": "white",
             "linecolor": "white",
             "minorgridcolor": "white",
             "startlinecolor": "#2a3f5f"
            },
            "baxis": {
             "endlinecolor": "#2a3f5f",
             "gridcolor": "white",
             "linecolor": "white",
             "minorgridcolor": "white",
             "startlinecolor": "#2a3f5f"
            },
            "type": "carpet"
           }
          ],
          "choropleth": [
           {
            "colorbar": {
             "outlinewidth": 0,
             "ticks": ""
            },
            "type": "choropleth"
           }
          ],
          "contour": [
           {
            "colorbar": {
             "outlinewidth": 0,
             "ticks": ""
            },
            "colorscale": [
             [
              0,
              "#0d0887"
             ],
             [
              0.1111111111111111,
              "#46039f"
             ],
             [
              0.2222222222222222,
              "#7201a8"
             ],
             [
              0.3333333333333333,
              "#9c179e"
             ],
             [
              0.4444444444444444,
              "#bd3786"
             ],
             [
              0.5555555555555556,
              "#d8576b"
             ],
             [
              0.6666666666666666,
              "#ed7953"
             ],
             [
              0.7777777777777778,
              "#fb9f3a"
             ],
             [
              0.8888888888888888,
              "#fdca26"
             ],
             [
              1,
              "#f0f921"
             ]
            ],
            "type": "contour"
           }
          ],
          "contourcarpet": [
           {
            "colorbar": {
             "outlinewidth": 0,
             "ticks": ""
            },
            "type": "contourcarpet"
           }
          ],
          "heatmap": [
           {
            "colorbar": {
             "outlinewidth": 0,
             "ticks": ""
            },
            "colorscale": [
             [
              0,
              "#0d0887"
             ],
             [
              0.1111111111111111,
              "#46039f"
             ],
             [
              0.2222222222222222,
              "#7201a8"
             ],
             [
              0.3333333333333333,
              "#9c179e"
             ],
             [
              0.4444444444444444,
              "#bd3786"
             ],
             [
              0.5555555555555556,
              "#d8576b"
             ],
             [
              0.6666666666666666,
              "#ed7953"
             ],
             [
              0.7777777777777778,
              "#fb9f3a"
             ],
             [
              0.8888888888888888,
              "#fdca26"
             ],
             [
              1,
              "#f0f921"
             ]
            ],
            "type": "heatmap"
           }
          ],
          "heatmapgl": [
           {
            "colorbar": {
             "outlinewidth": 0,
             "ticks": ""
            },
            "colorscale": [
             [
              0,
              "#0d0887"
             ],
             [
              0.1111111111111111,
              "#46039f"
             ],
             [
              0.2222222222222222,
              "#7201a8"
             ],
             [
              0.3333333333333333,
              "#9c179e"
             ],
             [
              0.4444444444444444,
              "#bd3786"
             ],
             [
              0.5555555555555556,
              "#d8576b"
             ],
             [
              0.6666666666666666,
              "#ed7953"
             ],
             [
              0.7777777777777778,
              "#fb9f3a"
             ],
             [
              0.8888888888888888,
              "#fdca26"
             ],
             [
              1,
              "#f0f921"
             ]
            ],
            "type": "heatmapgl"
           }
          ],
          "histogram": [
           {
            "marker": {
             "pattern": {
              "fillmode": "overlay",
              "size": 10,
              "solidity": 0.2
             }
            },
            "type": "histogram"
           }
          ],
          "histogram2d": [
           {
            "colorbar": {
             "outlinewidth": 0,
             "ticks": ""
            },
            "colorscale": [
             [
              0,
              "#0d0887"
             ],
             [
              0.1111111111111111,
              "#46039f"
             ],
             [
              0.2222222222222222,
              "#7201a8"
             ],
             [
              0.3333333333333333,
              "#9c179e"
             ],
             [
              0.4444444444444444,
              "#bd3786"
             ],
             [
              0.5555555555555556,
              "#d8576b"
             ],
             [
              0.6666666666666666,
              "#ed7953"
             ],
             [
              0.7777777777777778,
              "#fb9f3a"
             ],
             [
              0.8888888888888888,
              "#fdca26"
             ],
             [
              1,
              "#f0f921"
             ]
            ],
            "type": "histogram2d"
           }
          ],
          "histogram2dcontour": [
           {
            "colorbar": {
             "outlinewidth": 0,
             "ticks": ""
            },
            "colorscale": [
             [
              0,
              "#0d0887"
             ],
             [
              0.1111111111111111,
              "#46039f"
             ],
             [
              0.2222222222222222,
              "#7201a8"
             ],
             [
              0.3333333333333333,
              "#9c179e"
             ],
             [
              0.4444444444444444,
              "#bd3786"
             ],
             [
              0.5555555555555556,
              "#d8576b"
             ],
             [
              0.6666666666666666,
              "#ed7953"
             ],
             [
              0.7777777777777778,
              "#fb9f3a"
             ],
             [
              0.8888888888888888,
              "#fdca26"
             ],
             [
              1,
              "#f0f921"
             ]
            ],
            "type": "histogram2dcontour"
           }
          ],
          "mesh3d": [
           {
            "colorbar": {
             "outlinewidth": 0,
             "ticks": ""
            },
            "type": "mesh3d"
           }
          ],
          "parcoords": [
           {
            "line": {
             "colorbar": {
              "outlinewidth": 0,
              "ticks": ""
             }
            },
            "type": "parcoords"
           }
          ],
          "pie": [
           {
            "automargin": true,
            "type": "pie"
           }
          ],
          "scatter": [
           {
            "fillpattern": {
             "fillmode": "overlay",
             "size": 10,
             "solidity": 0.2
            },
            "type": "scatter"
           }
          ],
          "scatter3d": [
           {
            "line": {
             "colorbar": {
              "outlinewidth": 0,
              "ticks": ""
             }
            },
            "marker": {
             "colorbar": {
              "outlinewidth": 0,
              "ticks": ""
             }
            },
            "type": "scatter3d"
           }
          ],
          "scattercarpet": [
           {
            "marker": {
             "colorbar": {
              "outlinewidth": 0,
              "ticks": ""
             }
            },
            "type": "scattercarpet"
           }
          ],
          "scattergeo": [
           {
            "marker": {
             "colorbar": {
              "outlinewidth": 0,
              "ticks": ""
             }
            },
            "type": "scattergeo"
           }
          ],
          "scattergl": [
           {
            "marker": {
             "colorbar": {
              "outlinewidth": 0,
              "ticks": ""
             }
            },
            "type": "scattergl"
           }
          ],
          "scattermapbox": [
           {
            "marker": {
             "colorbar": {
              "outlinewidth": 0,
              "ticks": ""
             }
            },
            "type": "scattermapbox"
           }
          ],
          "scatterpolar": [
           {
            "marker": {
             "colorbar": {
              "outlinewidth": 0,
              "ticks": ""
             }
            },
            "type": "scatterpolar"
           }
          ],
          "scatterpolargl": [
           {
            "marker": {
             "colorbar": {
              "outlinewidth": 0,
              "ticks": ""
             }
            },
            "type": "scatterpolargl"
           }
          ],
          "scatterternary": [
           {
            "marker": {
             "colorbar": {
              "outlinewidth": 0,
              "ticks": ""
             }
            },
            "type": "scatterternary"
           }
          ],
          "surface": [
           {
            "colorbar": {
             "outlinewidth": 0,
             "ticks": ""
            },
            "colorscale": [
             [
              0,
              "#0d0887"
             ],
             [
              0.1111111111111111,
              "#46039f"
             ],
             [
              0.2222222222222222,
              "#7201a8"
             ],
             [
              0.3333333333333333,
              "#9c179e"
             ],
             [
              0.4444444444444444,
              "#bd3786"
             ],
             [
              0.5555555555555556,
              "#d8576b"
             ],
             [
              0.6666666666666666,
              "#ed7953"
             ],
             [
              0.7777777777777778,
              "#fb9f3a"
             ],
             [
              0.8888888888888888,
              "#fdca26"
             ],
             [
              1,
              "#f0f921"
             ]
            ],
            "type": "surface"
           }
          ],
          "table": [
           {
            "cells": {
             "fill": {
              "color": "#EBF0F8"
             },
             "line": {
              "color": "white"
             }
            },
            "header": {
             "fill": {
              "color": "#C8D4E3"
             },
             "line": {
              "color": "white"
             }
            },
            "type": "table"
           }
          ]
         },
         "layout": {
          "annotationdefaults": {
           "arrowcolor": "#2a3f5f",
           "arrowhead": 0,
           "arrowwidth": 1
          },
          "autotypenumbers": "strict",
          "coloraxis": {
           "colorbar": {
            "outlinewidth": 0,
            "ticks": ""
           }
          },
          "colorscale": {
           "diverging": [
            [
             0,
             "#8e0152"
            ],
            [
             0.1,
             "#c51b7d"
            ],
            [
             0.2,
             "#de77ae"
            ],
            [
             0.3,
             "#f1b6da"
            ],
            [
             0.4,
             "#fde0ef"
            ],
            [
             0.5,
             "#f7f7f7"
            ],
            [
             0.6,
             "#e6f5d0"
            ],
            [
             0.7,
             "#b8e186"
            ],
            [
             0.8,
             "#7fbc41"
            ],
            [
             0.9,
             "#4d9221"
            ],
            [
             1,
             "#276419"
            ]
           ],
           "sequential": [
            [
             0,
             "#0d0887"
            ],
            [
             0.1111111111111111,
             "#46039f"
            ],
            [
             0.2222222222222222,
             "#7201a8"
            ],
            [
             0.3333333333333333,
             "#9c179e"
            ],
            [
             0.4444444444444444,
             "#bd3786"
            ],
            [
             0.5555555555555556,
             "#d8576b"
            ],
            [
             0.6666666666666666,
             "#ed7953"
            ],
            [
             0.7777777777777778,
             "#fb9f3a"
            ],
            [
             0.8888888888888888,
             "#fdca26"
            ],
            [
             1,
             "#f0f921"
            ]
           ],
           "sequentialminus": [
            [
             0,
             "#0d0887"
            ],
            [
             0.1111111111111111,
             "#46039f"
            ],
            [
             0.2222222222222222,
             "#7201a8"
            ],
            [
             0.3333333333333333,
             "#9c179e"
            ],
            [
             0.4444444444444444,
             "#bd3786"
            ],
            [
             0.5555555555555556,
             "#d8576b"
            ],
            [
             0.6666666666666666,
             "#ed7953"
            ],
            [
             0.7777777777777778,
             "#fb9f3a"
            ],
            [
             0.8888888888888888,
             "#fdca26"
            ],
            [
             1,
             "#f0f921"
            ]
           ]
          },
          "colorway": [
           "#636efa",
           "#EF553B",
           "#00cc96",
           "#ab63fa",
           "#FFA15A",
           "#19d3f3",
           "#FF6692",
           "#B6E880",
           "#FF97FF",
           "#FECB52"
          ],
          "font": {
           "color": "#2a3f5f"
          },
          "geo": {
           "bgcolor": "white",
           "lakecolor": "white",
           "landcolor": "#E5ECF6",
           "showlakes": true,
           "showland": true,
           "subunitcolor": "white"
          },
          "hoverlabel": {
           "align": "left"
          },
          "hovermode": "closest",
          "mapbox": {
           "style": "light"
          },
          "paper_bgcolor": "white",
          "plot_bgcolor": "#E5ECF6",
          "polar": {
           "angularaxis": {
            "gridcolor": "white",
            "linecolor": "white",
            "ticks": ""
           },
           "bgcolor": "#E5ECF6",
           "radialaxis": {
            "gridcolor": "white",
            "linecolor": "white",
            "ticks": ""
           }
          },
          "scene": {
           "xaxis": {
            "backgroundcolor": "#E5ECF6",
            "gridcolor": "white",
            "gridwidth": 2,
            "linecolor": "white",
            "showbackground": true,
            "ticks": "",
            "zerolinecolor": "white"
           },
           "yaxis": {
            "backgroundcolor": "#E5ECF6",
            "gridcolor": "white",
            "gridwidth": 2,
            "linecolor": "white",
            "showbackground": true,
            "ticks": "",
            "zerolinecolor": "white"
           },
           "zaxis": {
            "backgroundcolor": "#E5ECF6",
            "gridcolor": "white",
            "gridwidth": 2,
            "linecolor": "white",
            "showbackground": true,
            "ticks": "",
            "zerolinecolor": "white"
           }
          },
          "shapedefaults": {
           "line": {
            "color": "#2a3f5f"
           }
          },
          "ternary": {
           "aaxis": {
            "gridcolor": "white",
            "linecolor": "white",
            "ticks": ""
           },
           "baxis": {
            "gridcolor": "white",
            "linecolor": "white",
            "ticks": ""
           },
           "bgcolor": "#E5ECF6",
           "caxis": {
            "gridcolor": "white",
            "linecolor": "white",
            "ticks": ""
           }
          },
          "title": {
           "x": 0.05
          },
          "xaxis": {
           "automargin": true,
           "gridcolor": "white",
           "linecolor": "white",
           "ticks": "",
           "title": {
            "standoff": 15
           },
           "zerolinecolor": "white",
           "zerolinewidth": 2
          },
          "yaxis": {
           "automargin": true,
           "gridcolor": "white",
           "linecolor": "white",
           "ticks": "",
           "title": {
            "standoff": 15
           },
           "zerolinecolor": "white",
           "zerolinewidth": 2
          }
         }
        },
        "title": {
         "text": "Distribution of Smoker"
        },
        "xaxis": {
         "anchor": "y",
         "categoryarray": [
          "no",
          "yes"
         ],
         "categoryorder": "array",
         "domain": [
          0,
          1
         ],
         "title": {
          "text": "Smoker"
         }
        },
        "yaxis": {
         "anchor": "x",
         "domain": [
          0,
          1
         ],
         "title": {
          "text": "Count"
         }
        }
       }
      }
     },
     "metadata": {},
     "output_type": "display_data"
    },
    {
     "data": {
      "application/vnd.plotly.v1+json": {
       "config": {
        "plotlyServerURL": "https://plot.ly"
       },
       "data": [
        {
         "alignmentgroup": "True",
         "hovertemplate": "Region=%{x}<br>Count=%{y}<extra></extra>",
         "legendgroup": "southeast",
         "marker": {
          "color": "#636efa",
          "pattern": {
           "shape": ""
          }
         },
         "name": "southeast",
         "offsetgroup": "southeast",
         "orientation": "v",
         "showlegend": true,
         "textposition": "auto",
         "type": "bar",
         "x": [
          "southeast"
         ],
         "xaxis": "x",
         "y": [
          364
         ],
         "yaxis": "y"
        },
        {
         "alignmentgroup": "True",
         "hovertemplate": "Region=%{x}<br>Count=%{y}<extra></extra>",
         "legendgroup": "southwest",
         "marker": {
          "color": "#EF553B",
          "pattern": {
           "shape": ""
          }
         },
         "name": "southwest",
         "offsetgroup": "southwest",
         "orientation": "v",
         "showlegend": true,
         "textposition": "auto",
         "type": "bar",
         "x": [
          "southwest"
         ],
         "xaxis": "x",
         "y": [
          325
         ],
         "yaxis": "y"
        },
        {
         "alignmentgroup": "True",
         "hovertemplate": "Region=%{x}<br>Count=%{y}<extra></extra>",
         "legendgroup": "northeast",
         "marker": {
          "color": "#00cc96",
          "pattern": {
           "shape": ""
          }
         },
         "name": "northeast",
         "offsetgroup": "northeast",
         "orientation": "v",
         "showlegend": true,
         "textposition": "auto",
         "type": "bar",
         "x": [
          "northeast"
         ],
         "xaxis": "x",
         "y": [
          324
         ],
         "yaxis": "y"
        },
        {
         "alignmentgroup": "True",
         "hovertemplate": "Region=%{x}<br>Count=%{y}<extra></extra>",
         "legendgroup": "northwest",
         "marker": {
          "color": "#ab63fa",
          "pattern": {
           "shape": ""
          }
         },
         "name": "northwest",
         "offsetgroup": "northwest",
         "orientation": "v",
         "showlegend": true,
         "textposition": "auto",
         "type": "bar",
         "x": [
          "northwest"
         ],
         "xaxis": "x",
         "y": [
          324
         ],
         "yaxis": "y"
        }
       ],
       "layout": {
        "barmode": "relative",
        "legend": {
         "title": {
          "text": "Region"
         },
         "tracegroupgap": 0
        },
        "template": {
         "data": {
          "bar": [
           {
            "error_x": {
             "color": "#2a3f5f"
            },
            "error_y": {
             "color": "#2a3f5f"
            },
            "marker": {
             "line": {
              "color": "#E5ECF6",
              "width": 0.5
             },
             "pattern": {
              "fillmode": "overlay",
              "size": 10,
              "solidity": 0.2
             }
            },
            "type": "bar"
           }
          ],
          "barpolar": [
           {
            "marker": {
             "line": {
              "color": "#E5ECF6",
              "width": 0.5
             },
             "pattern": {
              "fillmode": "overlay",
              "size": 10,
              "solidity": 0.2
             }
            },
            "type": "barpolar"
           }
          ],
          "carpet": [
           {
            "aaxis": {
             "endlinecolor": "#2a3f5f",
             "gridcolor": "white",
             "linecolor": "white",
             "minorgridcolor": "white",
             "startlinecolor": "#2a3f5f"
            },
            "baxis": {
             "endlinecolor": "#2a3f5f",
             "gridcolor": "white",
             "linecolor": "white",
             "minorgridcolor": "white",
             "startlinecolor": "#2a3f5f"
            },
            "type": "carpet"
           }
          ],
          "choropleth": [
           {
            "colorbar": {
             "outlinewidth": 0,
             "ticks": ""
            },
            "type": "choropleth"
           }
          ],
          "contour": [
           {
            "colorbar": {
             "outlinewidth": 0,
             "ticks": ""
            },
            "colorscale": [
             [
              0,
              "#0d0887"
             ],
             [
              0.1111111111111111,
              "#46039f"
             ],
             [
              0.2222222222222222,
              "#7201a8"
             ],
             [
              0.3333333333333333,
              "#9c179e"
             ],
             [
              0.4444444444444444,
              "#bd3786"
             ],
             [
              0.5555555555555556,
              "#d8576b"
             ],
             [
              0.6666666666666666,
              "#ed7953"
             ],
             [
              0.7777777777777778,
              "#fb9f3a"
             ],
             [
              0.8888888888888888,
              "#fdca26"
             ],
             [
              1,
              "#f0f921"
             ]
            ],
            "type": "contour"
           }
          ],
          "contourcarpet": [
           {
            "colorbar": {
             "outlinewidth": 0,
             "ticks": ""
            },
            "type": "contourcarpet"
           }
          ],
          "heatmap": [
           {
            "colorbar": {
             "outlinewidth": 0,
             "ticks": ""
            },
            "colorscale": [
             [
              0,
              "#0d0887"
             ],
             [
              0.1111111111111111,
              "#46039f"
             ],
             [
              0.2222222222222222,
              "#7201a8"
             ],
             [
              0.3333333333333333,
              "#9c179e"
             ],
             [
              0.4444444444444444,
              "#bd3786"
             ],
             [
              0.5555555555555556,
              "#d8576b"
             ],
             [
              0.6666666666666666,
              "#ed7953"
             ],
             [
              0.7777777777777778,
              "#fb9f3a"
             ],
             [
              0.8888888888888888,
              "#fdca26"
             ],
             [
              1,
              "#f0f921"
             ]
            ],
            "type": "heatmap"
           }
          ],
          "heatmapgl": [
           {
            "colorbar": {
             "outlinewidth": 0,
             "ticks": ""
            },
            "colorscale": [
             [
              0,
              "#0d0887"
             ],
             [
              0.1111111111111111,
              "#46039f"
             ],
             [
              0.2222222222222222,
              "#7201a8"
             ],
             [
              0.3333333333333333,
              "#9c179e"
             ],
             [
              0.4444444444444444,
              "#bd3786"
             ],
             [
              0.5555555555555556,
              "#d8576b"
             ],
             [
              0.6666666666666666,
              "#ed7953"
             ],
             [
              0.7777777777777778,
              "#fb9f3a"
             ],
             [
              0.8888888888888888,
              "#fdca26"
             ],
             [
              1,
              "#f0f921"
             ]
            ],
            "type": "heatmapgl"
           }
          ],
          "histogram": [
           {
            "marker": {
             "pattern": {
              "fillmode": "overlay",
              "size": 10,
              "solidity": 0.2
             }
            },
            "type": "histogram"
           }
          ],
          "histogram2d": [
           {
            "colorbar": {
             "outlinewidth": 0,
             "ticks": ""
            },
            "colorscale": [
             [
              0,
              "#0d0887"
             ],
             [
              0.1111111111111111,
              "#46039f"
             ],
             [
              0.2222222222222222,
              "#7201a8"
             ],
             [
              0.3333333333333333,
              "#9c179e"
             ],
             [
              0.4444444444444444,
              "#bd3786"
             ],
             [
              0.5555555555555556,
              "#d8576b"
             ],
             [
              0.6666666666666666,
              "#ed7953"
             ],
             [
              0.7777777777777778,
              "#fb9f3a"
             ],
             [
              0.8888888888888888,
              "#fdca26"
             ],
             [
              1,
              "#f0f921"
             ]
            ],
            "type": "histogram2d"
           }
          ],
          "histogram2dcontour": [
           {
            "colorbar": {
             "outlinewidth": 0,
             "ticks": ""
            },
            "colorscale": [
             [
              0,
              "#0d0887"
             ],
             [
              0.1111111111111111,
              "#46039f"
             ],
             [
              0.2222222222222222,
              "#7201a8"
             ],
             [
              0.3333333333333333,
              "#9c179e"
             ],
             [
              0.4444444444444444,
              "#bd3786"
             ],
             [
              0.5555555555555556,
              "#d8576b"
             ],
             [
              0.6666666666666666,
              "#ed7953"
             ],
             [
              0.7777777777777778,
              "#fb9f3a"
             ],
             [
              0.8888888888888888,
              "#fdca26"
             ],
             [
              1,
              "#f0f921"
             ]
            ],
            "type": "histogram2dcontour"
           }
          ],
          "mesh3d": [
           {
            "colorbar": {
             "outlinewidth": 0,
             "ticks": ""
            },
            "type": "mesh3d"
           }
          ],
          "parcoords": [
           {
            "line": {
             "colorbar": {
              "outlinewidth": 0,
              "ticks": ""
             }
            },
            "type": "parcoords"
           }
          ],
          "pie": [
           {
            "automargin": true,
            "type": "pie"
           }
          ],
          "scatter": [
           {
            "fillpattern": {
             "fillmode": "overlay",
             "size": 10,
             "solidity": 0.2
            },
            "type": "scatter"
           }
          ],
          "scatter3d": [
           {
            "line": {
             "colorbar": {
              "outlinewidth": 0,
              "ticks": ""
             }
            },
            "marker": {
             "colorbar": {
              "outlinewidth": 0,
              "ticks": ""
             }
            },
            "type": "scatter3d"
           }
          ],
          "scattercarpet": [
           {
            "marker": {
             "colorbar": {
              "outlinewidth": 0,
              "ticks": ""
             }
            },
            "type": "scattercarpet"
           }
          ],
          "scattergeo": [
           {
            "marker": {
             "colorbar": {
              "outlinewidth": 0,
              "ticks": ""
             }
            },
            "type": "scattergeo"
           }
          ],
          "scattergl": [
           {
            "marker": {
             "colorbar": {
              "outlinewidth": 0,
              "ticks": ""
             }
            },
            "type": "scattergl"
           }
          ],
          "scattermapbox": [
           {
            "marker": {
             "colorbar": {
              "outlinewidth": 0,
              "ticks": ""
             }
            },
            "type": "scattermapbox"
           }
          ],
          "scatterpolar": [
           {
            "marker": {
             "colorbar": {
              "outlinewidth": 0,
              "ticks": ""
             }
            },
            "type": "scatterpolar"
           }
          ],
          "scatterpolargl": [
           {
            "marker": {
             "colorbar": {
              "outlinewidth": 0,
              "ticks": ""
             }
            },
            "type": "scatterpolargl"
           }
          ],
          "scatterternary": [
           {
            "marker": {
             "colorbar": {
              "outlinewidth": 0,
              "ticks": ""
             }
            },
            "type": "scatterternary"
           }
          ],
          "surface": [
           {
            "colorbar": {
             "outlinewidth": 0,
             "ticks": ""
            },
            "colorscale": [
             [
              0,
              "#0d0887"
             ],
             [
              0.1111111111111111,
              "#46039f"
             ],
             [
              0.2222222222222222,
              "#7201a8"
             ],
             [
              0.3333333333333333,
              "#9c179e"
             ],
             [
              0.4444444444444444,
              "#bd3786"
             ],
             [
              0.5555555555555556,
              "#d8576b"
             ],
             [
              0.6666666666666666,
              "#ed7953"
             ],
             [
              0.7777777777777778,
              "#fb9f3a"
             ],
             [
              0.8888888888888888,
              "#fdca26"
             ],
             [
              1,
              "#f0f921"
             ]
            ],
            "type": "surface"
           }
          ],
          "table": [
           {
            "cells": {
             "fill": {
              "color": "#EBF0F8"
             },
             "line": {
              "color": "white"
             }
            },
            "header": {
             "fill": {
              "color": "#C8D4E3"
             },
             "line": {
              "color": "white"
             }
            },
            "type": "table"
           }
          ]
         },
         "layout": {
          "annotationdefaults": {
           "arrowcolor": "#2a3f5f",
           "arrowhead": 0,
           "arrowwidth": 1
          },
          "autotypenumbers": "strict",
          "coloraxis": {
           "colorbar": {
            "outlinewidth": 0,
            "ticks": ""
           }
          },
          "colorscale": {
           "diverging": [
            [
             0,
             "#8e0152"
            ],
            [
             0.1,
             "#c51b7d"
            ],
            [
             0.2,
             "#de77ae"
            ],
            [
             0.3,
             "#f1b6da"
            ],
            [
             0.4,
             "#fde0ef"
            ],
            [
             0.5,
             "#f7f7f7"
            ],
            [
             0.6,
             "#e6f5d0"
            ],
            [
             0.7,
             "#b8e186"
            ],
            [
             0.8,
             "#7fbc41"
            ],
            [
             0.9,
             "#4d9221"
            ],
            [
             1,
             "#276419"
            ]
           ],
           "sequential": [
            [
             0,
             "#0d0887"
            ],
            [
             0.1111111111111111,
             "#46039f"
            ],
            [
             0.2222222222222222,
             "#7201a8"
            ],
            [
             0.3333333333333333,
             "#9c179e"
            ],
            [
             0.4444444444444444,
             "#bd3786"
            ],
            [
             0.5555555555555556,
             "#d8576b"
            ],
            [
             0.6666666666666666,
             "#ed7953"
            ],
            [
             0.7777777777777778,
             "#fb9f3a"
            ],
            [
             0.8888888888888888,
             "#fdca26"
            ],
            [
             1,
             "#f0f921"
            ]
           ],
           "sequentialminus": [
            [
             0,
             "#0d0887"
            ],
            [
             0.1111111111111111,
             "#46039f"
            ],
            [
             0.2222222222222222,
             "#7201a8"
            ],
            [
             0.3333333333333333,
             "#9c179e"
            ],
            [
             0.4444444444444444,
             "#bd3786"
            ],
            [
             0.5555555555555556,
             "#d8576b"
            ],
            [
             0.6666666666666666,
             "#ed7953"
            ],
            [
             0.7777777777777778,
             "#fb9f3a"
            ],
            [
             0.8888888888888888,
             "#fdca26"
            ],
            [
             1,
             "#f0f921"
            ]
           ]
          },
          "colorway": [
           "#636efa",
           "#EF553B",
           "#00cc96",
           "#ab63fa",
           "#FFA15A",
           "#19d3f3",
           "#FF6692",
           "#B6E880",
           "#FF97FF",
           "#FECB52"
          ],
          "font": {
           "color": "#2a3f5f"
          },
          "geo": {
           "bgcolor": "white",
           "lakecolor": "white",
           "landcolor": "#E5ECF6",
           "showlakes": true,
           "showland": true,
           "subunitcolor": "white"
          },
          "hoverlabel": {
           "align": "left"
          },
          "hovermode": "closest",
          "mapbox": {
           "style": "light"
          },
          "paper_bgcolor": "white",
          "plot_bgcolor": "#E5ECF6",
          "polar": {
           "angularaxis": {
            "gridcolor": "white",
            "linecolor": "white",
            "ticks": ""
           },
           "bgcolor": "#E5ECF6",
           "radialaxis": {
            "gridcolor": "white",
            "linecolor": "white",
            "ticks": ""
           }
          },
          "scene": {
           "xaxis": {
            "backgroundcolor": "#E5ECF6",
            "gridcolor": "white",
            "gridwidth": 2,
            "linecolor": "white",
            "showbackground": true,
            "ticks": "",
            "zerolinecolor": "white"
           },
           "yaxis": {
            "backgroundcolor": "#E5ECF6",
            "gridcolor": "white",
            "gridwidth": 2,
            "linecolor": "white",
            "showbackground": true,
            "ticks": "",
            "zerolinecolor": "white"
           },
           "zaxis": {
            "backgroundcolor": "#E5ECF6",
            "gridcolor": "white",
            "gridwidth": 2,
            "linecolor": "white",
            "showbackground": true,
            "ticks": "",
            "zerolinecolor": "white"
           }
          },
          "shapedefaults": {
           "line": {
            "color": "#2a3f5f"
           }
          },
          "ternary": {
           "aaxis": {
            "gridcolor": "white",
            "linecolor": "white",
            "ticks": ""
           },
           "baxis": {
            "gridcolor": "white",
            "linecolor": "white",
            "ticks": ""
           },
           "bgcolor": "#E5ECF6",
           "caxis": {
            "gridcolor": "white",
            "linecolor": "white",
            "ticks": ""
           }
          },
          "title": {
           "x": 0.05
          },
          "xaxis": {
           "automargin": true,
           "gridcolor": "white",
           "linecolor": "white",
           "ticks": "",
           "title": {
            "standoff": 15
           },
           "zerolinecolor": "white",
           "zerolinewidth": 2
          },
          "yaxis": {
           "automargin": true,
           "gridcolor": "white",
           "linecolor": "white",
           "ticks": "",
           "title": {
            "standoff": 15
           },
           "zerolinecolor": "white",
           "zerolinewidth": 2
          }
         }
        },
        "title": {
         "text": "Distribution of Region"
        },
        "xaxis": {
         "anchor": "y",
         "categoryarray": [
          "southeast",
          "southwest",
          "northeast",
          "northwest"
         ],
         "categoryorder": "array",
         "domain": [
          0,
          1
         ],
         "title": {
          "text": "Region"
         }
        },
        "yaxis": {
         "anchor": "x",
         "domain": [
          0,
          1
         ],
         "title": {
          "text": "Count"
         }
        }
       }
      }
     },
     "metadata": {},
     "output_type": "display_data"
    }
   ],
   "source": [
    "categorical_features = ['sex', 'smoker', 'region']\n",
    "\n",
    "for col in categorical_features:\n",
    "    counts = df[col].value_counts().reset_index()\n",
    "    counts.columns = [col, 'count']  # rename for clarity\n",
    "\n",
    "    fig = px.bar(\n",
    "        counts,\n",
    "        x=col,\n",
    "        y='count',\n",
    "        title=f\"Distribution of {col.replace('_', ' ').capitalize()}\",\n",
    "        labels={col: col.capitalize(), 'count': 'Count'},\n",
    "        color=col\n",
    "    )\n",
    "    fig.show()"
   ]
  },
  {
   "cell_type": "markdown",
   "id": "ba7c8381",
   "metadata": {},
   "source": [
    "## Observation:\n",
    "- Dataset is well balanced across gender and region.\n",
    "- ~20% are smokers, providing good comparison groups for H1–H6."
   ]
  },
  {
   "cell_type": "markdown",
   "id": "c8a037bb",
   "metadata": {},
   "source": [
    "# Correlation Analysis"
   ]
  },
  {
   "cell_type": "markdown",
   "id": "b5717d95",
   "metadata": {},
   "source": [
    "## Correlation Analysis Preparation"
   ]
  },
  {
   "cell_type": "code",
   "execution_count": 16,
   "id": "75d395c4",
   "metadata": {},
   "outputs": [
    {
     "data": {
      "application/vnd.microsoft.datawrangler.viewer.v0+json": {
       "columns": [
        {
         "name": "index",
         "rawType": "int64",
         "type": "integer"
        },
        {
         "name": "age",
         "rawType": "int64",
         "type": "integer"
        },
        {
         "name": "sex",
         "rawType": "category",
         "type": "unknown"
        },
        {
         "name": "bmi",
         "rawType": "float64",
         "type": "float"
        },
        {
         "name": "children",
         "rawType": "int64",
         "type": "integer"
        },
        {
         "name": "smoker",
         "rawType": "category",
         "type": "unknown"
        },
        {
         "name": "region",
         "rawType": "category",
         "type": "unknown"
        },
        {
         "name": "charges",
         "rawType": "float64",
         "type": "float"
        }
       ],
       "ref": "799e8684-b6e2-4e25-8434-a56585e461f6",
       "rows": [
        [
         "0",
         "19",
         "1",
         "27.9",
         "0",
         "1",
         "3",
         "16884.924"
        ],
        [
         "1",
         "18",
         "0",
         "33.77",
         "1",
         "0",
         "2",
         "1725.5523"
        ],
        [
         "2",
         "28",
         "0",
         "33.0",
         "3",
         "0",
         "2",
         "4449.462"
        ],
        [
         "3",
         "33",
         "0",
         "22.705",
         "0",
         "0",
         "1",
         "21984.47061"
        ],
        [
         "4",
         "32",
         "0",
         "28.88",
         "0",
         "0",
         "1",
         "3866.8552"
        ]
       ],
       "shape": {
        "columns": 7,
        "rows": 5
       }
      },
      "text/html": [
       "<div>\n",
       "<style scoped>\n",
       "    .dataframe tbody tr th:only-of-type {\n",
       "        vertical-align: middle;\n",
       "    }\n",
       "\n",
       "    .dataframe tbody tr th {\n",
       "        vertical-align: top;\n",
       "    }\n",
       "\n",
       "    .dataframe thead th {\n",
       "        text-align: right;\n",
       "    }\n",
       "</style>\n",
       "<table border=\"1\" class=\"dataframe\">\n",
       "  <thead>\n",
       "    <tr style=\"text-align: right;\">\n",
       "      <th></th>\n",
       "      <th>age</th>\n",
       "      <th>sex</th>\n",
       "      <th>bmi</th>\n",
       "      <th>children</th>\n",
       "      <th>smoker</th>\n",
       "      <th>region</th>\n",
       "      <th>charges</th>\n",
       "    </tr>\n",
       "  </thead>\n",
       "  <tbody>\n",
       "    <tr>\n",
       "      <th>0</th>\n",
       "      <td>19</td>\n",
       "      <td>1</td>\n",
       "      <td>27.900</td>\n",
       "      <td>0</td>\n",
       "      <td>1</td>\n",
       "      <td>3</td>\n",
       "      <td>16884.92400</td>\n",
       "    </tr>\n",
       "    <tr>\n",
       "      <th>1</th>\n",
       "      <td>18</td>\n",
       "      <td>0</td>\n",
       "      <td>33.770</td>\n",
       "      <td>1</td>\n",
       "      <td>0</td>\n",
       "      <td>2</td>\n",
       "      <td>1725.55230</td>\n",
       "    </tr>\n",
       "    <tr>\n",
       "      <th>2</th>\n",
       "      <td>28</td>\n",
       "      <td>0</td>\n",
       "      <td>33.000</td>\n",
       "      <td>3</td>\n",
       "      <td>0</td>\n",
       "      <td>2</td>\n",
       "      <td>4449.46200</td>\n",
       "    </tr>\n",
       "    <tr>\n",
       "      <th>3</th>\n",
       "      <td>33</td>\n",
       "      <td>0</td>\n",
       "      <td>22.705</td>\n",
       "      <td>0</td>\n",
       "      <td>0</td>\n",
       "      <td>1</td>\n",
       "      <td>21984.47061</td>\n",
       "    </tr>\n",
       "    <tr>\n",
       "      <th>4</th>\n",
       "      <td>32</td>\n",
       "      <td>0</td>\n",
       "      <td>28.880</td>\n",
       "      <td>0</td>\n",
       "      <td>0</td>\n",
       "      <td>1</td>\n",
       "      <td>3866.85520</td>\n",
       "    </tr>\n",
       "  </tbody>\n",
       "</table>\n",
       "</div>"
      ],
      "text/plain": [
       "   age sex     bmi  children smoker region      charges\n",
       "0   19   1  27.900         0      1      3  16884.92400\n",
       "1   18   0  33.770         1      0      2   1725.55230\n",
       "2   28   0  33.000         3      0      2   4449.46200\n",
       "3   33   0  22.705         0      0      1  21984.47061\n",
       "4   32   0  28.880         0      0      1   3866.85520"
      ]
     },
     "execution_count": 16,
     "metadata": {},
     "output_type": "execute_result"
    }
   ],
   "source": [
    "df_corr = df.copy()\n",
    "\n",
    "encoding_map = {\n",
    "    'sex': {'male': 0, 'female': 1},\n",
    "    'smoker': {'no': 0, 'yes': 1},\n",
    "    'region': {'northeast': 0, 'northwest': 1, 'southeast': 2, 'southwest': 3}\n",
    "}\n",
    "df_corr = df_corr.drop(columns=['bmi_category', 'age_group', 'family_size_category'])\n",
    "df_corr.replace(encoding_map, inplace=True)\n",
    "df_corr.head()\n"
   ]
  },
  {
   "cell_type": "markdown",
   "id": "c6691ec4",
   "metadata": {},
   "source": [
    "### Explanation:\n",
    "Categorical variables are encoded numerically to allow correlation analysis with continuous features."
   ]
  },
  {
   "cell_type": "markdown",
   "id": "45228a18",
   "metadata": {},
   "source": [
    "## Correlation Heatmap"
   ]
  },
  {
   "cell_type": "code",
   "execution_count": 17,
   "id": "1b0273e3",
   "metadata": {},
   "outputs": [
    {
     "data": {
      "image/png": "[encoded data removed]",
      "text/plain": [
       "<Figure size 1000x600 with 2 Axes>"
      ]
     },
     "metadata": {},
     "output_type": "display_data"
    }
   ],
   "source": [
    "plt.figure(figsize=(10, 6))\n",
    "corr = df_corr.corr()\n",
    "sns.heatmap(corr, annot=True, cmap='coolwarm', fmt=\".2f\")\n",
    "plt.title(\"Correlation Heatmap of All Features\")\n",
    "plt.tight_layout()\n",
    "\n",
    "os.makedirs(\"reports/figures\", exist_ok=True)\n",
    "plt.savefig(\"reports/figures/correlation_heatmap.png\", dpi=300)\n",
    "plt.show()\n"
   ]
  },
  {
   "cell_type": "markdown",
   "id": "f7eb42a3",
   "metadata": {},
   "source": [
    "### Observation:\n",
    "- smoker, age, and bmi have the strongest positive correlations with charges.\n",
    "- Confirms H1, H2, and H3 quantitatively.\n",
    "- sex and region show weak or no correlation — supporting H4 and H5."
   ]
  },
  {
   "cell_type": "markdown",
   "id": "afb55e10",
   "metadata": {},
   "source": [
    "## Top Correlations with Charges"
   ]
  },
  {
   "cell_type": "code",
   "execution_count": null,
   "id": "570658a8",
   "metadata": {},
   "outputs": [
    {
     "data": {
      "image/png": "[encoded data removed]",
      "text/plain": [
       "<Figure size 600x400 with 1 Axes>"
      ]
     },
     "metadata": {},
     "output_type": "display_data"
    }
   ],
   "source": [
    "charges_corr = corr['charges'].sort_values(ascending=False)\n",
    "top_corr = charges_corr[1:7] # Exclude self-correlation\n",
    "\n",
    "plt.figure(figsize=(6, 4))\n",
    "sns.barplot(x=top_corr.values, y=top_corr.index, palette=\"viridis\")\n",
    "plt.title(\"Top Correlations with Insurance Charges\")\n",
    "plt.xlabel(\"Correlation Coefficient\")\n",
    "plt.tight_layout()\n",
    "plt.show()"
   ]
  },
  {
   "cell_type": "markdown",
   "id": "5693a853",
   "metadata": {},
   "source": [
    "### Observation:\n",
    "- Confirms smoking, age, and BMI as top contributors to cost variation.\n",
    "- Children and gender have minimal impact."
   ]
  },
  {
   "cell_type": "markdown",
   "id": "6d997bcc",
   "metadata": {},
   "source": [
    "# Hypotheses"
   ]
  },
  {
   "cell_type": "markdown",
   "id": "734a0cbf",
   "metadata": {},
   "source": [
    "## H1: Smoking Status Impact on Charges"
   ]
  },
  {
   "cell_type": "code",
   "execution_count": 19,
   "id": "15b0af29",
   "metadata": {},
   "outputs": [
    {
     "data": {
      "application/vnd.plotly.v1+json": {
       "config": {
        "plotlyServerURL": "https://plot.ly"
       },
       "data": [
        {
         "alignmentgroup": "True",
         "boxpoints": "all",
         "hovertemplate": "smoker=%{x}<br>charges=%{y}<extra></extra>",
         "legendgroup": "yes",
         "marker": {
          "color": "#636efa"
         },
         "name": "yes",
         "notched": false,
         "offsetgroup": "yes",
         "orientation": "v",
         "showlegend": true,
         "type": "box",
         "x": [
          "yes",
          "yes",
          "yes",
          "yes",
          "yes",
          "yes",
          "yes",
          "yes",
          "yes",
          "yes",
          "yes",
          "yes",
          "yes",
          "yes",
          "yes",
          "yes",
          "yes",
          "yes",
          "yes",
          "yes",
          "yes",
          "yes",
          "yes",
          "yes",
          "yes",
          "yes",
          "yes",
          "yes",
          "yes",
          "yes",
          "yes",
          "yes",
          "yes",
          "yes",
          "yes",
          "yes",
          "yes",
          "yes",
          "yes",
          "yes",
          "yes",
          "yes",
          "yes",
          "yes",
          "yes",
          "yes",
          "yes",
          "yes",
          "yes",
          "yes",
          "yes",
          "yes",
          "yes",
          "yes",
          "yes",
          "yes",
          "yes",
          "yes",
          "yes",
          "yes",
          "yes",
          "yes",
          "yes",
          "yes",
          "yes",
          "yes",
          "yes",
          "yes",
          "yes",
          "yes",
          "yes",
          "yes",
          "yes",
          "yes",
          "yes",
          "yes",
          "yes",
          "yes",
          "yes",
          "yes",
          "yes",
          "yes",
          "yes",
          "yes",
          "yes",
          "yes",
          "yes",
          "yes",
          "yes",
          "yes",
          "yes",
          "yes",
          "yes",
          "yes",
          "yes",
          "yes",
          "yes",
          "yes",
          "yes",
          "yes",
          "yes",
          "yes",
          "yes",
          "yes",
          "yes",
          "yes",
          "yes",
          "yes",
          "yes",
          "yes",
          "yes",
          "yes",
          "yes",
          "yes",
          "yes",
          "yes",
          "yes",
          "yes",
          "yes",
          "yes",
          "yes",
          "yes",
          "yes",
          "yes",
          "yes",
          "yes",
          "yes",
          "yes",
          "yes",
          "yes",
          "yes",
          "yes",
          "yes",
          "yes",
          "yes",
          "yes",
          "yes",
          "yes",
          "yes",
          "yes",
          "yes",
          "yes",
          "yes",
          "yes",
          "yes",
          "yes",
          "yes",
          "yes",
          "yes",
          "yes",
          "yes",
          "yes",
          "yes",
          "yes",
          "yes",
          "yes",
          "yes",
          "yes",
          "yes",
          "yes",
          "yes",
          "yes",
          "yes",
          "yes",
          "yes",
          "yes",
          "yes",
          "yes",
          "yes",
          "yes",
          "yes",
          "yes",
          "yes",
          "yes",
          "yes",
          "yes",
          "yes",
          "yes",
          "yes",
          "yes",
          "yes",
          "yes",
          "yes",
          "yes",
          "yes",
          "yes",
          "yes",
          "yes",
          "yes",
          "yes",
          "yes",
          "yes",
          "yes",
          "yes",
          "yes",
          "yes",
          "yes",
          "yes",
          "yes",
          "yes",
          "yes",
          "yes",
          "yes",
          "yes",
          "yes",
          "yes",
          "yes",
          "yes",
          "yes",
          "yes",
          "yes",
          "yes",
          "yes",
          "yes",
          "yes",
          "yes",
          "yes",
          "yes",
          "yes",
          "yes",
          "yes",
          "yes",
          "yes",
          "yes",
          "yes",
          "yes",
          "yes",
          "yes",
          "yes",
          "yes",
          "yes",
          "yes",
          "yes",
          "yes",
          "yes",
          "yes",
          "yes",
          "yes",
          "yes",
          "yes",
          "yes",
          "yes",
          "yes",
          "yes",
          "yes",
          "yes",
          "yes",
          "yes",
          "yes",
          "yes",
          "yes",
          "yes",
          "yes",
          "yes",
          "yes",
          "yes",
          "yes",
          "yes",
          "yes",
          "yes",
          "yes",
          "yes",
          "yes",
          "yes",
          "yes",
          "yes",
          "yes",
          "yes",
          "yes",
          "yes",
          "yes",
          "yes",
          "yes",
          "yes"
         ],
         "x0": " ",
         "xaxis": "x",
         "y": [
          16884.924,
          27808.7251,
          39611.7577,
          36837.467,
          37701.8768,
          38711,
          35585.576,
          51194.55914,
          39774.2763,
          48173.361,
          38709.176,
          23568.272,
          37742.5757,
          47496.49445,
          34303.1672,
          23244.7902,
          14711.7438,
          17663.1442,
          16577.7795,
          37165.1638,
          39836.519,
          21098.55405,
          43578.9394,
          30184.9367,
          47291.055,
          22412.6485,
          15820.699,
          30942.1918,
          17560.37975,
          47055.5321,
          19107.7796,
          39556.4945,
          17081.08,
          32734.1863,
          18972.495,
          20745.9891,
          40720.55105,
          19964.7463,
          21223.6758,
          15518.18025,
          36950.2567,
          21348.706,
          36149.4835,
          48824.45,
          43753.33705,
          37133.8982,
          20984.0936,
          34779.615,
          19515.5416,
          19444.2658,
          17352.6803,
          38511.6283,
          29523.1656,
          12829.4551,
          47305.305,
          44260.7499,
          41097.16175,
          43921.1837,
          33750.2918,
          17085.2676,
          24869.8368,
          36219.40545,
          46151.1245,
          17179.522,
          42856.838,
          22331.5668,
          48549.17835,
          47896.79135,
          42112.2356,
          16297.846,
          21978.6769,
          38746.3551,
          24873.3849,
          42124.5153,
          34838.873,
          35491.64,
          42760.5022,
          47928.03,
          48517.56315,
          24393.6224,
          41919.097,
          13844.506,
          36085.219,
          18033.9679,
          21659.9301,
          38126.2465,
          15006.57945,
          42303.69215,
          19594.80965,
          14455.64405,
          18608.262,
          28950.4692,
          46889.2612,
          46599.1084,
          39125.33225,
          37079.372,
          26109.32905,
          22144.032,
          19521.9682,
          25382.297,
          28868.6639,
          35147.52848,
          48885.13561,
          17942.106,
          36197.699,
          22218.1149,
          32548.3405,
          21082.16,
          38245.59327,
          48675.5177,
          63770.42801,
          23807.2406,
          45863.205,
          39983.42595,
          45702.02235,
          58571.07448,
          43943.8761,
          15359.1045,
          17468.9839,
          25678.77845,
          39241.442,
          42969.8527,
          23306.547,
          34439.8559,
          40182.246,
          34617.84065,
          42983.4585,
          20149.3229,
          32787.45859,
          24667.419,
          27037.9141,
          42560.4304,
          40003.33225,
          45710.20785,
          46200.9851,
          46130.5265,
          40103.89,
          34806.4677,
          40273.6455,
          44400.4064,
          40932.4295,
          16657.71745,
          19361.9988,
          40419.0191,
          36189.1017,
          44585.45587,
          18246.4955,
          43254.41795,
          19539.243,
          23065.4207,
          36307.7983,
          19040.876,
          17748.5062,
          18259.216,
          24520.264,
          21195.818,
          18310.742,
          17904.52705,
          38792.6856,
          23401.30575,
          55135.40209,
          43813.8661,
          20773.62775,
          39597.4072,
          36021.0112,
          27533.9129,
          45008.9555,
          37270.1512,
          42111.6647,
          24106.91255,
          40974.1649,
          15817.9857,
          46113.511,
          46255.1125,
          19719.6947,
          27218.43725,
          29330.98315,
          44202.6536,
          19798.05455,
          48673.5588,
          17496.306,
          33732.6867,
          21774.32215,
          35069.37452,
          39047.285,
          19933.458,
          47462.894,
          38998.546,
          20009.63365,
          41999.52,
          41034.2214,
          23967.38305,
          16138.76205,
          19199.944,
          14571.8908,
          16420.49455,
          17361.7661,
          34472.841,
          24915.22085,
          18767.7377,
          35595.5898,
          42211.1382,
          16450.8947,
          21677.28345,
          44423.803,
          13747.87235,
          37484.4493,
          39725.51805,
          20234.85475,
          33475.81715,
          21880.82,
          44501.3982,
          39727.614,
          25309.489,
          48970.2476,
          39871.7043,
          34672.1472,
          19023.26,
          41676.0811,
          33907.548,
          44641.1974,
          16776.30405,
          41949.2441,
          24180.9335,
          36124.5737,
          38282.7495,
          34166.273,
          46661.4424,
          40904.1995,
          36898.73308,
          52590.82939,
          40941.2854,
          39722.7462,
          17178.6824,
          22478.6,
          23887.6627,
          19350.3689,
          18328.2381,
          37465.34375,
          21771.3423,
          33307.5508,
          18223.4512,
          38415.474,
          20296.86345,
          41661.602,
          26125.67477,
          60021.39897,
          20167.33603,
          47269.854,
          49577.6624,
          37607.5277,
          18648.4217,
          16232.847,
          26926.5144,
          34254.05335,
          17043.3414,
          22462.04375,
          24535.69855,
          14283.4594,
          47403.88,
          38344.566,
          34828.654,
          62592.87309,
          46718.16325,
          37829.7242,
          21259.37795,
          16115.3045,
          21472.4788,
          33900.653,
          36397.576,
          18765.87545,
          28101.33305,
          43896.3763,
          29141.3603
         ],
         "y0": " ",
         "yaxis": "y"
        },
        {
         "alignmentgroup": "True",
         "boxpoints": "all",
         "hovertemplate": "smoker=%{x}<br>charges=%{y}<extra></extra>",
         "legendgroup": "no",
         "marker": {
          "color": "#EF553B"
         },
         "name": "no",
         "notched": false,
         "offsetgroup": "no",
         "orientation": "v",
         "showlegend": true,
         "type": "box",
         "x": [
          "no",
          "no",
          "no",
          "no",
          "no",
          "no",
          "no",
          "no",
          "no",
          "no",
          "no",
          "no",
          "no",
          "no",
          "no",
          "no",
          "no",
          "no",
          "no",
          "no",
          "no",
          "no",
          "no",
          "no",
          "no",
          "no",
          "no",
          "no",
          "no",
          "no",
          "no",
          "no",
          "no",
          "no",
          "no",
          "no",
          "no",
          "no",
          "no",
          "no",
          "no",
          "no",
          "no",
          "no",
          "no",
          "no",
          "no",
          "no",
          "no",
          "no",
          "no",
          "no",
          "no",
          "no",
          "no",
          "no",
          "no",
          "no",
          "no",
          "no",
          "no",
          "no",
          "no",
          "no",
          "no",
          "no",
          "no",
          "no",
          "no",
          "no",
          "no",
          "no",
          "no",
          "no",
          "no",
          "no",
          "no",
          "no",
          "no",
          "no",
          "no",
          "no",
          "no",
          "no",
          "no",
          "no",
          "no",
          "no",
          "no",
          "no",
          "no",
          "no",
          "no",
          "no",
          "no",
          "no",
          "no",
          "no",
          "no",
          "no",
          "no",
          "no",
          "no",
          "no",
          "no",
          "no",
          "no",
          "no",
          "no",
          "no",
          "no",
          "no",
          "no",
          "no",
          "no",
          "no",
          "no",
          "no",
          "no",
          "no",
          "no",
          "no",
          "no",
          "no",
          "no",
          "no",
          "no",
          "no",
          "no",
          "no",
          "no",
          "no",
          "no",
          "no",
          "no",
          "no",
          "no",
          "no",
          "no",
          "no",
          "no",
          "no",
          "no",
          "no",
          "no",
          "no",
          "no",
          "no",
          "no",
          "no",
          "no",
          "no",
          "no",
          "no",
          "no",
          "no",
          "no",
          "no",
          "no",
          "no",
          "no",
          "no",
          "no",
          "no",
          "no",
          "no",
          "no",
          "no",
          "no",
          "no",
          "no",
          "no",
          "no",
          "no",
          "no",
          "no",
          "no",
          "no",
          "no",
          "no",
          "no",
          "no",
          "no",
          "no",
          "no",
          "no",
          "no",
          "no",
          "no",
          "no",
          "no",
          "no",
          "no",
          "no",
          "no",
          "no",
          "no",
          "no",
          "no",
          "no",
          "no",
          "no",
          "no",
          "no",
          "no",
          "no",
          "no",
          "no",
          "no",
          "no",
          "no",
          "no",
          "no",
          "no",
          "no",
          "no",
          "no",
          "no",
          "no",
          "no",
          "no",
          "no",
          "no",
          "no",
          "no",
          "no",
          "no",
          "no",
          "no",
          "no",
          "no",
          "no",
          "no",
          "no",
          "no",
          "no",
          "no",
          "no",
          "no",
          "no",
          "no",
          "no",
          "no",
          "no",
          "no",
          "no",
          "no",
          "no",
          "no",
          "no",
          "no",
          "no",
          "no",
          "no",
          "no",
          "no",
          "no",
          "no",
          "no",
          "no",
          "no",
          "no",
          "no",
          "no",
          "no",
          "no",
          "no",
          "no",
          "no",
          "no",
          "no",
          "no",
          "no",
          "no",
          "no",
          "no",
          "no",
          "no",
          "no",
          "no",
          "no",
          "no",
          "no",
          "no",
          "no",
          "no",
          "no",
          "no",
          "no",
          "no",
          "no",
          "no",
          "no",
          "no",
          "no",
          "no",
          "no",
          "no",
          "no",
          "no",
          "no",
          "no",
          "no",
          "no",
          "no",
          "no",
          "no",
          "no",
          "no",
          "no",
          "no",
          "no",
          "no",
          "no",
          "no",
          "no",
          "no",
          "no",
          "no",
          "no",
          "no",
          "no",
          "no",
          "no",
          "no",
          "no",
          "no",
          "no",
          "no",
          "no",
          "no",
          "no",
          "no",
          "no",
          "no",
          "no",
          "no",
          "no",
          "no",
          "no",
          "no",
          "no",
          "no",
          "no",
          "no",
          "no",
          "no",
          "no",
          "no",
          "no",
          "no",
          "no",
          "no",
          "no",
          "no",
          "no",
          "no",
          "no",
          "no",
          "no",
          "no",
          "no",
          "no",
          "no",
          "no",
          "no",
          "no",
          "no",
          "no",
          "no",
          "no",
          "no",
          "no",
          "no",
          "no",
          "no",
          "no",
          "no",
          "no",
          "no",
          "no",
          "no",
          "no",
          "no",
          "no",
          "no",
          "no",
          "no",
          "no",
          "no",
          "no",
          "no",
          "no",
          "no",
          "no",
          "no",
          "no",
          "no",
          "no",
          "no",
          "no",
          "no",
          "no",
          "no",
          "no",
          "no",
          "no",
          "no",
          "no",
          "no",
          "no",
          "no",
          "no",
          "no",
          "no",
          "no",
          "no",
          "no",
          "no",
          "no",
          "no",
          "no",
          "no",
          "no",
          "no",
          "no",
          "no",
          "no",
          "no",
          "no",
          "no",
          "no",
          "no",
          "no",
          "no",
          "no",
          "no",
          "no",
          "no",
          "no",
          "no",
          "no",
          "no",
          "no",
          "no",
          "no",
          "no",
          "no",
          "no",
          "no",
          "no",
          "no",
          "no",
          "no",
          "no",
          "no",
          "no",
          "no",
          "no",
          "no",
          "no",
          "no",
          "no",
          "no",
          "no",
          "no",
          "no",
          "no",
          "no",
          "no",
          "no",
          "no",
          "no",
          "no",
          "no",
          "no",
          "no",
          "no",
          "no",
          "no",
          "no",
          "no",
          "no",
          "no",
          "no",
          "no",
          "no",
          "no",
          "no",
          "no",
          "no",
          "no",
          "no",
          "no",
          "no",
          "no",
          "no",
          "no",
          "no",
          "no",
          "no",
          "no",
          "no",
          "no",
          "no",
          "no",
          "no",
          "no",
          "no",
          "no",
          "no",
          "no",
          "no",
          "no",
          "no",
          "no",
          "no",
          "no",
          "no",
          "no",
          "no",
          "no",
          "no",
          "no",
          "no",
          "no",
          "no",
          "no",
          "no",
          "no",
          "no",
          "no",
          "no",
          "no",
          "no",
          "no",
          "no",
          "no",
          "no",
          "no",
          "no",
          "no",
          "no",
          "no",
          "no",
          "no",
          "no",
          "no",
          "no",
          "no",
          "no",
          "no",
          "no",
          "no",
          "no",
          "no",
          "no",
          "no",
          "no",
          "no",
          "no",
          "no",
          "no",
          "no",
          "no",
          "no",
          "no",
          "no",
          "no",
          "no",
          "no",
          "no",
          "no",
          "no",
          "no",
          "no",
          "no",
          "no",
          "no",
          "no",
          "no",
          "no",
          "no",
          "no",
          "no",
          "no",
          "no",
          "no",
          "no",
          "no",
          "no",
          "no",
          "no",
          "no",
          "no",
          "no",
          "no",
          "no",
          "no",
          "no",
          "no",
          "no",
          "no",
          "no",
          "no",
          "no",
          "no",
          "no",
          "no",
          "no",
          "no",
          "no",
          "no",
          "no",
          "no",
          "no",
          "no",
          "no",
          "no",
          "no",
          "no",
          "no",
          "no",
          "no",
          "no",
          "no",
          "no",
          "no",
          "no",
          "no",
          "no",
          "no",
          "no",
          "no",
          "no",
          "no",
          "no",
          "no",
          "no",
          "no",
          "no",
          "no",
          "no",
          "no",
          "no",
          "no",
          "no",
          "no",
          "no",
          "no",
          "no",
          "no",
          "no",
          "no",
          "no",
          "no",
          "no",
          "no",
          "no",
          "no",
          "no",
          "no",
          "no",
          "no",
          "no",
          "no",
          "no",
          "no",
          "no",
          "no",
          "no",
          "no",
          "no",
          "no",
          "no",
          "no",
          "no",
          "no",
          "no",
          "no",
          "no",
          "no",
          "no",
          "no",
          "no",
          "no",
          "no",
          "no",
          "no",
          "no",
          "no",
          "no",
          "no",
          "no",
          "no",
          "no",
          "no",
          "no",
          "no",
          "no",
          "no",
          "no",
          "no",
          "no",
          "no",
          "no",
          "no",
          "no",
          "no",
          "no",
          "no",
          "no",
          "no",
          "no",
          "no",
          "no",
          "no",
          "no",
          "no",
          "no",
          "no",
          "no",
          "no",
          "no",
          "no",
          "no",
          "no",
          "no",
          "no",
          "no",
          "no",
          "no",
          "no",
          "no",
          "no",
          "no",
          "no",
          "no",
          "no",
          "no",
          "no",
          "no",
          "no",
          "no",
          "no",
          "no",
          "no",
          "no",
          "no",
          "no",
          "no",
          "no",
          "no",
          "no",
          "no",
          "no",
          "no",
          "no",
          "no",
          "no",
          "no",
          "no",
          "no",
          "no",
          "no",
          "no",
          "no",
          "no",
          "no",
          "no",
          "no",
          "no",
          "no",
          "no",
          "no",
          "no",
          "no",
          "no",
          "no",
          "no",
          "no",
          "no",
          "no",
          "no",
          "no",
          "no",
          "no",
          "no",
          "no",
          "no",
          "no",
          "no",
          "no",
          "no",
          "no",
          "no",
          "no",
          "no",
          "no",
          "no",
          "no",
          "no",
          "no",
          "no",
          "no",
          "no",
          "no",
          "no",
          "no",
          "no",
          "no",
          "no",
          "no",
          "no",
          "no",
          "no",
          "no",
          "no",
          "no",
          "no",
          "no",
          "no",
          "no",
          "no",
          "no",
          "no",
          "no",
          "no",
          "no",
          "no",
          "no",
          "no",
          "no",
          "no",
          "no",
          "no",
          "no",
          "no",
          "no",
          "no",
          "no",
          "no",
          "no",
          "no",
          "no",
          "no",
          "no",
          "no",
          "no",
          "no",
          "no",
          "no",
          "no",
          "no",
          "no",
          "no",
          "no",
          "no",
          "no",
          "no",
          "no",
          "no",
          "no",
          "no",
          "no",
          "no",
          "no",
          "no",
          "no",
          "no",
          "no",
          "no",
          "no",
          "no",
          "no",
          "no",
          "no",
          "no",
          "no",
          "no",
          "no",
          "no",
          "no",
          "no",
          "no",
          "no",
          "no",
          "no",
          "no",
          "no",
          "no",
          "no",
          "no",
          "no",
          "no",
          "no",
          "no",
          "no",
          "no",
          "no",
          "no",
          "no",
          "no",
          "no",
          "no",
          "no",
          "no",
          "no",
          "no",
          "no",
          "no",
          "no",
          "no",
          "no",
          "no",
          "no",
          "no",
          "no",
          "no",
          "no",
          "no",
          "no",
          "no",
          "no",
          "no",
          "no",
          "no",
          "no",
          "no",
          "no",
          "no",
          "no",
          "no",
          "no",
          "no",
          "no",
          "no",
          "no",
          "no",
          "no",
          "no",
          "no",
          "no",
          "no",
          "no",
          "no",
          "no",
          "no",
          "no",
          "no",
          "no",
          "no",
          "no",
          "no",
          "no",
          "no",
          "no",
          "no",
          "no",
          "no",
          "no",
          "no",
          "no",
          "no",
          "no",
          "no",
          "no",
          "no",
          "no",
          "no",
          "no",
          "no",
          "no",
          "no",
          "no",
          "no",
          "no",
          "no",
          "no",
          "no",
          "no",
          "no",
          "no",
          "no",
          "no",
          "no",
          "no",
          "no",
          "no",
          "no",
          "no",
          "no",
          "no",
          "no",
          "no",
          "no",
          "no",
          "no",
          "no",
          "no",
          "no",
          "no",
          "no",
          "no",
          "no",
          "no",
          "no",
          "no",
          "no",
          "no",
          "no",
          "no",
          "no",
          "no",
          "no",
          "no",
          "no",
          "no",
          "no",
          "no",
          "no",
          "no",
          "no",
          "no",
          "no",
          "no",
          "no",
          "no",
          "no",
          "no",
          "no",
          "no",
          "no",
          "no",
          "no",
          "no",
          "no",
          "no",
          "no",
          "no",
          "no",
          "no",
          "no",
          "no",
          "no",
          "no",
          "no",
          "no",
          "no",
          "no",
          "no",
          "no",
          "no",
          "no",
          "no",
          "no",
          "no",
          "no",
          "no",
          "no",
          "no",
          "no",
          "no"
         ],
         "x0": " ",
         "xaxis": "x",
         "y": [
          1725.5523,
          4449.462,
          21984.47061,
          3866.8552,
          3756.6216,
          8240.5896,
          7281.5056,
          6406.4107,
          28923.13692,
          2721.3208,
          1826.843,
          11090.7178,
          1837.237,
          10797.3362,
          2395.17155,
          10602.385,
          13228.84695,
          4149.736,
          1137.011,
          6203.90175,
          14001.1338,
          14451.83515,
          12268.63225,
          2775.19215,
          2198.18985,
          4687.797,
          13770.0979,
          1625.43375,
          15612.19335,
          2302.3,
          3046.062,
          4949.7587,
          6272.4772,
          6313.759,
          6079.6715,
          20630.28351,
          3393.35635,
          3556.9223,
          12629.8967,
          2211.13075,
          3579.8287,
          8059.6791,
          13607.36875,
          5989.52365,
          8606.2174,
          4504.6624,
          30166.61817,
          4133.64165,
          1743.214,
          14235.072,
          6389.37785,
          5920.1041,
          6799.458,
          11741.726,
          11946.6259,
          7726.854,
          11356.6609,
          3947.4131,
          1532.4697,
          2755.02095,
          6571.02435,
          4441.21315,
          7935.29115,
          11033.6617,
          11073.176,
          8026.6666,
          11082.5772,
          2026.9741,
          10942.13205,
          5729.0053,
          3766.8838,
          12105.32,
          10226.2842,
          6186.127,
          3645.0894,
          21344.8467,
          5003.853,
          2331.519,
          3877.30425,
          2867.1196,
          10825.2537,
          11881.358,
          4646.759,
          2404.7338,
          11488.31695,
          30259.99556,
          11381.3254,
          8601.3293,
          6686.4313,
          7740.337,
          1705.6245,
          2257.47525,
          10115.00885,
          3385.39915,
          9634.538,
          6082.405,
          12815.44495,
          13616.3586,
          11163.568,
          1632.56445,
          2457.21115,
          2155.6815,
          1261.442,
          2045.68525,
          27322.73386,
          2166.732,
          27375.90478,
          3490.5491,
          18157.876,
          5138.2567,
          9877.6077,
          10959.6947,
          1842.519,
          5125.2157,
          7789.635,
          6334.34355,
          7077.1894,
          6948.7008,
          19749.38338,
          10450.552,
          5152.134,
          5028.1466,
          10407.08585,
          4830.63,
          6128.79745,
          2719.27975,
          4827.90495,
          13405.3903,
          8116.68,
          1694.7964,
          5246.047,
          2855.43755,
          6455.86265,
          10436.096,
          8823.279,
          8538.28845,
          11735.87905,
          1631.8212,
          4005.4225,
          7419.4779,
          7731.4271,
          3981.9768,
          5325.651,
          6775.961,
          4922.9159,
          12557.6053,
          4883.866,
          2137.6536,
          12044.342,
          1137.4697,
          1639.5631,
          5649.715,
          8516.829,
          9644.2525,
          14901.5167,
          2130.6759,
          8871.1517,
          13012.20865,
          7147.105,
          4337.7352,
          11743.299,
          13880.949,
          6610.1097,
          1980.07,
          8162.71625,
          3537.703,
          5002.7827,
          8520.026,
          7371.772,
          10355.641,
          2483.736,
          3392.9768,
          25081.76784,
          5012.471,
          10564.8845,
          5253.524,
          11987.1682,
          2689.4954,
          24227.33724,
          7358.17565,
          9225.2564,
          7443.64305,
          14001.2867,
          1727.785,
          12333.828,
          6710.1919,
          1615.7667,
          4463.2051,
          7152.6714,
          5354.07465,
          35160.13457,
          7196.867,
          24476.47851,
          12648.7034,
          1986.9334,
          1832.094,
          4040.55825,
          4260.744,
          13047.33235,
          5400.9805,
          11520.09985,
          11837.16,
          20462.99766,
          14590.63205,
          7441.053,
          9282.4806,
          1719.4363,
          7265.7025,
          9617.66245,
          2523.1695,
          9715.841,
          2803.69785,
          2150.469,
          12928.7911,
          9855.1314,
          4237.12655,
          11879.10405,
          9625.92,
          7742.1098,
          9432.9253,
          14256.1928,
          25992.82104,
          3172.018,
          20277.80751,
          2156.7518,
          3906.127,
          1704.5681,
          9249.4952,
          6746.7425,
          12265.5069,
          4349.462,
          12646.207,
          19442.3535,
          20177.67113,
          4151.0287,
          11944.59435,
          7749.1564,
          8444.474,
          1737.376,
          8124.4084,
          9722.7695,
          8835.26495,
          10435.06525,
          7421.19455,
          4667.60765,
          4894.7533,
          24671.66334,
          11566.30055,
          2866.091,
          6600.20595,
          3561.8889,
          9144.565,
          13429.0354,
          11658.37915,
          19144.57652,
          13822.803,
          12142.5786,
          13937.6665,
          8232.6388,
          18955.22017,
          13352.0998,
          13217.0945,
          13981.85035,
          10977.2063,
          6184.2994,
          4889.9995,
          8334.45755,
          5478.0368,
          1635.73365,
          11830.6072,
          8932.084,
          3554.203,
          12404.8791,
          14133.03775,
          24603.04837,
          8944.1151,
          9620.3307,
          1837.2819,
          1607.5101,
          10043.249,
          4751.07,
          2597.779,
          3180.5101,
          9778.3472,
          13430.265,
          8017.06115,
          8116.26885,
          3481.868,
          13415.0381,
          12029.2867,
          7639.41745,
          1391.5287,
          16455.70785,
          27000.98473,
          20781.48892,
          5846.9176,
          8302.53565,
          1261.859,
          11856.4115,
          30284.64294,
          3176.8159,
          4618.0799,
          10736.87075,
          2138.0707,
          8964.06055,
          9290.1395,
          9411.005,
          7526.70645,
          8522.003,
          16586.49771,
          14988.432,
          1631.6683,
          9264.797,
          8083.9198,
          14692.66935,
          10269.46,
          3260.199,
          11396.9002,
          4185.0979,
          8539.671,
          6652.5288,
          4074.4537,
          1621.3402,
          5080.096,
          2134.9015,
          7345.7266,
          9140.951,
          14418.2804,
          2727.3951,
          8968.33,
          9788.8659,
          6555.07035,
          7323.734819,
          3167.45585,
          18804.7524,
          23082.95533,
          4906.40965,
          5969.723,
          12638.195,
          4243.59005,
          13919.8229,
          2254.7967,
          5926.846,
          12592.5345,
          2897.3235,
          4738.2682,
          1149.3959,
          28287.89766,
          7345.084,
          12730.9996,
          11454.0215,
          5910.944,
          4762.329,
          7512.267,
          4032.2407,
          1969.614,
          1769.53165,
          4686.3887,
          21797.0004,
          11881.9696,
          11840.77505,
          10601.412,
          7682.67,
          10381.4787,
          15230.32405,
          11165.41765,
          1632.03625,
          13224.693,
          12643.3778,
          23288.9284,
          2201.0971,
          2497.0383,
          2203.47185,
          1744.465,
          20878.78443,
          2534.39375,
          1534.3045,
          1824.2854,
          15555.18875,
          9304.7019,
          1622.1885,
          9880.068,
          9563.029,
          4347.02335,
          12475.3513,
          1253.936,
          10461.9794,
          1748.774,
          24513.09126,
          2196.4732,
          12574.049,
          1967.0227,
          4931.647,
          8027.968,
          8211.1002,
          13470.86,
          6837.3687,
          5974.3847,
          6796.86325,
          2643.2685,
          3077.0955,
          3044.2133,
          11455.28,
          11763.0009,
          2498.4144,
          9361.3268,
          1256.299,
          11362.755,
          27724.28875,
          8413.46305,
          5240.765,
          3857.75925,
          25656.57526,
          3994.1778,
          9866.30485,
          5397.6167,
          11482.63485,
          24059.68019,
          9861.025,
          8342.90875,
          1708.0014,
          14043.4767,
          12925.886,
          19214.70553,
          13831.1152,
          6067.12675,
          5972.378,
          8825.086,
          8233.0975,
          27346.04207,
          6196.448,
          3056.3881,
          13887.204,
          10231.4999,
          3268.84665,
          11538.421,
          3213.62205,
          13390.559,
          3972.9247,
          12957.118,
          11187.6567,
          17878.90068,
          3847.674,
          8334.5896,
          3935.1799,
          1646.4297,
          9193.8385,
          10923.9332,
          2494.022,
          9058.7303,
          2801.2588,
          2128.43105,
          6373.55735,
          7256.7231,
          11552.904,
          3761.292,
          2219.4451,
          4753.6368,
          31620.00106,
          13224.05705,
          12222.8983,
          1664.9996,
          9724.53,
          3206.49135,
          12913.9924,
          6356.2707,
          17626.23951,
          1242.816,
          4779.6023,
          3861.20965,
          13635.6379,
          5976.8311,
          11842.442,
          8428.0693,
          2566.4707,
          5709.1644,
          8823.98575,
          7640.3092,
          5594.8455,
          7441.501,
          33471.97189,
          1633.0444,
          9174.13565,
          11070.535,
          16085.1275,
          9283.562,
          3558.62025,
          4435.0942,
          8547.6913,
          6571.544,
          2207.69745,
          6753.038,
          1880.07,
          11658.11505,
          10713.644,
          3659.346,
          9182.17,
          12129.61415,
          3736.4647,
          6748.5912,
          11326.71487,
          11365.952,
          10085.846,
          1977.815,
          3366.6697,
          7173.35995,
          9391.346,
          14410.9321,
          2709.1119,
          24915.04626,
          12949.1554,
          6666.243,
          13143.86485,
          4466.6214,
          18806.14547,
          10141.1362,
          6123.5688,
          8252.2843,
          1712.227,
          12430.95335,
          9800.8882,
          10579.711,
          8280.6227,
          8527.532,
          12244.531,
          3410.324,
          4058.71245,
          26392.26029,
          14394.39815,
          6435.6237,
          22192.43711,
          5148.5526,
          1136.3994,
          8703.456,
          6500.2359,
          4837.5823,
          3943.5954,
          4399.731,
          6185.3208,
          7222.78625,
          12485.8009,
          12363.547,
          10156.7832,
          2585.269,
          1242.26,
          9863.4718,
          4766.022,
          11244.3769,
          7729.64575,
          5438.7491,
          26236.57997,
          2104.1134,
          8068.185,
          2362.22905,
          2352.96845,
          3577.999,
          3201.24515,
          29186.48236,
          10976.24575,
          3500.6123,
          2020.5523,
          9541.69555,
          9504.3103,
          5385.3379,
          8930.93455,
          5375.038,
          10264.4421,
          6113.23105,
          5469.0066,
          1727.54,
          10107.2206,
          8310.83915,
          1984.4533,
          2457.502,
          12146.971,
          9566.9909,
          13112.6048,
          10848.1343,
          12231.6136,
          9875.6804,
          11264.541,
          12979.358,
          1263.249,
          10106.13425,
          6664.68595,
          2217.6012,
          6781.3542,
          10065.413,
          4234.927,
          9447.25035,
          14007.222,
          9583.8933,
          3484.331,
          8604.48365,
          3757.8448,
          8827.2099,
          9910.35985,
          11737.84884,
          1627.28245,
          8556.907,
          3062.50825,
          1906.35825,
          14210.53595,
          11833.7823,
          17128.42608,
          5031.26955,
          7985.815,
          5428.7277,
          3925.7582,
          2416.955,
          3070.8087,
          9095.06825,
          11842.62375,
          8062.764,
          7050.642,
          14319.031,
          6933.24225,
          27941.28758,
          11150.78,
          12797.20962,
          7261.741,
          10560.4917,
          6986.697,
          7448.40395,
          5934.3798,
          9869.8102,
          1146.7966,
          9386.1613,
          4350.5144,
          6414.178,
          12741.16745,
          1917.3184,
          5209.57885,
          13457.9608,
          5662.225,
          1252.407,
          2731.9122,
          7209.4918,
          4266.1658,
          4719.52405,
          11848.141,
          7046.7222,
          14313.8463,
          2103.08,
          1815.8759,
          7731.85785,
          28476.73499,
          2136.88225,
          1131.5066,
          3309.7926,
          9414.92,
          6360.9936,
          11013.7119,
          4428.88785,
          5584.3057,
          1877.9294,
          2842.76075,
          3597.596,
          7445.918,
          2680.9493,
          1621.8827,
          8219.2039,
          12523.6048,
          16069.08475,
          6117.4945,
          13393.756,
          5266.3656,
          4719.73655,
          11743.9341,
          5377.4578,
          7160.3303,
          4402.233,
          11657.7189,
          6402.29135,
          12622.1795,
          1526.312,
          12323.936,
          10072.05505,
          9872.701,
          2438.0552,
          2974.126,
          10601.63225,
          14119.62,
          11729.6795,
          1875.344,
          18218.16139,
          10965.446,
          7151.092,
          12269.68865,
          5458.04645,
          8782.469,
          6600.361,
          1141.4451,
          11576.13,
          13129.60345,
          4391.652,
          8457.818,
          3392.3652,
          5966.8874,
          6849.026,
          8891.1395,
          2690.1138,
          26140.3603,
          6653.7886,
          6282.235,
          6311.952,
          3443.064,
          2789.0574,
          2585.85065,
          4877.98105,
          5272.1758,
          1682.597,
          11945.1327,
          7243.8136,
          10422.91665,
          13555.0049,
          13063.883,
          2221.56445,
          1634.5734,
          2117.33885,
          8688.85885,
          4661.28635,
          8125.7845,
          12644.589,
          4564.19145,
          4846.92015,
          7633.7206,
          15170.069,
          2639.0429,
          14382.70905,
          7626.993,
          5257.50795,
          2473.3341,
          13041.921,
          5245.2269,
          13451.122,
          13462.52,
          5488.262,
          4320.41085,
          6250.435,
          25333.33284,
          2913.569,
          12032.326,
          13470.8044,
          6289.7549,
          2927.0647,
          6238.298,
          10096.97,
          7348.142,
          4673.3922,
          12233.828,
          32108.66282,
          8965.79575,
          2304.0022,
          9487.6442,
          1121.8739,
          9549.5651,
          2217.46915,
          1628.4709,
          12982.8747,
          11674.13,
          7160.094,
          6358.77645,
          11534.87265,
          4527.18295,
          3875.7341,
          12609.88702,
          28468.91901,
          2730.10785,
          3353.284,
          14474.675,
          9500.57305,
          26467.09737,
          4746.344,
          7518.02535,
          3279.86855,
          8596.8278,
          10702.6424,
          4992.3764,
          2527.81865,
          1759.338,
          2322.6218,
          7804.1605,
          2902.9065,
          9704.66805,
          4889.0368,
          25517.11363,
          4500.33925,
          16796.41194,
          4915.05985,
          7624.63,
          8410.04685,
          28340.18885,
          4518.82625,
          3378.91,
          7144.86265,
          10118.424,
          5484.4673,
          7986.47525,
          7418.522,
          13887.9685,
          6551.7501,
          5267.81815,
          1972.95,
          21232.18226,
          8627.5411,
          4433.3877,
          4438.2634,
          23241.47453,
          9957.7216,
          8269.044,
          36580.28216,
          8765.249,
          5383.536,
          12124.9924,
          2709.24395,
          3987.926,
          12495.29085,
          26018.95052,
          8798.593,
          1711.0268,
          8569.8618,
          2020.177,
          21595.38229,
          9850.432,
          6877.9801,
          4137.5227,
          12950.0712,
          12094.478,
          2250.8352,
          22493.65964,
          1704.70015,
          3161.454,
          11394.06555,
          7325.0482,
          3594.17085,
          8023.13545,
          14394.5579,
          9288.0267,
          3353.4703,
          10594.50155,
          8277.523,
          17929.30337,
          2480.9791,
          4462.7218,
          1981.5819,
          11554.2236,
          6548.19505,
          5708.867,
          7045.499,
          8978.1851,
          5757.41345,
          14349.8544,
          10928.849,
          13974.45555,
          1909.52745,
          12096.6512,
          13204.28565,
          4562.8421,
          8551.347,
          2102.2647,
          15161.5344,
          11884.04858,
          4454.40265,
          5855.9025,
          4076.497,
          15019.76005,
          10796.35025,
          11353.2276,
          9748.9106,
          10577.087,
          11286.5387,
          3591.48,
          11299.343,
          4561.1885,
          1674.6323,
          23045.56616,
          3227.1211,
          11253.421,
          3471.4096,
          11363.2832,
          20420.60465,
          10338.9316,
          8988.15875,
          10493.9458,
          2904.088,
          8605.3615,
          11512.405,
          5312.16985,
          2396.0959,
          10807.4863,
          9222.4026,
          5693.4305,
          8347.1643,
          18903.49141,
          14254.6082,
          10214.636,
          5836.5204,
          14358.36437,
          1728.897,
          8582.3023,
          3693.428,
          20709.02034,
          9991.03765,
          19673.33573,
          11085.5868,
          7623.518,
          3176.2877,
          3704.3545,
          9048.0273,
          7954.517,
          27117.99378,
          6338.0756,
          9630.397,
          11289.10925,
          2261.5688,
          10791.96,
          5979.731,
          2203.73595,
          12235.8392,
          5630.45785,
          11015.1747,
          7228.21565,
          14426.07385,
          2459.7201,
          3989.841,
          7727.2532,
          5124.1887,
          18963.17192,
          2200.83085,
          7153.5539,
          5227.98875,
          10982.5013,
          4529.477,
          4670.64,
          6112.35295,
          11093.6229,
          6457.8434,
          4433.9159,
          2154.361,
          6496.886,
          2899.48935,
          7650.77375,
          2850.68375,
          2632.992,
          9447.3824,
          8603.8234,
          13844.7972,
          13126.67745,
          5327.40025,
          13725.47184,
          13019.16105,
          8671.19125,
          4134.08245,
          18838.70366,
          5699.8375,
          6393.60345,
          4934.705,
          6198.7518,
          8733.22925,
          2055.3249,
          9964.06,
          5116.5004,
          36910.60803,
          12347.172,
          5373.36425,
          23563.01618,
          1702.4553,
          10806.839,
          3956.07145,
          12890.05765,
          5415.6612,
          4058.1161,
          7537.1639,
          4718.20355,
          6593.5083,
          8442.667,
          6858.4796,
          4795.6568,
          6640.54485,
          7162.0122,
          10594.2257,
          11938.25595,
          12479.70895,
          11345.519,
          8515.7587,
          2699.56835,
          14449.8544,
          12224.35085,
          6985.50695,
          3238.4357,
          4296.2712,
          3171.6149,
          1135.9407,
          5615.369,
          9101.798,
          6059.173,
          1633.9618,
          1241.565,
          15828.82173,
          4415.1588,
          6474.013,
          11436.73815,
          11305.93455,
          30063.58055,
          10197.7722,
          4544.2348,
          3277.161,
          6770.1925,
          7337.748,
          10370.91255,
          10704.47,
          1880.487,
          8615.3,
          3292.52985,
          3021.80915,
          14478.33015,
          4747.0529,
          10959.33,
          2741.948,
          4357.04365,
          4189.1131,
          8283.6807,
          1720.3537,
          8534.6718,
          3732.6251,
          5472.449,
          7147.4728,
          7133.9025,
          1515.3449,
          9301.89355,
          11931.12525,
          1964.78,
          1708.92575,
          4340.4409,
          5261.46945,
          2710.82855,
          3208.787,
          2464.6188,
          6875.961,
          6940.90985,
          4571.41305,
          4536.259,
          11272.33139,
          1731.677,
          1163.4627,
          19496.71917,
          7201.70085,
          5425.02335,
          12981.3457,
          4239.89265,
          13143.33665,
          7050.0213,
          9377.9047,
          22395.74424,
          10325.206,
          12629.1656,
          10795.93733,
          11411.685,
          10600.5483,
          2205.9808,
          1629.8335,
          2007.945
         ],
         "y0": " ",
         "yaxis": "y"
        }
       ],
       "layout": {
        "boxmode": "overlay",
        "legend": {
         "title": {
          "text": "smoker"
         },
         "tracegroupgap": 0
        },
        "template": {
         "data": {
          "bar": [
           {
            "error_x": {
             "color": "#2a3f5f"
            },
            "error_y": {
             "color": "#2a3f5f"
            },
            "marker": {
             "line": {
              "color": "#E5ECF6",
              "width": 0.5
             },
             "pattern": {
              "fillmode": "overlay",
              "size": 10,
              "solidity": 0.2
             }
            },
            "type": "bar"
           }
          ],
          "barpolar": [
           {
            "marker": {
             "line": {
              "color": "#E5ECF6",
              "width": 0.5
             },
             "pattern": {
              "fillmode": "overlay",
              "size": 10,
              "solidity": 0.2
             }
            },
            "type": "barpolar"
           }
          ],
          "carpet": [
           {
            "aaxis": {
             "endlinecolor": "#2a3f5f",
             "gridcolor": "white",
             "linecolor": "white",
             "minorgridcolor": "white",
             "startlinecolor": "#2a3f5f"
            },
            "baxis": {
             "endlinecolor": "#2a3f5f",
             "gridcolor": "white",
             "linecolor": "white",
             "minorgridcolor": "white",
             "startlinecolor": "#2a3f5f"
            },
            "type": "carpet"
           }
          ],
          "choropleth": [
           {
            "colorbar": {
             "outlinewidth": 0,
             "ticks": ""
            },
            "type": "choropleth"
           }
          ],
          "contour": [
           {
            "colorbar": {
             "outlinewidth": 0,
             "ticks": ""
            },
            "colorscale": [
             [
              0,
              "#0d0887"
             ],
             [
              0.1111111111111111,
              "#46039f"
             ],
             [
              0.2222222222222222,
              "#7201a8"
             ],
             [
              0.3333333333333333,
              "#9c179e"
             ],
             [
              0.4444444444444444,
              "#bd3786"
             ],
             [
              0.5555555555555556,
              "#d8576b"
             ],
             [
              0.6666666666666666,
              "#ed7953"
             ],
             [
              0.7777777777777778,
              "#fb9f3a"
             ],
             [
              0.8888888888888888,
              "#fdca26"
             ],
             [
              1,
              "#f0f921"
             ]
            ],
            "type": "contour"
           }
          ],
          "contourcarpet": [
           {
            "colorbar": {
             "outlinewidth": 0,
             "ticks": ""
            },
            "type": "contourcarpet"
           }
          ],
          "heatmap": [
           {
            "colorbar": {
             "outlinewidth": 0,
             "ticks": ""
            },
            "colorscale": [
             [
              0,
              "#0d0887"
             ],
             [
              0.1111111111111111,
              "#46039f"
             ],
             [
              0.2222222222222222,
              "#7201a8"
             ],
             [
              0.3333333333333333,
              "#9c179e"
             ],
             [
              0.4444444444444444,
              "#bd3786"
             ],
             [
              0.5555555555555556,
              "#d8576b"
             ],
             [
              0.6666666666666666,
              "#ed7953"
             ],
             [
              0.7777777777777778,
              "#fb9f3a"
             ],
             [
              0.8888888888888888,
              "#fdca26"
             ],
             [
              1,
              "#f0f921"
             ]
            ],
            "type": "heatmap"
           }
          ],
          "heatmapgl": [
           {
            "colorbar": {
             "outlinewidth": 0,
             "ticks": ""
            },
            "colorscale": [
             [
              0,
              "#0d0887"
             ],
             [
              0.1111111111111111,
              "#46039f"
             ],
             [
              0.2222222222222222,
              "#7201a8"
             ],
             [
              0.3333333333333333,
              "#9c179e"
             ],
             [
              0.4444444444444444,
              "#bd3786"
             ],
             [
              0.5555555555555556,
              "#d8576b"
             ],
             [
              0.6666666666666666,
              "#ed7953"
             ],
             [
              0.7777777777777778,
              "#fb9f3a"
             ],
             [
              0.8888888888888888,
              "#fdca26"
             ],
             [
              1,
              "#f0f921"
             ]
            ],
            "type": "heatmapgl"
           }
          ],
          "histogram": [
           {
            "marker": {
             "pattern": {
              "fillmode": "overlay",
              "size": 10,
              "solidity": 0.2
             }
            },
            "type": "histogram"
           }
          ],
          "histogram2d": [
           {
            "colorbar": {
             "outlinewidth": 0,
             "ticks": ""
            },
            "colorscale": [
             [
              0,
              "#0d0887"
             ],
             [
              0.1111111111111111,
              "#46039f"
             ],
             [
              0.2222222222222222,
              "#7201a8"
             ],
             [
              0.3333333333333333,
              "#9c179e"
             ],
             [
              0.4444444444444444,
              "#bd3786"
             ],
             [
              0.5555555555555556,
              "#d8576b"
             ],
             [
              0.6666666666666666,
              "#ed7953"
             ],
             [
              0.7777777777777778,
              "#fb9f3a"
             ],
             [
              0.8888888888888888,
              "#fdca26"
             ],
             [
              1,
              "#f0f921"
             ]
            ],
            "type": "histogram2d"
           }
          ],
          "histogram2dcontour": [
           {
            "colorbar": {
             "outlinewidth": 0,
             "ticks": ""
            },
            "colorscale": [
             [
              0,
              "#0d0887"
             ],
             [
              0.1111111111111111,
              "#46039f"
             ],
             [
              0.2222222222222222,
              "#7201a8"
             ],
             [
              0.3333333333333333,
              "#9c179e"
             ],
             [
              0.4444444444444444,
              "#bd3786"
             ],
             [
              0.5555555555555556,
              "#d8576b"
             ],
             [
              0.6666666666666666,
              "#ed7953"
             ],
             [
              0.7777777777777778,
              "#fb9f3a"
             ],
             [
              0.8888888888888888,
              "#fdca26"
             ],
             [
              1,
              "#f0f921"
             ]
            ],
            "type": "histogram2dcontour"
           }
          ],
          "mesh3d": [
           {
            "colorbar": {
             "outlinewidth": 0,
             "ticks": ""
            },
            "type": "mesh3d"
           }
          ],
          "parcoords": [
           {
            "line": {
             "colorbar": {
              "outlinewidth": 0,
              "ticks": ""
             }
            },
            "type": "parcoords"
           }
          ],
          "pie": [
           {
            "automargin": true,
            "type": "pie"
           }
          ],
          "scatter": [
           {
            "fillpattern": {
             "fillmode": "overlay",
             "size": 10,
             "solidity": 0.2
            },
            "type": "scatter"
           }
          ],
          "scatter3d": [
           {
            "line": {
             "colorbar": {
              "outlinewidth": 0,
              "ticks": ""
             }
            },
            "marker": {
             "colorbar": {
              "outlinewidth": 0,
              "ticks": ""
             }
            },
            "type": "scatter3d"
           }
          ],
          "scattercarpet": [
           {
            "marker": {
             "colorbar": {
              "outlinewidth": 0,
              "ticks": ""
             }
            },
            "type": "scattercarpet"
           }
          ],
          "scattergeo": [
           {
            "marker": {
             "colorbar": {
              "outlinewidth": 0,
              "ticks": ""
             }
            },
            "type": "scattergeo"
           }
          ],
          "scattergl": [
           {
            "marker": {
             "colorbar": {
              "outlinewidth": 0,
              "ticks": ""
             }
            },
            "type": "scattergl"
           }
          ],
          "scattermapbox": [
           {
            "marker": {
             "colorbar": {
              "outlinewidth": 0,
              "ticks": ""
             }
            },
            "type": "scattermapbox"
           }
          ],
          "scatterpolar": [
           {
            "marker": {
             "colorbar": {
              "outlinewidth": 0,
              "ticks": ""
             }
            },
            "type": "scatterpolar"
           }
          ],
          "scatterpolargl": [
           {
            "marker": {
             "colorbar": {
              "outlinewidth": 0,
              "ticks": ""
             }
            },
            "type": "scatterpolargl"
           }
          ],
          "scatterternary": [
           {
            "marker": {
             "colorbar": {
              "outlinewidth": 0,
              "ticks": ""
             }
            },
            "type": "scatterternary"
           }
          ],
          "surface": [
           {
            "colorbar": {
             "outlinewidth": 0,
             "ticks": ""
            },
            "colorscale": [
             [
              0,
              "#0d0887"
             ],
             [
              0.1111111111111111,
              "#46039f"
             ],
             [
              0.2222222222222222,
              "#7201a8"
             ],
             [
              0.3333333333333333,
              "#9c179e"
             ],
             [
              0.4444444444444444,
              "#bd3786"
             ],
             [
              0.5555555555555556,
              "#d8576b"
             ],
             [
              0.6666666666666666,
              "#ed7953"
             ],
             [
              0.7777777777777778,
              "#fb9f3a"
             ],
             [
              0.8888888888888888,
              "#fdca26"
             ],
             [
              1,
              "#f0f921"
             ]
            ],
            "type": "surface"
           }
          ],
          "table": [
           {
            "cells": {
             "fill": {
              "color": "#EBF0F8"
             },
             "line": {
              "color": "white"
             }
            },
            "header": {
             "fill": {
              "color": "#C8D4E3"
             },
             "line": {
              "color": "white"
             }
            },
            "type": "table"
           }
          ]
         },
         "layout": {
          "annotationdefaults": {
           "arrowcolor": "#2a3f5f",
           "arrowhead": 0,
           "arrowwidth": 1
          },
          "autotypenumbers": "strict",
          "coloraxis": {
           "colorbar": {
            "outlinewidth": 0,
            "ticks": ""
           }
          },
          "colorscale": {
           "diverging": [
            [
             0,
             "#8e0152"
            ],
            [
             0.1,
             "#c51b7d"
            ],
            [
             0.2,
             "#de77ae"
            ],
            [
             0.3,
             "#f1b6da"
            ],
            [
             0.4,
             "#fde0ef"
            ],
            [
             0.5,
             "#f7f7f7"
            ],
            [
             0.6,
             "#e6f5d0"
            ],
            [
             0.7,
             "#b8e186"
            ],
            [
             0.8,
             "#7fbc41"
            ],
            [
             0.9,
             "#4d9221"
            ],
            [
             1,
             "#276419"
            ]
           ],
           "sequential": [
            [
             0,
             "#0d0887"
            ],
            [
             0.1111111111111111,
             "#46039f"
            ],
            [
             0.2222222222222222,
             "#7201a8"
            ],
            [
             0.3333333333333333,
             "#9c179e"
            ],
            [
             0.4444444444444444,
             "#bd3786"
            ],
            [
             0.5555555555555556,
             "#d8576b"
            ],
            [
             0.6666666666666666,
             "#ed7953"
            ],
            [
             0.7777777777777778,
             "#fb9f3a"
            ],
            [
             0.8888888888888888,
             "#fdca26"
            ],
            [
             1,
             "#f0f921"
            ]
           ],
           "sequentialminus": [
            [
             0,
             "#0d0887"
            ],
            [
             0.1111111111111111,
             "#46039f"
            ],
            [
             0.2222222222222222,
             "#7201a8"
            ],
            [
             0.3333333333333333,
             "#9c179e"
            ],
            [
             0.4444444444444444,
             "#bd3786"
            ],
            [
             0.5555555555555556,
             "#d8576b"
            ],
            [
             0.6666666666666666,
             "#ed7953"
            ],
            [
             0.7777777777777778,
             "#fb9f3a"
            ],
            [
             0.8888888888888888,
             "#fdca26"
            ],
            [
             1,
             "#f0f921"
            ]
           ]
          },
          "colorway": [
           "#636efa",
           "#EF553B",
           "#00cc96",
           "#ab63fa",
           "#FFA15A",
           "#19d3f3",
           "#FF6692",
           "#B6E880",
           "#FF97FF",
           "#FECB52"
          ],
          "font": {
           "color": "#2a3f5f"
          },
          "geo": {
           "bgcolor": "white",
           "lakecolor": "white",
           "landcolor": "#E5ECF6",
           "showlakes": true,
           "showland": true,
           "subunitcolor": "white"
          },
          "hoverlabel": {
           "align": "left"
          },
          "hovermode": "closest",
          "mapbox": {
           "style": "light"
          },
          "paper_bgcolor": "white",
          "plot_bgcolor": "#E5ECF6",
          "polar": {
           "angularaxis": {
            "gridcolor": "white",
            "linecolor": "white",
            "ticks": ""
           },
           "bgcolor": "#E5ECF6",
           "radialaxis": {
            "gridcolor": "white",
            "linecolor": "white",
            "ticks": ""
           }
          },
          "scene": {
           "xaxis": {
            "backgroundcolor": "#E5ECF6",
            "gridcolor": "white",
            "gridwidth": 2,
            "linecolor": "white",
            "showbackground": true,
            "ticks": "",
            "zerolinecolor": "white"
           },
           "yaxis": {
            "backgroundcolor": "#E5ECF6",
            "gridcolor": "white",
            "gridwidth": 2,
            "linecolor": "white",
            "showbackground": true,
            "ticks": "",
            "zerolinecolor": "white"
           },
           "zaxis": {
            "backgroundcolor": "#E5ECF6",
            "gridcolor": "white",
            "gridwidth": 2,
            "linecolor": "white",
            "showbackground": true,
            "ticks": "",
            "zerolinecolor": "white"
           }
          },
          "shapedefaults": {
           "line": {
            "color": "#2a3f5f"
           }
          },
          "ternary": {
           "aaxis": {
            "gridcolor": "white",
            "linecolor": "white",
            "ticks": ""
           },
           "baxis": {
            "gridcolor": "white",
            "linecolor": "white",
            "ticks": ""
           },
           "bgcolor": "#E5ECF6",
           "caxis": {
            "gridcolor": "white",
            "linecolor": "white",
            "ticks": ""
           }
          },
          "title": {
           "x": 0.05
          },
          "xaxis": {
           "automargin": true,
           "gridcolor": "white",
           "linecolor": "white",
           "ticks": "",
           "title": {
            "standoff": 15
           },
           "zerolinecolor": "white",
           "zerolinewidth": 2
          },
          "yaxis": {
           "automargin": true,
           "gridcolor": "white",
           "linecolor": "white",
           "ticks": "",
           "title": {
            "standoff": 15
           },
           "zerolinecolor": "white",
           "zerolinewidth": 2
          }
         }
        },
        "title": {
         "text": "H1: Insurance Charges by Smoking Status"
        },
        "xaxis": {
         "anchor": "y",
         "categoryarray": [
          "yes",
          "no"
         ],
         "categoryorder": "array",
         "domain": [
          0,
          1
         ],
         "title": {
          "text": "smoker"
         }
        },
        "yaxis": {
         "anchor": "x",
         "domain": [
          0,
          1
         ],
         "title": {
          "text": "charges"
         }
        }
       }
      }
     },
     "metadata": {},
     "output_type": "display_data"
    }
   ],
   "source": [
    "fig = px.box(\n",
    "    df,\n",
    "    x='smoker',\n",
    "    y='charges',\n",
    "    color='smoker',\n",
    "    title=\"H1: Insurance Charges by Smoking Status\",\n",
    "    points='all'\n",
    ")\n",
    "fig.show()\n"
   ]
  },
  {
   "cell_type": "markdown",
   "id": "a1ef5a39",
   "metadata": {},
   "source": [
    "### Observation:\n",
    "- Smokers have dramatically higher median and mean insurance charges.\n",
    "- This confirms H1, showing smoking is the single largest driver of cost increases."
   ]
  },
  {
   "cell_type": "markdown",
   "id": "09dd1367",
   "metadata": {},
   "source": [
    "## H2: BMI vs Insurance Charges"
   ]
  },
  {
   "cell_type": "code",
   "execution_count": 20,
   "id": "61b6258e",
   "metadata": {},
   "outputs": [
    {
     "data": {
      "application/vnd.plotly.v1+json": {
       "config": {
        "plotlyServerURL": "https://plot.ly"
       },
       "data": [
        {
         "hovertemplate": "smoker=yes<br>bmi=%{x}<br>charges=%{y}<extra></extra>",
         "legendgroup": "yes",
         "marker": {
          "color": "#636efa",
          "symbol": "circle"
         },
         "mode": "markers",
         "name": "yes",
         "showlegend": true,
         "type": "scattergl",
         "x": [
          27.9,
          26.29,
          42.13,
          35.3,
          31.92,
          36.3,
          35.6,
          36.4,
          36.67,
          39.9,
          35.2,
          28,
          34.43,
          36.955,
          31.68,
          22.88,
          22.42,
          23.98,
          24.75,
          37.62,
          34.8,
          22.895,
          31.16,
          29.83,
          31.3,
          19.95,
          19.3,
          29.92,
          28.025,
          35.09,
          27.94,
          31.35,
          28.3,
          17.765,
          25.3,
          28.69,
          30.495,
          23.37,
          24.42,
          25.175,
          35.53,
          26.6,
          36.85,
          37.7,
          41.895,
          36.08,
          27.74,
          34.8,
          24.64,
          22.22,
          29.07,
          36.67,
          27.74,
          17.29,
          32.2,
          34.21,
          31.825,
          33.63,
          31.92,
          26.84,
          24.32,
          36.955,
          42.35,
          19.8,
          34.2,
          28.12,
          40.565,
          36.765,
          45.54,
          27.7,
          25.41,
          34.39,
          22.61,
          35.97,
          31.4,
          30.8,
          36.48,
          33.8,
          36.385,
          27.36,
          32.3,
          21.7,
          32.9,
          28.31,
          24.89,
          40.15,
          17.955,
          30.685,
          20.235,
          17.195,
          22.6,
          26.98,
          33.88,
          35.86,
          32.775,
          33.5,
          26.695,
          30,
          28.38,
          25.1,
          28.31,
          28.5,
          38.06,
          25.7,
          34.4,
          23.21,
          30.25,
          28.3,
          26.07,
          42.13,
          47.41,
          25.84,
          46.2,
          34.105,
          40.565,
          38.095,
          30.21,
          21.85,
          28.31,
          23.655,
          37.8,
          36.63,
          25.6,
          33.11,
          34.1,
          33.535,
          38.95,
          26.41,
          28.31,
          25.3,
          22.99,
          38.06,
          32.775,
          32.015,
          43.89,
          31.35,
          35.3,
          31.13,
          35.75,
          38.06,
          39.05,
          21.755,
          24.42,
          38.39,
          31.73,
          35.5,
          29.15,
          34.105,
          26.4,
          27.83,
          38.17,
          27.1,
          28.88,
          24.4,
          27.6,
          20.9,
          28.5,
          24.795,
          42.24,
          26.125,
          35.53,
          31.79,
          28.025,
          30.78,
          32.78,
          29.81,
          32.45,
          30.78,
          35.53,
          23.845,
          33.11,
          24.13,
          47.6,
          37.05,
          28.93,
          28.975,
          26.885,
          38.94,
          20.045,
          40.92,
          24.6,
          31.73,
          26.885,
          22.895,
          34.2,
          29.7,
          42.9,
          30.2,
          27.835,
          30.8,
          34.96,
          24.795,
          22.895,
          25.9,
          20.52,
          20.045,
          22.99,
          32.7,
          28.215,
          20.13,
          31.02,
          36.08,
          26.03,
          23.655,
          35.2,
          21.565,
          37.07,
          30.495,
          28.025,
          30.685,
          24.7,
          52.58,
          30.9,
          29.8,
          41.14,
          37.07,
          31.68,
          18.3,
          36.19,
          30.4,
          34.96,
          19.095,
          38.39,
          25.85,
          33.33,
          35.75,
          31.4,
          36.86,
          42.75,
          32.49,
          32.8,
          32.56,
          44.88,
          27.36,
          26.7,
          24.13,
          29.81,
          28.49,
          35.625,
          25.27,
          30.02,
          27.28,
          33.4,
          25.555,
          34.6,
          24.42,
          34.485,
          21.8,
          41.8,
          36.96,
          33.63,
          29.83,
          27.3,
          23.76,
          31.065,
          27.06,
          29.925,
          27.645,
          21.66,
          36.3,
          39.4,
          34.9,
          30.36,
          30.875,
          27.8,
          24.605,
          21.85,
          28.12,
          30.2,
          34.7,
          23.655,
          26.695,
          40.37,
          29.07
         ],
         "xaxis": "x",
         "y": [
          16884.924,
          27808.7251,
          39611.7577,
          36837.467,
          37701.8768,
          38711,
          35585.576,
          51194.55914,
          39774.2763,
          48173.361,
          38709.176,
          23568.272,
          37742.5757,
          47496.49445,
          34303.1672,
          23244.7902,
          14711.7438,
          17663.1442,
          16577.7795,
          37165.1638,
          39836.519,
          21098.55405,
          43578.9394,
          30184.9367,
          47291.055,
          22412.6485,
          15820.699,
          30942.1918,
          17560.37975,
          47055.5321,
          19107.7796,
          39556.4945,
          17081.08,
          32734.1863,
          18972.495,
          20745.9891,
          40720.55105,
          19964.7463,
          21223.6758,
          15518.18025,
          36950.2567,
          21348.706,
          36149.4835,
          48824.45,
          43753.33705,
          37133.8982,
          20984.0936,
          34779.615,
          19515.5416,
          19444.2658,
          17352.6803,
          38511.6283,
          29523.1656,
          12829.4551,
          47305.305,
          44260.7499,
          41097.16175,
          43921.1837,
          33750.2918,
          17085.2676,
          24869.8368,
          36219.40545,
          46151.1245,
          17179.522,
          42856.838,
          22331.5668,
          48549.17835,
          47896.79135,
          42112.2356,
          16297.846,
          21978.6769,
          38746.3551,
          24873.3849,
          42124.5153,
          34838.873,
          35491.64,
          42760.5022,
          47928.03,
          48517.56315,
          24393.6224,
          41919.097,
          13844.506,
          36085.219,
          18033.9679,
          21659.9301,
          38126.2465,
          15006.57945,
          42303.69215,
          19594.80965,
          14455.64405,
          18608.262,
          28950.4692,
          46889.2612,
          46599.1084,
          39125.33225,
          37079.372,
          26109.32905,
          22144.032,
          19521.9682,
          25382.297,
          28868.6639,
          35147.52848,
          48885.13561,
          17942.106,
          36197.699,
          22218.1149,
          32548.3405,
          21082.16,
          38245.59327,
          48675.5177,
          63770.42801,
          23807.2406,
          45863.205,
          39983.42595,
          45702.02235,
          58571.07448,
          43943.8761,
          15359.1045,
          17468.9839,
          25678.77845,
          39241.442,
          42969.8527,
          23306.547,
          34439.8559,
          40182.246,
          34617.84065,
          42983.4585,
          20149.3229,
          32787.45859,
          24667.419,
          27037.9141,
          42560.4304,
          40003.33225,
          45710.20785,
          46200.9851,
          46130.5265,
          40103.89,
          34806.4677,
          40273.6455,
          44400.4064,
          40932.4295,
          16657.71745,
          19361.9988,
          40419.0191,
          36189.1017,
          44585.45587,
          18246.4955,
          43254.41795,
          19539.243,
          23065.4207,
          36307.7983,
          19040.876,
          17748.5062,
          18259.216,
          24520.264,
          21195.818,
          18310.742,
          17904.52705,
          38792.6856,
          23401.30575,
          55135.40209,
          43813.8661,
          20773.62775,
          39597.4072,
          36021.0112,
          27533.9129,
          45008.9555,
          37270.1512,
          42111.6647,
          24106.91255,
          40974.1649,
          15817.9857,
          46113.511,
          46255.1125,
          19719.6947,
          27218.43725,
          29330.98315,
          44202.6536,
          19798.05455,
          48673.5588,
          17496.306,
          33732.6867,
          21774.32215,
          35069.37452,
          39047.285,
          19933.458,
          47462.894,
          38998.546,
          20009.63365,
          41999.52,
          41034.2214,
          23967.38305,
          16138.76205,
          19199.944,
          14571.8908,
          16420.49455,
          17361.7661,
          34472.841,
          24915.22085,
          18767.7377,
          35595.5898,
          42211.1382,
          16450.8947,
          21677.28345,
          44423.803,
          13747.87235,
          37484.4493,
          39725.51805,
          20234.85475,
          33475.81715,
          21880.82,
          44501.3982,
          39727.614,
          25309.489,
          48970.2476,
          39871.7043,
          34672.1472,
          19023.26,
          41676.0811,
          33907.548,
          44641.1974,
          16776.30405,
          41949.2441,
          24180.9335,
          36124.5737,
          38282.7495,
          34166.273,
          46661.4424,
          40904.1995,
          36898.73308,
          52590.82939,
          40941.2854,
          39722.7462,
          17178.6824,
          22478.6,
          23887.6627,
          19350.3689,
          18328.2381,
          37465.34375,
          21771.3423,
          33307.5508,
          18223.4512,
          38415.474,
          20296.86345,
          41661.602,
          26125.67477,
          60021.39897,
          20167.33603,
          47269.854,
          49577.6624,
          37607.5277,
          18648.4217,
          16232.847,
          26926.5144,
          34254.05335,
          17043.3414,
          22462.04375,
          24535.69855,
          14283.4594,
          47403.88,
          38344.566,
          34828.654,
          62592.87309,
          46718.16325,
          37829.7242,
          21259.37795,
          16115.3045,
          21472.4788,
          33900.653,
          36397.576,
          18765.87545,
          28101.33305,
          43896.3763,
          29141.3603
         ],
         "yaxis": "y"
        },
        {
         "hovertemplate": "<b>OLS trendline</b><br>charges = 1473.11 * bmi + -13186.6<br>R<sup>2</sup>=0.650411<br><br>smoker=yes<br>bmi=%{x}<br>charges=%{y} <b>(trend)</b><extra></extra>",
         "legendgroup": "yes",
         "marker": {
          "color": "#636efa",
          "symbol": "circle"
         },
         "mode": "lines",
         "name": "yes",
         "showlegend": false,
         "type": "scattergl",
         "x": [
          17.195,
          17.29,
          17.765,
          17.955,
          18.3,
          19.095,
          19.3,
          19.8,
          19.95,
          20.045,
          20.045,
          20.13,
          20.235,
          20.52,
          20.9,
          21.565,
          21.66,
          21.7,
          21.755,
          21.8,
          21.85,
          21.85,
          22.22,
          22.42,
          22.6,
          22.61,
          22.88,
          22.895,
          22.895,
          22.895,
          22.99,
          22.99,
          23.21,
          23.37,
          23.655,
          23.655,
          23.655,
          23.76,
          23.845,
          23.98,
          24.13,
          24.13,
          24.32,
          24.4,
          24.42,
          24.42,
          24.42,
          24.6,
          24.605,
          24.64,
          24.7,
          24.75,
          24.795,
          24.795,
          24.89,
          25.1,
          25.175,
          25.27,
          25.3,
          25.3,
          25.41,
          25.555,
          25.6,
          25.7,
          25.84,
          25.85,
          25.9,
          26.03,
          26.07,
          26.125,
          26.29,
          26.4,
          26.41,
          26.6,
          26.695,
          26.695,
          26.7,
          26.84,
          26.885,
          26.885,
          26.98,
          27.06,
          27.1,
          27.28,
          27.3,
          27.36,
          27.36,
          27.6,
          27.645,
          27.7,
          27.74,
          27.74,
          27.8,
          27.83,
          27.835,
          27.9,
          27.94,
          28,
          28.025,
          28.025,
          28.025,
          28.12,
          28.12,
          28.215,
          28.3,
          28.3,
          28.31,
          28.31,
          28.31,
          28.31,
          28.38,
          28.49,
          28.5,
          28.5,
          28.69,
          28.88,
          28.93,
          28.975,
          29.07,
          29.07,
          29.15,
          29.7,
          29.8,
          29.81,
          29.81,
          29.83,
          29.83,
          29.92,
          29.925,
          30,
          30.02,
          30.2,
          30.2,
          30.21,
          30.25,
          30.36,
          30.4,
          30.495,
          30.495,
          30.685,
          30.685,
          30.78,
          30.78,
          30.8,
          30.8,
          30.875,
          30.9,
          31.02,
          31.065,
          31.13,
          31.16,
          31.3,
          31.35,
          31.35,
          31.4,
          31.4,
          31.68,
          31.68,
          31.73,
          31.73,
          31.79,
          31.825,
          31.92,
          31.92,
          32.015,
          32.2,
          32.3,
          32.45,
          32.49,
          32.56,
          32.7,
          32.775,
          32.775,
          32.78,
          32.8,
          32.9,
          33.11,
          33.11,
          33.33,
          33.4,
          33.5,
          33.535,
          33.63,
          33.63,
          33.8,
          33.88,
          34.1,
          34.105,
          34.105,
          34.2,
          34.2,
          34.21,
          34.39,
          34.4,
          34.43,
          34.485,
          34.6,
          34.7,
          34.8,
          34.8,
          34.9,
          34.96,
          34.96,
          35.09,
          35.2,
          35.2,
          35.3,
          35.3,
          35.5,
          35.53,
          35.53,
          35.53,
          35.6,
          35.625,
          35.75,
          35.75,
          35.86,
          35.97,
          36.08,
          36.08,
          36.19,
          36.3,
          36.3,
          36.385,
          36.4,
          36.48,
          36.63,
          36.67,
          36.67,
          36.765,
          36.85,
          36.86,
          36.955,
          36.955,
          36.96,
          37.05,
          37.07,
          37.07,
          37.62,
          37.7,
          37.8,
          38.06,
          38.06,
          38.06,
          38.095,
          38.17,
          38.39,
          38.39,
          38.94,
          38.95,
          39.05,
          39.4,
          39.9,
          40.15,
          40.37,
          40.565,
          40.565,
          40.92,
          41.14,
          41.8,
          41.895,
          42.13,
          42.13,
          42.24,
          42.35,
          42.75,
          42.9,
          43.89,
          44.88,
          45.54,
          46.2,
          47.41,
          47.6,
          52.58
         ],
         "xaxis": "x",
         "y": [
          12143.485726828034,
          12283.430821024669,
          12983.156292007845,
          13263.046480401112,
          13771.268138273104,
          14942.38761076073,
          15244.374392974527,
          15980.927520325235,
          16201.893458530447,
          16341.838552727086,
          16341.838552727086,
          16467.052584376703,
          16621.72874112035,
          17041.564023710256,
          17601.344400496797,
          18580.960059873243,
          18720.90515406988,
          18779.82940425793,
          18860.850248266506,
          18927.140029728078,
          19000.79534246315,
          19000.79534246315,
          19545.84465670267,
          19840.465907642953,
          20105.62503348921,
          20120.356096036223,
          20518.094784805602,
          20540.19137862613,
          20540.19137862613,
          20540.19137862613,
          20680.136472822764,
          20680.136472822764,
          21004.21984885708,
          21239.916849609304,
          21659.75213219921,
          21659.75213219921,
          21659.75213219921,
          21814.428288942858,
          21939.642320592473,
          22138.511664977166,
          22359.47760318238,
          22359.47760318238,
          22639.36779157565,
          22757.216291951765,
          22786.678417045798,
          22786.678417045798,
          22786.678417045798,
          23051.837542892048,
          23059.203074165554,
          23110.761793080106,
          23199.14816836219,
          23272.80348109726,
          23339.093262558832,
          23339.093262558832,
          23479.03835675546,
          23788.390670242763,
          23898.873639345366,
          24038.818733542,
          24083.011921183046,
          24083.011921183046,
          24245.0536092002,
          24458.654016131906,
          24524.94379759347,
          24672.254423063612,
          24878.48929872181,
          24893.220361268824,
          24966.875674003895,
          25158.379487115082,
          25217.30373730314,
          25298.324581311717,
          25541.38711333745,
          25703.428801354603,
          25718.159863901623,
          25998.050052294893,
          26137.99514649152,
          26137.99514649152,
          26145.360677765028,
          26351.595553423227,
          26417.8853348848,
          26417.8853348848,
          26557.830429081427,
          26675.678929457543,
          26734.6031796456,
          26999.76230549186,
          27029.224430585884,
          27117.610805867967,
          27117.610805867967,
          27471.15630699631,
          27537.446088457873,
          27618.46693246645,
          27677.391182654508,
          27677.391182654508,
          27765.77755793659,
          27809.970745577637,
          27817.336276851143,
          27913.088183406733,
          27972.01243359479,
          28060.398808876875,
          28097.226465244414,
          28097.226465244414,
          28097.226465244414,
          28237.17155944105,
          28237.17155944105,
          28377.116653637684,
          28502.330685287307,
          28502.330685287307,
          28517.06174783432,
          28517.06174783432,
          28517.06174783432,
          28517.06174783432,
          28620.179185663415,
          28782.22087368057,
          28796.95193622759,
          28796.95193622759,
          29076.84212462086,
          29356.732313014123,
          29430.3876257492,
          29496.677407210766,
          29636.6225014074,
          29636.6225014074,
          29754.47100178351,
          30564.679441869288,
          30711.990067339437,
          30726.72112988645,
          30726.72112988645,
          30756.183254980475,
          30756.183254980475,
          30888.762817903604,
          30896.12834917711,
          31006.61131827972,
          31036.073443373745,
          31301.232569220003,
          31301.232569220003,
          31315.963631767016,
          31374.887881955074,
          31536.929569972228,
          31595.853820160286,
          31735.79891435692,
          31735.79891435692,
          32015.68910275019,
          32015.68910275019,
          32155.634196946827,
          32155.634196946827,
          32185.096322040852,
          32185.096322040852,
          32295.579291143462,
          32332.406947510994,
          32509.179698075168,
          32575.469479536732,
          32671.221386092322,
          32715.414573733367,
          32921.64944939157,
          32995.30476212664,
          32995.30476212664,
          33068.9600748617,
          33068.9600748617,
          33481.4298261781,
          33481.4298261781,
          33555.08513891318,
          33555.08513891318,
          33643.471514195255,
          33695.03023310981,
          33834.97532730645,
          33834.97532730645,
          33974.92042150308,
          34247.44507862285,
          34394.75570409298,
          34615.7216422982,
          34674.64589248626,
          34777.763330315356,
          34983.998205973556,
          35094.48117507616,
          35094.48117507616,
          35101.846706349665,
          35131.30883144369,
          35278.61945691383,
          35587.971770401135,
          35587.971770401135,
          35912.05514643544,
          36015.17258426455,
          36162.48320973469,
          36214.04192864923,
          36353.987022845875,
          36353.987022845875,
          36604.41508614511,
          36722.26358652123,
          37046.346962555544,
          37053.71249382904,
          37053.71249382904,
          37193.657588025686,
          37193.657588025686,
          37208.3886505727,
          37473.54777641895,
          37488.27883896596,
          37532.47202660701,
          37613.492870615584,
          37782.90008990625,
          37930.21071537639,
          38077.52134084653,
          38077.52134084653,
          38224.83196631668,
          38313.21834159876,
          38313.21834159876,
          38504.722154709954,
          38666.76384272711,
          38666.76384272711,
          38814.07446819724,
          38814.07446819724,
          39108.695719137526,
          39152.88890677857,
          39152.88890677857,
          39152.88890677857,
          39256.006344607675,
          39292.83400097521,
          39476.97228281288,
          39476.97228281288,
          39639.01397083004,
          39801.055658847195,
          39963.09734686435,
          39963.09734686435,
          40125.139034881504,
          40287.18072289866,
          40287.18072289866,
          40412.39475454828,
          40434.49134836881,
          40552.339848744916,
          40773.305786950135,
          40832.23003713819,
          40832.23003713819,
          40972.17513133483,
          41097.389162984444,
          41112.12022553146,
          41252.06531972809,
          41252.06531972809,
          41259.430851001605,
          41392.01041392473,
          41421.47253901876,
          41421.47253901876,
          42231.68097910454,
          42349.529479480654,
          42496.84010495079,
          42879.84773117317,
          42879.84773117317,
          42879.84773117317,
          42931.406450087714,
          43041.889419190324,
          43365.97279522463,
          43365.97279522463,
          44176.18123531041,
          44190.91229785743,
          44338.222923327565,
          44853.81011247307,
          45590.363239823775,
          45958.63980349913,
          46282.72317953344,
          46569.978899200214,
          46569.978899200214,
          47092.93161961923,
          47417.01499565354,
          48389.26512375647,
          48529.210217953114,
          48875.39018780795,
          48875.39018780795,
          49037.4318758251,
          49199.47356384226,
          49788.71606572282,
          50009.682003928036,
          51468.057196082445,
          52926.432388236855,
          53898.68251633978,
          54870.93264444272,
          56653.39121263143,
          56933.28140102472,
          64269.35054943778
         ],
         "yaxis": "y"
        },
        {
         "hovertemplate": "smoker=no<br>bmi=%{x}<br>charges=%{y}<extra></extra>",
         "legendgroup": "no",
         "marker": {
          "color": "#EF553B",
          "symbol": "circle"
         },
         "mode": "markers",
         "name": "no",
         "showlegend": true,
         "type": "scattergl",
         "x": [
          33.77,
          33,
          22.705,
          28.88,
          25.74,
          33.44,
          27.74,
          29.83,
          25.84,
          26.22,
          34.4,
          39.82,
          24.6,
          30.78,
          23.845,
          40.3,
          36.005,
          32.4,
          34.1,
          28.025,
          27.72,
          23.085,
          32.775,
          17.385,
          26.315,
          28.6,
          28.31,
          20.425,
          32.965,
          20.8,
          26.6,
          36.63,
          21.78,
          30.8,
          37.05,
          37.3,
          38.665,
          34.77,
          24.53,
          35.625,
          33.63,
          28.69,
          31.825,
          37.335,
          27.36,
          33.66,
          24.7,
          25.935,
          28.9,
          39.1,
          26.315,
          36.19,
          28.5,
          28.1,
          32.01,
          27.4,
          34.01,
          29.59,
          35.53,
          39.805,
          32.965,
          26.885,
          38.285,
          41.23,
          27.2,
          27.74,
          26.98,
          39.49,
          24.795,
          34.77,
          37.62,
          30.8,
          38.28,
          31.6,
          25.46,
          30.115,
          27.5,
          28.4,
          30.875,
          27.94,
          33.63,
          29.7,
          30.8,
          35.72,
          32.205,
          28.595,
          49.06,
          27.17,
          23.37,
          37.1,
          23.75,
          28.975,
          33.915,
          28.785,
          37.4,
          34.7,
          26.505,
          22.04,
          35.9,
          25.555,
          28.785,
          28.05,
          34.1,
          25.175,
          31.9,
          36,
          22.42,
          32.49,
          29.735,
          38.83,
          37.73,
          37.43,
          28.4,
          24.13,
          29.7,
          37.145,
          25.46,
          39.52,
          27.83,
          39.6,
          29.8,
          29.64,
          28.215,
          37,
          33.155,
          31.825,
          18.905,
          41.47,
          30.3,
          15.96,
          34.8,
          33.345,
          27.835,
          29.2,
          28.9,
          33.155,
          28.595,
          38.28,
          19.95,
          26.41,
          30.69,
          29.92,
          30.9,
          32.2,
          32.11,
          31.57,
          26.2,
          25.74,
          26.6,
          34.43,
          30.59,
          32.8,
          28.6,
          18.05,
          39.33,
          32.11,
          32.23,
          24.035,
          22.3,
          28.88,
          26.4,
          31.8,
          41.23,
          33,
          30.875,
          28.5,
          26.73,
          30.9,
          37.1,
          26.6,
          23.1,
          29.92,
          23.21,
          33.7,
          33.25,
          30.8,
          33.88,
          38.06,
          41.91,
          31.635,
          25.46,
          36.195,
          27.83,
          17.8,
          27.5,
          24.51,
          26.73,
          38.39,
          38.06,
          22.135,
          26.8,
          35.3,
          30.02,
          38.06,
          35.86,
          20.9,
          28.975,
          30.3,
          25.365,
          40.15,
          24.415,
          25.2,
          38.06,
          32.395,
          30.2,
          25.84,
          29.37,
          37.05,
          27.455,
          27.55,
          26.6,
          20.615,
          24.3,
          31.79,
          21.56,
          27.645,
          32.395,
          31.2,
          26.62,
          48.07,
          26.22,
          26.4,
          33.4,
          29.64,
          28.82,
          26.8,
          22.99,
          28.88,
          27.55,
          37.51,
          33,
          38,
          33.345,
          27.5,
          33.33,
          34.865,
          33.06,
          26.6,
          24.7,
          35.86,
          33.25,
          32.205,
          32.775,
          27.645,
          37.335,
          25.27,
          29.64,
          40.945,
          27.2,
          34.105,
          23.21,
          36.7,
          31.16,
          28.785,
          35.72,
          34.5,
          25.74,
          27.55,
          27.72,
          27.6,
          30.02,
          27.55,
          36.765,
          41.47,
          29.26,
          35.75,
          33.345,
          29.92,
          27.835,
          23.18,
          25.6,
          27.7,
          35.245,
          38.28,
          27.6,
          43.89,
          29.83,
          41.91,
          20.79,
          32.3,
          30.5,
          26.4,
          21.89,
          30.78,
          32.3,
          24.985,
          32.015,
          30.4,
          21.09,
          22.23,
          33.155,
          33.33,
          30.115,
          31.46,
          33,
          43.34,
          22.135,
          34.4,
          39.05,
          25.365,
          22.61,
          30.21,
          35.625,
          37.43,
          31.445,
          31.35,
          32.3,
          19.855,
          34.4,
          31.02,
          25.6,
          38.17,
          20.6,
          47.52,
          32.965,
          32.3,
          20.4,
          38.38,
          24.31,
          23.6,
          21.12,
          30.03,
          17.48,
          23.9,
          35.15,
          35.64,
          34.1,
          39.16,
          30.59,
          30.2,
          24.31,
          27.265,
          29.165,
          16.815,
          30.4,
          33.1,
          20.235,
          26.9,
          30.5,
          28.595,
          33.11,
          31.73,
          28.9,
          46.75,
          29.45,
          32.68,
          43.01,
          36.52,
          33.1,
          29.64,
          25.65,
          29.6,
          38.6,
          29.6,
          24.13,
          23.4,
          29.735,
          46.53,
          37.4,
          30.14,
          30.495,
          39.6,
          33,
          36.63,
          38.095,
          25.935,
          25.175,
          28.7,
          33.82,
          24.32,
          24.09,
          32.67,
          30.115,
          29.8,
          33.345,
          35.625,
          36.85,
          32.56,
          41.325,
          37.51,
          31.35,
          39.5,
          34.3,
          31.065,
          21.47,
          28.7,
          31.16,
          32.9,
          25.08,
          25.08,
          43.4,
          27.93,
          23.6,
          28.7,
          23.98,
          39.2,
          26.03,
          28.93,
          30.875,
          31.35,
          23.75,
          25.27,
          28.7,
          32.11,
          33.66,
          22.42,
          30.4,
          35.7,
          35.31,
          30.495,
          31,
          30.875,
          27.36,
          44.22,
          33.915,
          37.73,
          33.88,
          30.59,
          25.8,
          39.425,
          25.46,
          31.73,
          29.7,
          36.19,
          40.48,
          28.025,
          38.9,
          30.2,
          28.05,
          31.35,
          38,
          31.79,
          36.3,
          30.21,
          35.435,
          46.7,
          28.595,
          30.8,
          28.93,
          21.4,
          31.73,
          41.325,
          23.8,
          33.44,
          34.21,
          35.53,
          19.95,
          32.68,
          30.5,
          44.77,
          32.12,
          30.495,
          40.565,
          30.59,
          31.9,
          29.1,
          37.29,
          43.12,
          36.86,
          34.295,
          27.17,
          26.84,
          30.2,
          23.465,
          25.46,
          45.43,
          23.65,
          20.7,
          28.27,
          20.235,
          35.91,
          30.69,
          29,
          19.57,
          31.13,
          40.26,
          33.725,
          29.48,
          33.25,
          32.6,
          37.525,
          39.16,
          31.635,
          25.3,
          39.05,
          34.1,
          25.175,
          26.98,
          29.37,
          34.8,
          33.155,
          19,
          33,
          28.595,
          37.1,
          31.4,
          21.3,
          28.785,
          26.03,
          28.88,
          42.46,
          38,
          36.1,
          29.3,
          35.53,
          22.705,
          39.7,
          38.19,
          24.51,
          38.095,
          33.66,
          42.4,
          33.915,
          34.96,
          35.31,
          30.78,
          26.22,
          23.37,
          28.5,
          32.965,
          42.68,
          39.6,
          31.13,
          36.3,
          35.2,
          42.4,
          33.155,
          35.91,
          28.785,
          46.53,
          23.98,
          31.54,
          33.66,
          28.7,
          29.81,
          31.57,
          31.16,
          29.7,
          31.02,
          21.375,
          40.81,
          36.1,
          23.18,
          17.4,
          20.3,
          24.32,
          18.5,
          26.41,
          26.125,
          41.69,
          24.1,
          27.36,
          36.2,
          32.395,
          23.655,
          34.8,
          40.185,
          32.3,
          33.725,
          39.27,
          34.87,
          44.745,
          41.47,
          26.41,
          29.545,
          32.9,
          28.69,
          30.495,
          27.74,
          35.2,
          23.54,
          30.685,
          40.47,
          22.6,
          28.9,
          22.61,
          24.32,
          36.67,
          33.44,
          40.66,
          36.6,
          37.4,
          35.4,
          27.075,
          28.405,
          40.28,
          36.08,
          21.4,
          30.1,
          27.265,
          32.1,
          34.77,
          23.7,
          24.035,
          26.62,
          26.41,
          30.115,
          27,
          21.755,
          36,
          30.875,
          28.975,
          37.905,
          22.77,
          33.63,
          27.645,
          22.8,
          37.43,
          34.58,
          35.2,
          26.03,
          25.175,
          31.825,
          32.3,
          29,
          39.7,
          19.475,
          36.1,
          26.7,
          36.48,
          34.2,
          33.33,
          32.3,
          39.805,
          34.32,
          28.88,
          41.14,
          35.97,
          29.26,
          27.7,
          36.955,
          36.86,
          22.515,
          29.92,
          41.8,
          27.6,
          23.18,
          31.92,
          44.22,
          22.895,
          33.1,
          26.18,
          35.97,
          22.3,
          26.51,
          35.815,
          41.42,
          36.575,
          30.14,
          25.84,
          30.8,
          42.94,
          21.01,
          22.515,
          34.43,
          31.46,
          24.225,
          37.1,
          33.7,
          17.67,
          31.13,
          29.81,
          24.32,
          31.825,
          21.85,
          33.1,
          25.84,
          23.845,
          34.39,
          33.82,
          35.97,
          31.5,
          28.31,
          23.465,
          31.35,
          31.1,
          24.7,
          30.495,
          34.2,
          50.38,
          24.1,
          32.775,
          32.3,
          23.75,
          29.6,
          32.23,
          28.1,
          28,
          33.535,
          19.855,
          25.4,
          29.9,
          37.29,
          43.7,
          23.655,
          24.3,
          36.2,
          29.48,
          24.86,
          30.1,
          21.85,
          28.12,
          27.1,
          33.44,
          28.8,
          29.5,
          34.8,
          27.36,
          22.135,
          26.695,
          30.02,
          39.5,
          33.63,
          29.04,
          24.035,
          32.11,
          44,
          25.555,
          40.26,
          22.515,
          22.515,
          27.265,
          36.85,
          35.1,
          29.355,
          32.585,
          32.34,
          39.8,
          28.31,
          26.695,
          27.5,
          24.605,
          33.99,
          28.2,
          34.21,
          25,
          33.2,
          31,
          35.815,
          23.2,
          32.11,
          23.4,
          20.1,
          39.16,
          34.21,
          46.53,
          32.5,
          25.8,
          35.3,
          37.18,
          27.5,
          29.735,
          24.225,
          26.18,
          29.48,
          23.21,
          46.09,
          40.185,
          22.61,
          39.93,
          35.8,
          35.8,
          31.255,
          18.335,
          28.405,
          39.49,
          26.79,
          36.67,
          39.615,
          25.9,
          35.2,
          24.795,
          36.765,
          27.1,
          25.365,
          25.745,
          34.32,
          28.16,
          23.56,
          20.235,
          40.5,
          35.42,
          40.15,
          29.15,
          39.995,
          29.92,
          25.46,
          21.375,
          30.59,
          30.115,
          25.8,
          30.115,
          27.645,
          34.675,
          19.8,
          27.835,
          31.6,
          28.27,
          23.275,
          34.1,
          36.85,
          36.29,
          26.885,
          25.8,
          29.6,
          19.19,
          31.73,
          29.26,
          24.985,
          27.74,
          22.8,
          33.33,
          32.3,
          27.6,
          25.46,
          24.605,
          34.2,
          35.815,
          32.68,
          37,
          23.32,
          45.32,
          34.6,
          18.715,
          31.6,
          17.29,
          27.93,
          38.38,
          23,
          28.88,
          27.265,
          23.085,
          25.8,
          35.245,
          25.08,
          22.515,
          36.955,
          26.41,
          29.83,
          21.47,
          27.645,
          28.9,
          31.79,
          39.49,
          33.82,
          32.01,
          27.94,
          28.595,
          25.6,
          25.3,
          37.29,
          42.655,
          21.66,
          31.9,
          31.445,
          31.255,
          28.88,
          18.335,
          29.59,
          32,
          26.03,
          33.66,
          21.78,
          27.835,
          19.95,
          31.5,
          30.495,
          28.975,
          31.54,
          47.74,
          22.1,
          29.83,
          32.7,
          33.7,
          31.35,
          33.77,
          30.875,
          33.99,
          28.6,
          38.94,
          36.08,
          29.8,
          31.24,
          29.925,
          26.22,
          30,
          20.35,
          32.3,
          26.315,
          24.51,
          32.67,
          29.64,
          19.95,
          38.17,
          32.395,
          25.08,
          29.9,
          35.86,
          32.8,
          18.6,
          23.87,
          45.9,
          40.28,
          18.335,
          33.82,
          28.12,
          25,
          22.23,
          30.25,
          37.07,
          32.6,
          24.86,
          32.34,
          32.3,
          32.775,
          31.92,
          21.5,
          34.1,
          30.305,
          36.48,
          35.815,
          27.93,
          22.135,
          23.18,
          30.59,
          41.1,
          34.58,
          42.13,
          38.83,
          28.215,
          28.31,
          26.125,
          40.37,
          24.6,
          35.2,
          34.105,
          41.91,
          29.26,
          32.11,
          27.1,
          27.4,
          34.865,
          41.325,
          29.925,
          30.3,
          27.36,
          23.56,
          32.68,
          28,
          32.775,
          21.755,
          32.395,
          36.575,
          21.755,
          27.93,
          33.55,
          29.355,
          25.8,
          24.32,
          40.375,
          32.11,
          32.3,
          17.86,
          34.8,
          37.1,
          30.875,
          34.1,
          21.47,
          33.3,
          31.255,
          39.14,
          25.08,
          37.29,
          30.21,
          21.945,
          24.97,
          25.3,
          23.94,
          39.82,
          16.815,
          37.18,
          34.43,
          30.305,
          24.605,
          23.3,
          27.83,
          31.065,
          21.66,
          28.215,
          22.705,
          42.13,
          21.28,
          33.11,
          33.33,
          24.3,
          25.7,
          29.4,
          39.82,
          19.8,
          29.3,
          27.72,
          37.9,
          36.385,
          27.645,
          37.715,
          23.18,
          20.52,
          37.1,
          28.05,
          29.9,
          33.345,
          30.5,
          33.3,
          27.5,
          33.915,
          34.485,
          25.52,
          27.61,
          23.7,
          30.4,
          29.735,
          26.79,
          33.33,
          30.03,
          24.32,
          17.29,
          25.9,
          34.32,
          19.95,
          23.21,
          25.745,
          25.175,
          22,
          26.125,
          26.51,
          27.455,
          25.745,
          20.8,
          27.72,
          32.2,
          26.315,
          26.695,
          42.9,
          28.31,
          20.6,
          53.13,
          39.71,
          26.315,
          31.065,
          38.83,
          25.935,
          33.535,
          32.87,
          30.03,
          24.225,
          38.6,
          25.74,
          33.4,
          44.7,
          30.97,
          31.92,
          36.85,
          25.8
         ],
         "xaxis": "x",
         "y": [
          1725.5523,
          4449.462,
          21984.47061,
          3866.8552,
          3756.6216,
          8240.5896,
          7281.5056,
          6406.4107,
          28923.13692,
          2721.3208,
          1826.843,
          11090.7178,
          1837.237,
          10797.3362,
          2395.17155,
          10602.385,
          13228.84695,
          4149.736,
          1137.011,
          6203.90175,
          14001.1338,
          14451.83515,
          12268.63225,
          2775.19215,
          2198.18985,
          4687.797,
          13770.0979,
          1625.43375,
          15612.19335,
          2302.3,
          3046.062,
          4949.7587,
          6272.4772,
          6313.759,
          6079.6715,
          20630.28351,
          3393.35635,
          3556.9223,
          12629.8967,
          2211.13075,
          3579.8287,
          8059.6791,
          13607.36875,
          5989.52365,
          8606.2174,
          4504.6624,
          30166.61817,
          4133.64165,
          1743.214,
          14235.072,
          6389.37785,
          5920.1041,
          6799.458,
          11741.726,
          11946.6259,
          7726.854,
          11356.6609,
          3947.4131,
          1532.4697,
          2755.02095,
          6571.02435,
          4441.21315,
          7935.29115,
          11033.6617,
          11073.176,
          8026.6666,
          11082.5772,
          2026.9741,
          10942.13205,
          5729.0053,
          3766.8838,
          12105.32,
          10226.2842,
          6186.127,
          3645.0894,
          21344.8467,
          5003.853,
          2331.519,
          3877.30425,
          2867.1196,
          10825.2537,
          11881.358,
          4646.759,
          2404.7338,
          11488.31695,
          30259.99556,
          11381.3254,
          8601.3293,
          6686.4313,
          7740.337,
          1705.6245,
          2257.47525,
          10115.00885,
          3385.39915,
          9634.538,
          6082.405,
          12815.44495,
          13616.3586,
          11163.568,
          1632.56445,
          2457.21115,
          2155.6815,
          1261.442,
          2045.68525,
          27322.73386,
          2166.732,
          27375.90478,
          3490.5491,
          18157.876,
          5138.2567,
          9877.6077,
          10959.6947,
          1842.519,
          5125.2157,
          7789.635,
          6334.34355,
          7077.1894,
          6948.7008,
          19749.38338,
          10450.552,
          5152.134,
          5028.1466,
          10407.08585,
          4830.63,
          6128.79745,
          2719.27975,
          4827.90495,
          13405.3903,
          8116.68,
          1694.7964,
          5246.047,
          2855.43755,
          6455.86265,
          10436.096,
          8823.279,
          8538.28845,
          11735.87905,
          1631.8212,
          4005.4225,
          7419.4779,
          7731.4271,
          3981.9768,
          5325.651,
          6775.961,
          4922.9159,
          12557.6053,
          4883.866,
          2137.6536,
          12044.342,
          1137.4697,
          1639.5631,
          5649.715,
          8516.829,
          9644.2525,
          14901.5167,
          2130.6759,
          8871.1517,
          13012.20865,
          7147.105,
          4337.7352,
          11743.299,
          13880.949,
          6610.1097,
          1980.07,
          8162.71625,
          3537.703,
          5002.7827,
          8520.026,
          7371.772,
          10355.641,
          2483.736,
          3392.9768,
          25081.76784,
          5012.471,
          10564.8845,
          5253.524,
          11987.1682,
          2689.4954,
          24227.33724,
          7358.17565,
          9225.2564,
          7443.64305,
          14001.2867,
          1727.785,
          12333.828,
          6710.1919,
          1615.7667,
          4463.2051,
          7152.6714,
          5354.07465,
          35160.13457,
          7196.867,
          24476.47851,
          12648.7034,
          1986.9334,
          1832.094,
          4040.55825,
          4260.744,
          13047.33235,
          5400.9805,
          11520.09985,
          11837.16,
          20462.99766,
          14590.63205,
          7441.053,
          9282.4806,
          1719.4363,
          7265.7025,
          9617.66245,
          2523.1695,
          9715.841,
          2803.69785,
          2150.469,
          12928.7911,
          9855.1314,
          4237.12655,
          11879.10405,
          9625.92,
          7742.1098,
          9432.9253,
          14256.1928,
          25992.82104,
          3172.018,
          20277.80751,
          2156.7518,
          3906.127,
          1704.5681,
          9249.4952,
          6746.7425,
          12265.5069,
          4349.462,
          12646.207,
          19442.3535,
          20177.67113,
          4151.0287,
          11944.59435,
          7749.1564,
          8444.474,
          1737.376,
          8124.4084,
          9722.7695,
          8835.26495,
          10435.06525,
          7421.19455,
          4667.60765,
          4894.7533,
          24671.66334,
          11566.30055,
          2866.091,
          6600.20595,
          3561.8889,
          9144.565,
          13429.0354,
          11658.37915,
          19144.57652,
          13822.803,
          12142.5786,
          13937.6665,
          8232.6388,
          18955.22017,
          13352.0998,
          13217.0945,
          13981.85035,
          10977.2063,
          6184.2994,
          4889.9995,
          8334.45755,
          5478.0368,
          1635.73365,
          11830.6072,
          8932.084,
          3554.203,
          12404.8791,
          14133.03775,
          24603.04837,
          8944.1151,
          9620.3307,
          1837.2819,
          1607.5101,
          10043.249,
          4751.07,
          2597.779,
          3180.5101,
          9778.3472,
          13430.265,
          8017.06115,
          8116.26885,
          3481.868,
          13415.0381,
          12029.2867,
          7639.41745,
          1391.5287,
          16455.70785,
          27000.98473,
          20781.48892,
          5846.9176,
          8302.53565,
          1261.859,
          11856.4115,
          30284.64294,
          3176.8159,
          4618.0799,
          10736.87075,
          2138.0707,
          8964.06055,
          9290.1395,
          9411.005,
          7526.70645,
          8522.003,
          16586.49771,
          14988.432,
          1631.6683,
          9264.797,
          8083.9198,
          14692.66935,
          10269.46,
          3260.199,
          11396.9002,
          4185.0979,
          8539.671,
          6652.5288,
          4074.4537,
          1621.3402,
          5080.096,
          2134.9015,
          7345.7266,
          9140.951,
          14418.2804,
          2727.3951,
          8968.33,
          9788.8659,
          6555.07035,
          7323.734819,
          3167.45585,
          18804.7524,
          23082.95533,
          4906.40965,
          5969.723,
          12638.195,
          4243.59005,
          13919.8229,
          2254.7967,
          5926.846,
          12592.5345,
          2897.3235,
          4738.2682,
          1149.3959,
          28287.89766,
          7345.084,
          12730.9996,
          11454.0215,
          5910.944,
          4762.329,
          7512.267,
          4032.2407,
          1969.614,
          1769.53165,
          4686.3887,
          21797.0004,
          11881.9696,
          11840.77505,
          10601.412,
          7682.67,
          10381.4787,
          15230.32405,
          11165.41765,
          1632.03625,
          13224.693,
          12643.3778,
          23288.9284,
          2201.0971,
          2497.0383,
          2203.47185,
          1744.465,
          20878.78443,
          2534.39375,
          1534.3045,
          1824.2854,
          15555.18875,
          9304.7019,
          1622.1885,
          9880.068,
          9563.029,
          4347.02335,
          12475.3513,
          1253.936,
          10461.9794,
          1748.774,
          24513.09126,
          2196.4732,
          12574.049,
          1967.0227,
          4931.647,
          8027.968,
          8211.1002,
          13470.86,
          6837.3687,
          5974.3847,
          6796.86325,
          2643.2685,
          3077.0955,
          3044.2133,
          11455.28,
          11763.0009,
          2498.4144,
          9361.3268,
          1256.299,
          11362.755,
          27724.28875,
          8413.46305,
          5240.765,
          3857.75925,
          25656.57526,
          3994.1778,
          9866.30485,
          5397.6167,
          11482.63485,
          24059.68019,
          9861.025,
          8342.90875,
          1708.0014,
          14043.4767,
          12925.886,
          19214.70553,
          13831.1152,
          6067.12675,
          5972.378,
          8825.086,
          8233.0975,
          27346.04207,
          6196.448,
          3056.3881,
          13887.204,
          10231.4999,
          3268.84665,
          11538.421,
          3213.62205,
          13390.559,
          3972.9247,
          12957.118,
          11187.6567,
          17878.90068,
          3847.674,
          8334.5896,
          3935.1799,
          1646.4297,
          9193.8385,
          10923.9332,
          2494.022,
          9058.7303,
          2801.2588,
          2128.43105,
          6373.55735,
          7256.7231,
          11552.904,
          3761.292,
          2219.4451,
          4753.6368,
          31620.00106,
          13224.05705,
          12222.8983,
          1664.9996,
          9724.53,
          3206.49135,
          12913.9924,
          6356.2707,
          17626.23951,
          1242.816,
          4779.6023,
          3861.20965,
          13635.6379,
          5976.8311,
          11842.442,
          8428.0693,
          2566.4707,
          5709.1644,
          8823.98575,
          7640.3092,
          5594.8455,
          7441.501,
          33471.97189,
          1633.0444,
          9174.13565,
          11070.535,
          16085.1275,
          9283.562,
          3558.62025,
          4435.0942,
          8547.6913,
          6571.544,
          2207.69745,
          6753.038,
          1880.07,
          11658.11505,
          10713.644,
          3659.346,
          9182.17,
          12129.61415,
          3736.4647,
          6748.5912,
          11326.71487,
          11365.952,
          10085.846,
          1977.815,
          3366.6697,
          7173.35995,
          9391.346,
          14410.9321,
          2709.1119,
          24915.04626,
          12949.1554,
          6666.243,
          13143.86485,
          4466.6214,
          18806.14547,
          10141.1362,
          6123.5688,
          8252.2843,
          1712.227,
          12430.95335,
          9800.8882,
          10579.711,
          8280.6227,
          8527.532,
          12244.531,
          3410.324,
          4058.71245,
          26392.26029,
          14394.39815,
          6435.6237,
          22192.43711,
          5148.5526,
          1136.3994,
          8703.456,
          6500.2359,
          4837.5823,
          3943.5954,
          4399.731,
          6185.3208,
          7222.78625,
          12485.8009,
          12363.547,
          10156.7832,
          2585.269,
          1242.26,
          9863.4718,
          4766.022,
          11244.3769,
          7729.64575,
          5438.7491,
          26236.57997,
          2104.1134,
          8068.185,
          2362.22905,
          2352.96845,
          3577.999,
          3201.24515,
          29186.48236,
          10976.24575,
          3500.6123,
          2020.5523,
          9541.69555,
          9504.3103,
          5385.3379,
          8930.93455,
          5375.038,
          10264.4421,
          6113.23105,
          5469.0066,
          1727.54,
          10107.2206,
          8310.83915,
          1984.4533,
          2457.502,
          12146.971,
          9566.9909,
          13112.6048,
          10848.1343,
          12231.6136,
          9875.6804,
          11264.541,
          12979.358,
          1263.249,
          10106.13425,
          6664.68595,
          2217.6012,
          6781.3542,
          10065.413,
          4234.927,
          9447.25035,
          14007.222,
          9583.8933,
          3484.331,
          8604.48365,
          3757.8448,
          8827.2099,
          9910.35985,
          11737.84884,
          1627.28245,
          8556.907,
          3062.50825,
          1906.35825,
          14210.53595,
          11833.7823,
          17128.42608,
          5031.26955,
          7985.815,
          5428.7277,
          3925.7582,
          2416.955,
          3070.8087,
          9095.06825,
          11842.62375,
          8062.764,
          7050.642,
          14319.031,
          6933.24225,
          27941.28758,
          11150.78,
          12797.20962,
          7261.741,
          10560.4917,
          6986.697,
          7448.40395,
          5934.3798,
          9869.8102,
          1146.7966,
          9386.1613,
          4350.5144,
          6414.178,
          12741.16745,
          1917.3184,
          5209.57885,
          13457.9608,
          5662.225,
          1252.407,
          2731.9122,
          7209.4918,
          4266.1658,
          4719.52405,
          11848.141,
          7046.7222,
          14313.8463,
          2103.08,
          1815.8759,
          7731.85785,
          28476.73499,
          2136.88225,
          1131.5066,
          3309.7926,
          9414.92,
          6360.9936,
          11013.7119,
          4428.88785,
          5584.3057,
          1877.9294,
          2842.76075,
          3597.596,
          7445.918,
          2680.9493,
          1621.8827,
          8219.2039,
          12523.6048,
          16069.08475,
          6117.4945,
          13393.756,
          5266.3656,
          4719.73655,
          11743.9341,
          5377.4578,
          7160.3303,
          4402.233,
          11657.7189,
          6402.29135,
          12622.1795,
          1526.312,
          12323.936,
          10072.05505,
          9872.701,
          2438.0552,
          2974.126,
          10601.63225,
          14119.62,
          11729.6795,
          1875.344,
          18218.16139,
          10965.446,
          7151.092,
          12269.68865,
          5458.04645,
          8782.469,
          6600.361,
          1141.4451,
          11576.13,
          13129.60345,
          4391.652,
          8457.818,
          3392.3652,
          5966.8874,
          6849.026,
          8891.1395,
          2690.1138,
          26140.3603,
          6653.7886,
          6282.235,
          6311.952,
          3443.064,
          2789.0574,
          2585.85065,
          4877.98105,
          5272.1758,
          1682.597,
          11945.1327,
          7243.8136,
          10422.91665,
          13555.0049,
          13063.883,
          2221.56445,
          1634.5734,
          2117.33885,
          8688.85885,
          4661.28635,
          8125.7845,
          12644.589,
          4564.19145,
          4846.92015,
          7633.7206,
          15170.069,
          2639.0429,
          14382.70905,
          7626.993,
          5257.50795,
          2473.3341,
          13041.921,
          5245.2269,
          13451.122,
          13462.52,
          5488.262,
          4320.41085,
          6250.435,
          25333.33284,
          2913.569,
          12032.326,
          13470.8044,
          6289.7549,
          2927.0647,
          6238.298,
          10096.97,
          7348.142,
          4673.3922,
          12233.828,
          32108.66282,
          8965.79575,
          2304.0022,
          9487.6442,
          1121.8739,
          9549.5651,
          2217.46915,
          1628.4709,
          12982.8747,
          11674.13,
          7160.094,
          6358.77645,
          11534.87265,
          4527.18295,
          3875.7341,
          12609.88702,
          28468.91901,
          2730.10785,
          3353.284,
          14474.675,
          9500.57305,
          26467.09737,
          4746.344,
          7518.02535,
          3279.86855,
          8596.8278,
          10702.6424,
          4992.3764,
          2527.81865,
          1759.338,
          2322.6218,
          7804.1605,
          2902.9065,
          9704.66805,
          4889.0368,
          25517.11363,
          4500.33925,
          16796.41194,
          4915.05985,
          7624.63,
          8410.04685,
          28340.18885,
          4518.82625,
          3378.91,
          7144.86265,
          10118.424,
          5484.4673,
          7986.47525,
          7418.522,
          13887.9685,
          6551.7501,
          5267.81815,
          1972.95,
          21232.18226,
          8627.5411,
          4433.3877,
          4438.2634,
          23241.47453,
          9957.7216,
          8269.044,
          36580.28216,
          8765.249,
          5383.536,
          12124.9924,
          2709.24395,
          3987.926,
          12495.29085,
          26018.95052,
          8798.593,
          1711.0268,
          8569.8618,
          2020.177,
          21595.38229,
          9850.432,
          6877.9801,
          4137.5227,
          12950.0712,
          12094.478,
          2250.8352,
          22493.65964,
          1704.70015,
          3161.454,
          11394.06555,
          7325.0482,
          3594.17085,
          8023.13545,
          14394.5579,
          9288.0267,
          3353.4703,
          10594.50155,
          8277.523,
          17929.30337,
          2480.9791,
          4462.7218,
          1981.5819,
          11554.2236,
          6548.19505,
          5708.867,
          7045.499,
          8978.1851,
          5757.41345,
          14349.8544,
          10928.849,
          13974.45555,
          1909.52745,
          12096.6512,
          13204.28565,
          4562.8421,
          8551.347,
          2102.2647,
          15161.5344,
          11884.04858,
          4454.40265,
          5855.9025,
          4076.497,
          15019.76005,
          10796.35025,
          11353.2276,
          9748.9106,
          10577.087,
          11286.5387,
          3591.48,
          11299.343,
          4561.1885,
          1674.6323,
          23045.56616,
          3227.1211,
          11253.421,
          3471.4096,
          11363.2832,
          20420.60465,
          10338.9316,
          8988.15875,
          10493.9458,
          2904.088,
          8605.3615,
          11512.405,
          5312.16985,
          2396.0959,
          10807.4863,
          9222.4026,
          5693.4305,
          8347.1643,
          18903.49141,
          14254.6082,
          10214.636,
          5836.5204,
          14358.36437,
          1728.897,
          8582.3023,
          3693.428,
          20709.02034,
          9991.03765,
          19673.33573,
          11085.5868,
          7623.518,
          3176.2877,
          3704.3545,
          9048.0273,
          7954.517,
          27117.99378,
          6338.0756,
          9630.397,
          11289.10925,
          2261.5688,
          10791.96,
          5979.731,
          2203.73595,
          12235.8392,
          5630.45785,
          11015.1747,
          7228.21565,
          14426.07385,
          2459.7201,
          3989.841,
          7727.2532,
          5124.1887,
          18963.17192,
          2200.83085,
          7153.5539,
          5227.98875,
          10982.5013,
          4529.477,
          4670.64,
          6112.35295,
          11093.6229,
          6457.8434,
          4433.9159,
          2154.361,
          6496.886,
          2899.48935,
          7650.77375,
          2850.68375,
          2632.992,
          9447.3824,
          8603.8234,
          13844.7972,
          13126.67745,
          5327.40025,
          13725.47184,
          13019.16105,
          8671.19125,
          4134.08245,
          18838.70366,
          5699.8375,
          6393.60345,
          4934.705,
          6198.7518,
          8733.22925,
          2055.3249,
          9964.06,
          5116.5004,
          36910.60803,
          12347.172,
          5373.36425,
          23563.01618,
          1702.4553,
          10806.839,
          3956.07145,
          12890.05765,
          5415.6612,
          4058.1161,
          7537.1639,
          4718.20355,
          6593.5083,
          8442.667,
          6858.4796,
          4795.6568,
          6640.54485,
          7162.0122,
          10594.2257,
          11938.25595,
          12479.70895,
          11345.519,
          8515.7587,
          2699.56835,
          14449.8544,
          12224.35085,
          6985.50695,
          3238.4357,
          4296.2712,
          3171.6149,
          1135.9407,
          5615.369,
          9101.798,
          6059.173,
          1633.9618,
          1241.565,
          15828.82173,
          4415.1588,
          6474.013,
          11436.73815,
          11305.93455,
          30063.58055,
          10197.7722,
          4544.2348,
          3277.161,
          6770.1925,
          7337.748,
          10370.91255,
          10704.47,
          1880.487,
          8615.3,
          3292.52985,
          3021.80915,
          14478.33015,
          4747.0529,
          10959.33,
          2741.948,
          4357.04365,
          4189.1131,
          8283.6807,
          1720.3537,
          8534.6718,
          3732.6251,
          5472.449,
          7147.4728,
          7133.9025,
          1515.3449,
          9301.89355,
          11931.12525,
          1964.78,
          1708.92575,
          4340.4409,
          5261.46945,
          2710.82855,
          3208.787,
          2464.6188,
          6875.961,
          6940.90985,
          4571.41305,
          4536.259,
          11272.33139,
          1731.677,
          1163.4627,
          19496.71917,
          7201.70085,
          5425.02335,
          12981.3457,
          4239.89265,
          13143.33665,
          7050.0213,
          9377.9047,
          22395.74424,
          10325.206,
          12629.1656,
          10795.93733,
          11411.685,
          10600.5483,
          2205.9808,
          1629.8335,
          2007.945
         ],
         "yaxis": "y"
        },
        {
         "hovertemplate": "<b>OLS trendline</b><br>charges = 83.3397 * bmi + 5886.14<br>R<sup>2</sup>=0.007069<br><br>smoker=no<br>bmi=%{x}<br>charges=%{y} <b>(trend)</b><extra></extra>",
         "legendgroup": "no",
         "marker": {
          "color": "#EF553B",
          "symbol": "circle"
         },
         "mode": "lines",
         "name": "no",
         "showlegend": false,
         "type": "scattergl",
         "x": [
          15.96,
          16.815,
          16.815,
          17.29,
          17.29,
          17.385,
          17.4,
          17.48,
          17.67,
          17.8,
          17.86,
          18.05,
          18.335,
          18.335,
          18.335,
          18.5,
          18.6,
          18.715,
          18.905,
          19,
          19.19,
          19.475,
          19.57,
          19.8,
          19.8,
          19.855,
          19.855,
          19.95,
          19.95,
          19.95,
          19.95,
          19.95,
          20.1,
          20.235,
          20.235,
          20.235,
          20.3,
          20.35,
          20.4,
          20.425,
          20.52,
          20.6,
          20.6,
          20.615,
          20.7,
          20.79,
          20.8,
          20.8,
          20.9,
          21.01,
          21.09,
          21.12,
          21.28,
          21.3,
          21.375,
          21.375,
          21.4,
          21.4,
          21.47,
          21.47,
          21.47,
          21.5,
          21.56,
          21.66,
          21.66,
          21.755,
          21.755,
          21.755,
          21.78,
          21.78,
          21.85,
          21.85,
          21.89,
          21.945,
          22,
          22.04,
          22.1,
          22.135,
          22.135,
          22.135,
          22.135,
          22.23,
          22.23,
          22.3,
          22.3,
          22.42,
          22.42,
          22.515,
          22.515,
          22.515,
          22.515,
          22.515,
          22.6,
          22.61,
          22.61,
          22.61,
          22.705,
          22.705,
          22.705,
          22.77,
          22.8,
          22.8,
          22.895,
          22.99,
          23,
          23.085,
          23.085,
          23.1,
          23.18,
          23.18,
          23.18,
          23.18,
          23.18,
          23.2,
          23.21,
          23.21,
          23.21,
          23.21,
          23.275,
          23.3,
          23.32,
          23.37,
          23.37,
          23.4,
          23.4,
          23.465,
          23.465,
          23.54,
          23.56,
          23.56,
          23.6,
          23.6,
          23.65,
          23.655,
          23.655,
          23.7,
          23.7,
          23.75,
          23.75,
          23.75,
          23.8,
          23.845,
          23.845,
          23.87,
          23.9,
          23.94,
          23.98,
          23.98,
          24.035,
          24.035,
          24.035,
          24.09,
          24.1,
          24.1,
          24.13,
          24.13,
          24.225,
          24.225,
          24.225,
          24.3,
          24.3,
          24.3,
          24.31,
          24.31,
          24.32,
          24.32,
          24.32,
          24.32,
          24.32,
          24.32,
          24.415,
          24.51,
          24.51,
          24.51,
          24.53,
          24.6,
          24.6,
          24.605,
          24.605,
          24.605,
          24.7,
          24.7,
          24.7,
          24.795,
          24.795,
          24.86,
          24.86,
          24.97,
          24.985,
          24.985,
          25,
          25,
          25.08,
          25.08,
          25.08,
          25.08,
          25.08,
          25.175,
          25.175,
          25.175,
          25.175,
          25.175,
          25.2,
          25.27,
          25.27,
          25.3,
          25.3,
          25.3,
          25.365,
          25.365,
          25.365,
          25.4,
          25.46,
          25.46,
          25.46,
          25.46,
          25.46,
          25.46,
          25.46,
          25.52,
          25.555,
          25.555,
          25.6,
          25.6,
          25.6,
          25.65,
          25.7,
          25.74,
          25.74,
          25.74,
          25.74,
          25.745,
          25.745,
          25.745,
          25.8,
          25.8,
          25.8,
          25.8,
          25.8,
          25.8,
          25.8,
          25.84,
          25.84,
          25.84,
          25.84,
          25.9,
          25.9,
          25.935,
          25.935,
          25.935,
          26.03,
          26.03,
          26.03,
          26.03,
          26.125,
          26.125,
          26.125,
          26.18,
          26.18,
          26.2,
          26.22,
          26.22,
          26.22,
          26.22,
          26.315,
          26.315,
          26.315,
          26.315,
          26.315,
          26.4,
          26.4,
          26.4,
          26.41,
          26.41,
          26.41,
          26.41,
          26.41,
          26.505,
          26.51,
          26.51,
          26.6,
          26.6,
          26.6,
          26.6,
          26.6,
          26.62,
          26.62,
          26.695,
          26.695,
          26.695,
          26.7,
          26.73,
          26.73,
          26.79,
          26.79,
          26.8,
          26.8,
          26.84,
          26.885,
          26.885,
          26.9,
          26.98,
          26.98,
          27,
          27.075,
          27.1,
          27.1,
          27.1,
          27.17,
          27.17,
          27.2,
          27.2,
          27.265,
          27.265,
          27.265,
          27.265,
          27.36,
          27.36,
          27.36,
          27.36,
          27.36,
          27.4,
          27.4,
          27.455,
          27.455,
          27.5,
          27.5,
          27.5,
          27.5,
          27.5,
          27.5,
          27.55,
          27.55,
          27.55,
          27.55,
          27.6,
          27.6,
          27.6,
          27.6,
          27.61,
          27.645,
          27.645,
          27.645,
          27.645,
          27.645,
          27.645,
          27.7,
          27.7,
          27.72,
          27.72,
          27.72,
          27.72,
          27.74,
          27.74,
          27.74,
          27.74,
          27.83,
          27.83,
          27.83,
          27.835,
          27.835,
          27.835,
          27.835,
          27.93,
          27.93,
          27.93,
          27.93,
          27.94,
          27.94,
          28,
          28,
          28.025,
          28.025,
          28.05,
          28.05,
          28.05,
          28.1,
          28.1,
          28.12,
          28.12,
          28.16,
          28.2,
          28.215,
          28.215,
          28.215,
          28.27,
          28.27,
          28.31,
          28.31,
          28.31,
          28.31,
          28.31,
          28.4,
          28.4,
          28.405,
          28.405,
          28.5,
          28.5,
          28.5,
          28.595,
          28.595,
          28.595,
          28.595,
          28.595,
          28.595,
          28.6,
          28.6,
          28.6,
          28.69,
          28.69,
          28.7,
          28.7,
          28.7,
          28.7,
          28.7,
          28.785,
          28.785,
          28.785,
          28.785,
          28.785,
          28.8,
          28.82,
          28.88,
          28.88,
          28.88,
          28.88,
          28.88,
          28.88,
          28.88,
          28.9,
          28.9,
          28.9,
          28.9,
          28.9,
          28.93,
          28.93,
          28.975,
          28.975,
          28.975,
          28.975,
          29,
          29,
          29.04,
          29.1,
          29.15,
          29.165,
          29.2,
          29.26,
          29.26,
          29.26,
          29.26,
          29.3,
          29.3,
          29.355,
          29.355,
          29.37,
          29.37,
          29.4,
          29.45,
          29.48,
          29.48,
          29.48,
          29.5,
          29.545,
          29.59,
          29.59,
          29.6,
          29.6,
          29.6,
          29.6,
          29.64,
          29.64,
          29.64,
          29.64,
          29.64,
          29.7,
          29.7,
          29.7,
          29.7,
          29.735,
          29.735,
          29.735,
          29.735,
          29.8,
          29.8,
          29.8,
          29.81,
          29.81,
          29.83,
          29.83,
          29.83,
          29.83,
          29.9,
          29.9,
          29.9,
          29.92,
          29.92,
          29.92,
          29.92,
          29.92,
          29.925,
          29.925,
          30,
          30.02,
          30.02,
          30.02,
          30.03,
          30.03,
          30.03,
          30.1,
          30.1,
          30.115,
          30.115,
          30.115,
          30.115,
          30.115,
          30.115,
          30.14,
          30.14,
          30.2,
          30.2,
          30.2,
          30.2,
          30.21,
          30.21,
          30.21,
          30.25,
          30.3,
          30.3,
          30.3,
          30.305,
          30.305,
          30.4,
          30.4,
          30.4,
          30.4,
          30.495,
          30.495,
          30.495,
          30.495,
          30.495,
          30.495,
          30.5,
          30.5,
          30.5,
          30.5,
          30.59,
          30.59,
          30.59,
          30.59,
          30.59,
          30.59,
          30.685,
          30.69,
          30.69,
          30.78,
          30.78,
          30.78,
          30.8,
          30.8,
          30.8,
          30.8,
          30.8,
          30.8,
          30.875,
          30.875,
          30.875,
          30.875,
          30.875,
          30.875,
          30.875,
          30.9,
          30.9,
          30.97,
          31,
          31,
          31.02,
          31.02,
          31.065,
          31.065,
          31.065,
          31.1,
          31.13,
          31.13,
          31.13,
          31.16,
          31.16,
          31.16,
          31.2,
          31.24,
          31.255,
          31.255,
          31.255,
          31.35,
          31.35,
          31.35,
          31.35,
          31.35,
          31.35,
          31.4,
          31.445,
          31.445,
          31.46,
          31.46,
          31.5,
          31.5,
          31.54,
          31.54,
          31.57,
          31.57,
          31.6,
          31.6,
          31.6,
          31.635,
          31.635,
          31.73,
          31.73,
          31.73,
          31.73,
          31.79,
          31.79,
          31.79,
          31.8,
          31.825,
          31.825,
          31.825,
          31.825,
          31.9,
          31.9,
          31.9,
          31.92,
          31.92,
          31.92,
          32,
          32.01,
          32.01,
          32.015,
          32.1,
          32.11,
          32.11,
          32.11,
          32.11,
          32.11,
          32.11,
          32.11,
          32.12,
          32.2,
          32.2,
          32.205,
          32.205,
          32.23,
          32.23,
          32.3,
          32.3,
          32.3,
          32.3,
          32.3,
          32.3,
          32.3,
          32.3,
          32.3,
          32.3,
          32.3,
          32.3,
          32.34,
          32.34,
          32.395,
          32.395,
          32.395,
          32.395,
          32.395,
          32.4,
          32.49,
          32.5,
          32.56,
          32.585,
          32.6,
          32.6,
          32.67,
          32.67,
          32.68,
          32.68,
          32.68,
          32.68,
          32.7,
          32.775,
          32.775,
          32.775,
          32.775,
          32.775,
          32.8,
          32.8,
          32.87,
          32.9,
          32.9,
          32.965,
          32.965,
          32.965,
          32.965,
          33,
          33,
          33,
          33,
          33,
          33,
          33.06,
          33.1,
          33.1,
          33.1,
          33.1,
          33.11,
          33.11,
          33.155,
          33.155,
          33.155,
          33.155,
          33.155,
          33.2,
          33.25,
          33.25,
          33.25,
          33.3,
          33.3,
          33.33,
          33.33,
          33.33,
          33.33,
          33.33,
          33.33,
          33.345,
          33.345,
          33.345,
          33.345,
          33.345,
          33.4,
          33.4,
          33.44,
          33.44,
          33.44,
          33.44,
          33.535,
          33.535,
          33.55,
          33.63,
          33.63,
          33.63,
          33.63,
          33.66,
          33.66,
          33.66,
          33.66,
          33.66,
          33.7,
          33.7,
          33.7,
          33.725,
          33.725,
          33.77,
          33.77,
          33.82,
          33.82,
          33.82,
          33.82,
          33.88,
          33.88,
          33.915,
          33.915,
          33.915,
          33.915,
          33.99,
          33.99,
          34.01,
          34.1,
          34.1,
          34.1,
          34.1,
          34.1,
          34.1,
          34.1,
          34.105,
          34.105,
          34.2,
          34.2,
          34.2,
          34.21,
          34.21,
          34.21,
          34.295,
          34.3,
          34.32,
          34.32,
          34.32,
          34.39,
          34.4,
          34.4,
          34.4,
          34.43,
          34.43,
          34.43,
          34.485,
          34.5,
          34.58,
          34.58,
          34.6,
          34.675,
          34.7,
          34.77,
          34.77,
          34.77,
          34.8,
          34.8,
          34.8,
          34.8,
          34.8,
          34.865,
          34.865,
          34.87,
          34.96,
          35.1,
          35.15,
          35.2,
          35.2,
          35.2,
          35.2,
          35.2,
          35.245,
          35.245,
          35.3,
          35.3,
          35.31,
          35.31,
          35.4,
          35.42,
          35.435,
          35.53,
          35.53,
          35.53,
          35.625,
          35.625,
          35.625,
          35.64,
          35.7,
          35.72,
          35.72,
          35.75,
          35.8,
          35.8,
          35.815,
          35.815,
          35.815,
          35.815,
          35.86,
          35.86,
          35.86,
          35.9,
          35.91,
          35.91,
          35.97,
          35.97,
          35.97,
          36,
          36,
          36.005,
          36.08,
          36.08,
          36.1,
          36.1,
          36.1,
          36.19,
          36.19,
          36.195,
          36.2,
          36.2,
          36.29,
          36.3,
          36.3,
          36.385,
          36.48,
          36.48,
          36.52,
          36.575,
          36.575,
          36.6,
          36.63,
          36.63,
          36.67,
          36.67,
          36.7,
          36.765,
          36.765,
          36.85,
          36.85,
          36.85,
          36.85,
          36.86,
          36.86,
          36.955,
          36.955,
          37,
          37,
          37.05,
          37.05,
          37.07,
          37.1,
          37.1,
          37.1,
          37.1,
          37.1,
          37.1,
          37.145,
          37.18,
          37.18,
          37.29,
          37.29,
          37.29,
          37.29,
          37.3,
          37.335,
          37.335,
          37.4,
          37.4,
          37.4,
          37.43,
          37.43,
          37.43,
          37.51,
          37.51,
          37.525,
          37.62,
          37.715,
          37.73,
          37.73,
          37.9,
          37.905,
          38,
          38,
          38,
          38.06,
          38.06,
          38.06,
          38.06,
          38.095,
          38.095,
          38.17,
          38.17,
          38.19,
          38.28,
          38.28,
          38.28,
          38.285,
          38.38,
          38.38,
          38.39,
          38.6,
          38.6,
          38.665,
          38.83,
          38.83,
          38.83,
          38.9,
          38.94,
          39.05,
          39.05,
          39.1,
          39.14,
          39.16,
          39.16,
          39.16,
          39.2,
          39.27,
          39.33,
          39.425,
          39.49,
          39.49,
          39.49,
          39.5,
          39.5,
          39.52,
          39.6,
          39.6,
          39.6,
          39.615,
          39.7,
          39.7,
          39.71,
          39.8,
          39.805,
          39.805,
          39.82,
          39.82,
          39.82,
          39.93,
          39.995,
          40.15,
          40.15,
          40.185,
          40.185,
          40.26,
          40.26,
          40.28,
          40.28,
          40.3,
          40.37,
          40.375,
          40.47,
          40.48,
          40.5,
          40.565,
          40.66,
          40.81,
          40.945,
          41.1,
          41.14,
          41.23,
          41.23,
          41.325,
          41.325,
          41.325,
          41.42,
          41.47,
          41.47,
          41.47,
          41.69,
          41.8,
          41.91,
          41.91,
          41.91,
          42.13,
          42.13,
          42.4,
          42.4,
          42.46,
          42.655,
          42.68,
          42.9,
          42.94,
          43.01,
          43.12,
          43.34,
          43.4,
          43.7,
          43.89,
          44,
          44.22,
          44.22,
          44.7,
          44.745,
          44.77,
          45.32,
          45.43,
          45.9,
          46.09,
          46.53,
          46.53,
          46.53,
          46.7,
          46.75,
          47.52,
          47.74,
          48.07,
          49.06,
          50.38,
          53.13
         ],
         "xaxis": "x",
         "y": [
          7216.2450827477405,
          7287.500560107905,
          7287.500560107905,
          7327.086936419107,
          7327.086936419107,
          7335.004211681347,
          7336.254307775385,
          7342.921486943588,
          7358.756037468069,
          7369.590203616398,
          7374.590587992549,
          7390.425138517031,
          7414.176964303752,
          7414.176964303752,
          7414.176964303752,
          7427.92802133817,
          7436.261995298423,
          7445.8460653527145,
          7461.680615877195,
          7469.597891139436,
          7485.4324416639165,
          7509.184267450638,
          7517.101542712879,
          7536.269682821461,
          7536.269682821461,
          7540.8533684996,
          7540.8533684996,
          7548.77064376184,
          7548.77064376184,
          7548.77064376184,
          7548.77064376184,
          7548.77064376184,
          7561.27160470222,
          7572.522469548561,
          7572.522469548561,
          7572.522469548561,
          7577.939552622726,
          7582.106539602853,
          7586.27352658298,
          7588.357020073043,
          7596.274295335283,
          7602.941474503486,
          7602.941474503486,
          7604.191570597523,
          7611.275448463739,
          7618.776025027966,
          7619.609422423991,
          7619.609422423991,
          7627.943396384245,
          7637.110767740523,
          7643.777946908725,
          7646.278139096802,
          7659.612497433207,
          7661.279292225257,
          7667.529772695448,
          7667.529772695448,
          7669.613266185511,
          7669.613266185511,
          7675.447047957688,
          7675.447047957688,
          7675.447047957688,
          7677.947240145764,
          7682.947624521916,
          7691.281598482169,
          7691.281598482169,
          7699.198873744409,
          7699.198873744409,
          7699.198873744409,
          7701.282367234473,
          7701.282367234473,
          7707.11614900665,
          7707.11614900665,
          7710.449738590751,
          7715.0334242688905,
          7719.617109947029,
          7722.95069953113,
          7727.951083907283,
          7730.867974793371,
          7730.867974793371,
          7730.867974793371,
          7730.867974793371,
          7738.785250055612,
          7738.785250055612,
          7744.619031827789,
          7744.619031827789,
          7754.6198005800925,
          7754.6198005800925,
          7762.537075842333,
          7762.537075842333,
          7762.537075842333,
          7762.537075842333,
          7762.537075842333,
          7769.620953708549,
          7770.454351104574,
          7770.454351104574,
          7770.454351104574,
          7778.371626366814,
          7778.371626366814,
          7778.371626366814,
          7783.788709440978,
          7786.288901629055,
          7786.288901629055,
          7794.206176891295,
          7802.123452153535,
          7802.9568495495605,
          7810.040727415776,
          7810.040727415776,
          7811.290823509814,
          7817.958002678017,
          7817.958002678017,
          7817.958002678017,
          7817.958002678017,
          7817.958002678017,
          7819.624797470067,
          7820.4581948660925,
          7820.4581948660925,
          7820.4581948660925,
          7820.4581948660925,
          7825.875277940257,
          7827.95877143032,
          7829.625566222371,
          7833.792553202497,
          7833.792553202497,
          7836.292745390573,
          7836.292745390573,
          7841.709828464738,
          7841.709828464738,
          7847.9603089349275,
          7849.627103726978,
          7849.627103726978,
          7852.96069331108,
          7852.96069331108,
          7857.127680291206,
          7857.544378989219,
          7857.544378989219,
          7861.294667271332,
          7861.294667271332,
          7865.46165425146,
          7865.46165425146,
          7865.46165425146,
          7869.628641231586,
          7873.378929513699,
          7873.378929513699,
          7875.462423003763,
          7877.962615191839,
          7881.29620477594,
          7884.629794360042,
          7884.629794360042,
          7889.213480038181,
          7889.213480038181,
          7889.213480038181,
          7893.79716571632,
          7894.630563112345,
          7894.630563112345,
          7897.130755300421,
          7897.130755300421,
          7905.048030562662,
          7905.048030562662,
          7905.048030562662,
          7911.298511032852,
          7911.298511032852,
          7911.298511032852,
          7912.131908428877,
          7912.131908428877,
          7912.965305824902,
          7912.965305824902,
          7912.965305824902,
          7912.965305824902,
          7912.965305824902,
          7912.965305824902,
          7920.882581087142,
          7928.799856349383,
          7928.799856349383,
          7928.799856349383,
          7930.466651141434,
          7936.300432913611,
          7936.300432913611,
          7936.717131611624,
          7936.717131611624,
          7936.717131611624,
          7944.634406873864,
          7944.634406873864,
          7944.634406873864,
          7952.551682136105,
          7952.551682136105,
          7957.968765210269,
          7957.968765210269,
          7967.136136566547,
          7968.386232660585,
          7968.386232660585,
          7969.636328754623,
          7969.636328754623,
          7976.303507922826,
          7976.303507922826,
          7976.303507922826,
          7976.303507922826,
          7976.303507922826,
          7984.2207831850665,
          7984.2207831850665,
          7984.2207831850665,
          7984.2207831850665,
          7984.2207831850665,
          7986.30427667513,
          7992.138058447306,
          7992.138058447306,
          7994.638250635383,
          7994.638250635383,
          7994.638250635383,
          8000.055333709547,
          8000.055333709547,
          8000.055333709547,
          8002.972224595636,
          8007.972608971788,
          8007.972608971788,
          8007.972608971788,
          8007.972608971788,
          8007.972608971788,
          8007.972608971788,
          8007.972608971788,
          8012.972993347939,
          8015.889884234028,
          8015.889884234028,
          8019.640172516142,
          8019.640172516142,
          8019.640172516142,
          8023.8071594962685,
          8027.974146476396,
          8031.307736060497,
          8031.307736060497,
          8031.307736060497,
          8031.307736060497,
          8031.724434758509,
          8031.724434758509,
          8031.724434758509,
          8036.308120436648,
          8036.308120436648,
          8036.308120436648,
          8036.308120436648,
          8036.308120436648,
          8036.308120436648,
          8036.308120436648,
          8039.641710020749,
          8039.641710020749,
          8039.641710020749,
          8039.641710020749,
          8044.6420943969015,
          8044.6420943969015,
          8047.558985282991,
          8047.558985282991,
          8047.558985282991,
          8055.476260545231,
          8055.476260545231,
          8055.476260545231,
          8055.476260545231,
          8063.393535807471,
          8063.393535807471,
          8063.393535807471,
          8067.97722148561,
          8067.97722148561,
          8069.644016277661,
          8071.310811069712,
          8071.310811069712,
          8071.310811069712,
          8071.310811069712,
          8079.228086331952,
          8079.228086331952,
          8079.228086331952,
          8079.228086331952,
          8079.228086331952,
          8086.311964198167,
          8086.311964198167,
          8086.311964198167,
          8087.145361594193,
          8087.145361594193,
          8087.145361594193,
          8087.145361594193,
          8087.145361594193,
          8095.0626368564335,
          8095.479335554446,
          8095.479335554446,
          8102.979912118673,
          8102.979912118673,
          8102.979912118673,
          8102.979912118673,
          8102.979912118673,
          8104.646706910724,
          8104.646706910724,
          8110.897187380914,
          8110.897187380914,
          8110.897187380914,
          8111.313886078927,
          8113.8140782670025,
          8113.8140782670025,
          8118.814462643155,
          8118.814462643155,
          8119.64786003918,
          8119.64786003918,
          8122.981449623281,
          8126.731737905395,
          8126.731737905395,
          8127.981833999433,
          8134.6490131676355,
          8134.6490131676355,
          8136.315807959686,
          8142.566288429876,
          8144.649781919939,
          8144.649781919939,
          8144.649781919939,
          8150.483563692116,
          8150.483563692116,
          8152.983755880192,
          8152.983755880192,
          8158.400838954357,
          8158.400838954357,
          8158.400838954357,
          8158.400838954357,
          8166.318114216598,
          8166.318114216598,
          8166.318114216598,
          8166.318114216598,
          8166.318114216598,
          8169.651703800699,
          8169.651703800699,
          8174.2353894788375,
          8174.2353894788375,
          8177.985677760951,
          8177.985677760951,
          8177.985677760951,
          8177.985677760951,
          8177.985677760951,
          8177.985677760951,
          8182.152664741078,
          8182.152664741078,
          8182.152664741078,
          8182.152664741078,
          8186.319651721205,
          8186.319651721205,
          8186.319651721205,
          8186.319651721205,
          8187.153049117231,
          8190.069940003319,
          8190.069940003319,
          8190.069940003319,
          8190.069940003319,
          8190.069940003319,
          8190.069940003319,
          8194.653625681458,
          8194.653625681458,
          8196.320420473508,
          8196.320420473508,
          8196.320420473508,
          8196.320420473508,
          8197.987215265559,
          8197.987215265559,
          8197.987215265559,
          8197.987215265559,
          8205.487791829786,
          8205.487791829786,
          8205.487791829786,
          8205.904490527799,
          8205.904490527799,
          8205.904490527799,
          8205.904490527799,
          8213.82176579004,
          8213.82176579004,
          8213.82176579004,
          8213.82176579004,
          8214.655163186066,
          8214.655163186066,
          8219.655547562217,
          8219.655547562217,
          8221.73904105228,
          8221.73904105228,
          8223.822534542343,
          8223.822534542343,
          8223.822534542343,
          8227.989521522471,
          8227.989521522471,
          8229.656316314522,
          8229.656316314522,
          8232.989905898623,
          8236.323495482724,
          8237.573591576762,
          8237.573591576762,
          8237.573591576762,
          8242.1572772549,
          8242.1572772549,
          8245.490866839002,
          8245.490866839002,
          8245.490866839002,
          8245.490866839002,
          8245.490866839002,
          8252.991443403229,
          8252.991443403229,
          8253.408142101243,
          8253.408142101243,
          8261.325417363483,
          8261.325417363483,
          8261.325417363483,
          8269.242692625723,
          8269.242692625723,
          8269.242692625723,
          8269.242692625723,
          8269.242692625723,
          8269.242692625723,
          8269.659391323736,
          8269.659391323736,
          8269.659391323736,
          8277.159967887965,
          8277.159967887965,
          8277.99336528399,
          8277.99336528399,
          8277.99336528399,
          8277.99336528399,
          8277.99336528399,
          8285.077243150205,
          8285.077243150205,
          8285.077243150205,
          8285.077243150205,
          8285.077243150205,
          8286.327339244242,
          8287.994134036293,
          8292.994518412444,
          8292.994518412444,
          8292.994518412444,
          8292.994518412444,
          8292.994518412444,
          8292.994518412444,
          8292.994518412444,
          8294.661313204495,
          8294.661313204495,
          8294.661313204495,
          8294.661313204495,
          8294.661313204495,
          8297.16150539257,
          8297.16150539257,
          8300.911793674686,
          8300.911793674686,
          8300.911793674686,
          8300.911793674686,
          8302.99528716475,
          8302.99528716475,
          8306.32887674885,
          8311.329261125002,
          8315.496248105128,
          8316.746344199166,
          8319.663235085256,
          8324.663619461408,
          8324.663619461408,
          8324.663619461408,
          8324.663619461408,
          8327.997209045508,
          8327.997209045508,
          8332.580894723647,
          8332.580894723647,
          8333.830990817685,
          8333.830990817685,
          8336.331183005761,
          8340.498169985887,
          8342.998362173963,
          8342.998362173963,
          8342.998362173963,
          8344.665156966013,
          8348.415445248129,
          8352.165733530243,
          8352.165733530243,
          8352.999130926268,
          8352.999130926268,
          8352.999130926268,
          8352.999130926268,
          8356.332720510369,
          8356.332720510369,
          8356.332720510369,
          8356.332720510369,
          8356.332720510369,
          8361.33310488652,
          8361.33310488652,
          8361.33310488652,
          8361.33310488652,
          8364.249995772609,
          8364.249995772609,
          8364.249995772609,
          8364.249995772609,
          8369.667078846775,
          8369.667078846775,
          8369.667078846775,
          8370.5004762428,
          8370.5004762428,
          8372.16727103485,
          8372.16727103485,
          8372.16727103485,
          8372.16727103485,
          8378.001052807027,
          8378.001052807027,
          8378.001052807027,
          8379.667847599078,
          8379.667847599078,
          8379.667847599078,
          8379.667847599078,
          8379.667847599078,
          8380.08454629709,
          8380.08454629709,
          8386.33502676728,
          8388.00182155933,
          8388.00182155933,
          8388.00182155933,
          8388.835218955355,
          8388.835218955355,
          8388.835218955355,
          8394.669000727534,
          8394.669000727534,
          8395.919096821572,
          8395.919096821572,
          8395.919096821572,
          8395.919096821572,
          8395.919096821572,
          8395.919096821572,
          8398.002590311635,
          8398.002590311635,
          8403.002974687786,
          8403.002974687786,
          8403.002974687786,
          8403.002974687786,
          8403.836372083812,
          8403.836372083812,
          8403.836372083812,
          8407.169961667913,
          8411.33694864804,
          8411.33694864804,
          8411.33694864804,
          8411.753647346053,
          8411.753647346053,
          8419.670922608293,
          8419.670922608293,
          8419.670922608293,
          8419.670922608293,
          8427.588197870533,
          8427.588197870533,
          8427.588197870533,
          8427.588197870533,
          8427.588197870533,
          8427.588197870533,
          8428.004896568546,
          8428.004896568546,
          8428.004896568546,
          8428.004896568546,
          8435.505473132773,
          8435.505473132773,
          8435.505473132773,
          8435.505473132773,
          8435.505473132773,
          8435.505473132773,
          8443.422748395014,
          8443.839447093027,
          8443.839447093027,
          8451.340023657254,
          8451.340023657254,
          8451.340023657254,
          8453.006818449305,
          8453.006818449305,
          8453.006818449305,
          8453.006818449305,
          8453.006818449305,
          8453.006818449305,
          8459.257298919496,
          8459.257298919496,
          8459.257298919496,
          8459.257298919496,
          8459.257298919496,
          8459.257298919496,
          8459.257298919496,
          8461.340792409559,
          8461.340792409559,
          8467.174574181736,
          8469.674766369812,
          8469.674766369812,
          8471.341561161862,
          8471.341561161862,
          8475.091849443976,
          8475.091849443976,
          8475.091849443976,
          8478.008740330064,
          8480.50893251814,
          8480.50893251814,
          8480.50893251814,
          8483.009124706216,
          8483.009124706216,
          8483.009124706216,
          8486.342714290317,
          8489.67630387442,
          8490.926399968457,
          8490.926399968457,
          8490.926399968457,
          8498.843675230697,
          8498.843675230697,
          8498.843675230697,
          8498.843675230697,
          8498.843675230697,
          8498.843675230697,
          8503.010662210823,
          8506.760950492939,
          8506.760950492939,
          8508.011046586977,
          8508.011046586977,
          8511.344636171078,
          8511.344636171078,
          8514.678225755179,
          8514.678225755179,
          8517.178417943254,
          8517.178417943254,
          8519.67861013133,
          8519.67861013133,
          8519.67861013133,
          8522.595501017418,
          8522.595501017418,
          8530.512776279658,
          8530.512776279658,
          8530.512776279658,
          8530.512776279658,
          8535.513160655812,
          8535.513160655812,
          8535.513160655812,
          8536.346558051837,
          8538.4300515419,
          8538.4300515419,
          8538.4300515419,
          8538.4300515419,
          8544.68053201209,
          8544.68053201209,
          8544.68053201209,
          8546.34732680414,
          8546.34732680414,
          8546.34732680414,
          8553.014505972344,
          8553.847903368369,
          8553.847903368369,
          8554.264602066381,
          8561.348479932596,
          8562.181877328621,
          8562.181877328621,
          8562.181877328621,
          8562.181877328621,
          8562.181877328621,
          8562.181877328621,
          8562.181877328621,
          8563.015274724647,
          8569.682453892849,
          8569.682453892849,
          8570.099152590861,
          8570.099152590861,
          8572.182646080924,
          8572.182646080924,
          8578.016427853101,
          8578.016427853101,
          8578.016427853101,
          8578.016427853101,
          8578.016427853101,
          8578.016427853101,
          8578.016427853101,
          8578.016427853101,
          8578.016427853101,
          8578.016427853101,
          8578.016427853101,
          8578.016427853101,
          8581.350017437204,
          8581.350017437204,
          8585.933703115343,
          8585.933703115343,
          8585.933703115343,
          8585.933703115343,
          8585.933703115343,
          8586.350401813355,
          8593.850978377583,
          8594.684375773608,
          8599.684760149761,
          8601.768253639824,
          8603.018349733862,
          8603.018349733862,
          8608.852131506039,
          8608.852131506039,
          8609.685528902064,
          8609.685528902064,
          8609.685528902064,
          8609.685528902064,
          8611.352323694115,
          8617.602804164304,
          8617.602804164304,
          8617.602804164304,
          8617.602804164304,
          8617.602804164304,
          8619.686297654367,
          8619.686297654367,
          8625.520079426544,
          8628.020271614621,
          8628.020271614621,
          8633.437354688785,
          8633.437354688785,
          8633.437354688785,
          8633.437354688785,
          8636.354245574874,
          8636.354245574874,
          8636.354245574874,
          8636.354245574874,
          8636.354245574874,
          8636.354245574874,
          8641.354629951027,
          8644.688219535128,
          8644.688219535128,
          8644.688219535128,
          8644.688219535128,
          8645.521616931153,
          8645.521616931153,
          8649.271905213267,
          8649.271905213267,
          8649.271905213267,
          8649.271905213267,
          8649.271905213267,
          8653.02219349538,
          8657.189180475507,
          8657.189180475507,
          8657.189180475507,
          8661.356167455633,
          8661.356167455633,
          8663.856359643709,
          8663.856359643709,
          8663.856359643709,
          8663.856359643709,
          8663.856359643709,
          8663.856359643709,
          8665.106455737747,
          8665.106455737747,
          8665.106455737747,
          8665.106455737747,
          8665.106455737747,
          8669.690141415886,
          8669.690141415886,
          8673.023730999987,
          8673.023730999987,
          8673.023730999987,
          8673.023730999987,
          8680.941006262228,
          8680.941006262228,
          8682.191102356266,
          8688.85828152447,
          8688.85828152447,
          8688.85828152447,
          8688.85828152447,
          8691.358473712544,
          8691.358473712544,
          8691.358473712544,
          8691.358473712544,
          8691.358473712544,
          8694.692063296647,
          8694.692063296647,
          8694.692063296647,
          8696.77555678671,
          8696.77555678671,
          8700.525845068823,
          8700.525845068823,
          8704.69283204895,
          8704.69283204895,
          8704.69283204895,
          8704.69283204895,
          8709.693216425101,
          8709.693216425101,
          8712.61010731119,
          8712.61010731119,
          8712.61010731119,
          8712.61010731119,
          8718.86058778138,
          8718.86058778138,
          8720.527382573431,
          8728.027959137658,
          8728.027959137658,
          8728.027959137658,
          8728.027959137658,
          8728.027959137658,
          8728.027959137658,
          8728.027959137658,
          8728.444657835671,
          8728.444657835671,
          8736.361933097913,
          8736.361933097913,
          8736.361933097913,
          8737.195330493938,
          8737.195330493938,
          8737.195330493938,
          8744.279208360153,
          8744.695907058165,
          8746.362701850216,
          8746.362701850216,
          8746.362701850216,
          8752.196483622392,
          8753.029881018418,
          8753.029881018418,
          8753.029881018418,
          8755.530073206493,
          8755.530073206493,
          8755.530073206493,
          8760.113758884632,
          8761.36385497867,
          8768.031034146874,
          8768.031034146874,
          8769.697828938924,
          8775.948309409114,
          8778.031802899177,
          8783.865584671355,
          8783.865584671355,
          8783.865584671355,
          8786.365776859431,
          8786.365776859431,
          8786.365776859431,
          8786.365776859431,
          8786.365776859431,
          8791.782859933595,
          8791.782859933595,
          8792.199558631608,
          8799.700135195835,
          8811.36769874019,
          8815.534685720317,
          8819.701672700443,
          8819.701672700443,
          8819.701672700443,
          8819.701672700443,
          8819.701672700443,
          8823.451960982557,
          8823.451960982557,
          8828.035646660695,
          8828.035646660695,
          8828.869044056722,
          8828.869044056722,
          8836.36962062095,
          8838.036415413,
          8839.286511507038,
          8847.203786769278,
          8847.203786769278,
          8847.203786769278,
          8855.121062031518,
          8855.121062031518,
          8855.121062031518,
          8856.371158125556,
          8861.371542501709,
          8863.03833729376,
          8863.03833729376,
          8865.538529481835,
          8869.705516461961,
          8869.705516461961,
          8870.955612556,
          8870.955612556,
          8870.955612556,
          8870.955612556,
          8874.705900838113,
          8874.705900838113,
          8874.705900838113,
          8878.039490422216,
          8878.872887818241,
          8878.872887818241,
          8883.873272194392,
          8883.873272194392,
          8883.873272194392,
          8886.373464382468,
          8886.373464382468,
          8886.79016308048,
          8893.04064355067,
          8893.04064355067,
          8894.70743834272,
          8894.70743834272,
          8894.70743834272,
          8902.208014906948,
          8902.208014906948,
          8902.62471360496,
          8903.041412302975,
          8903.041412302975,
          8910.541988867202,
          8911.375386263227,
          8911.375386263227,
          8918.459264129442,
          8926.376539391684,
          8926.376539391684,
          8929.710128975785,
          8934.293814653924,
          8934.293814653924,
          8936.377308143987,
          8938.877500332062,
          8938.877500332062,
          8942.211089916163,
          8942.211089916163,
          8944.71128210424,
          8950.128365178405,
          8950.128365178405,
          8957.21224304462,
          8957.21224304462,
          8957.21224304462,
          8957.21224304462,
          8958.045640440645,
          8958.045640440645,
          8965.962915702885,
          8965.962915702885,
          8969.713203985,
          8969.713203985,
          8973.880190965127,
          8973.880190965127,
          8975.546985757177,
          8978.047177945253,
          8978.047177945253,
          8978.047177945253,
          8978.047177945253,
          8978.047177945253,
          8978.047177945253,
          8981.797466227366,
          8984.714357113455,
          8984.714357113455,
          8993.881728469732,
          8993.881728469732,
          8993.881728469732,
          8993.881728469732,
          8994.715125865758,
          8997.632016751848,
          8997.632016751848,
          9003.049099826012,
          9003.049099826012,
          9003.049099826012,
          9005.549292014088,
          9005.549292014088,
          9005.549292014088,
          9012.21647118229,
          9012.21647118229,
          9013.466567276328,
          9021.38384253857,
          9029.30111780081,
          9030.551213894847,
          9030.551213894847,
          9044.718969627278,
          9045.13566832529,
          9053.05294358753,
          9053.05294358753,
          9053.05294358753,
          9058.053327963684,
          9058.053327963684,
          9058.053327963684,
          9058.053327963684,
          9060.97021884977,
          9060.97021884977,
          9067.220699319962,
          9067.220699319962,
          9068.887494112012,
          9076.38807067624,
          9076.38807067624,
          9076.38807067624,
          9076.804769374252,
          9084.722044636492,
          9084.722044636492,
          9085.555442032517,
          9103.056787349049,
          9103.056787349049,
          9108.473870423215,
          9122.224927457632,
          9122.224927457632,
          9122.224927457632,
          9128.058709229808,
          9131.39229881391,
          9140.559670170189,
          9140.559670170189,
          9144.726657150315,
          9148.060246734416,
          9149.727041526467,
          9149.727041526467,
          9149.727041526467,
          9153.06063111057,
          9158.894412882746,
          9163.894797258898,
          9171.812072521137,
          9177.229155595302,
          9177.229155595302,
          9177.229155595302,
          9178.062552991327,
          9178.062552991327,
          9179.72934778338,
          9186.396526951581,
          9186.396526951581,
          9186.396526951581,
          9187.646623045619,
          9194.730500911834,
          9194.730500911834,
          9195.563898307859,
          9203.064474872088,
          9203.4811735701,
          9203.4811735701,
          9204.731269664138,
          9204.731269664138,
          9204.731269664138,
          9213.898641020416,
          9219.31572409458,
          9232.233383732973,
          9232.233383732973,
          9235.150274619062,
          9235.150274619062,
          9241.400755089251,
          9241.400755089251,
          9243.067549881302,
          9243.067549881302,
          9244.734344673352,
          9250.56812644553,
          9250.984825143543,
          9258.902100405783,
          9259.735497801808,
          9261.402292593859,
          9266.819375668023,
          9274.736650930263,
          9287.237611870643,
          9298.488476716986,
          9311.406136355377,
          9314.739725939478,
          9322.240302503706,
          9322.240302503706,
          9330.157577765947,
          9330.157577765947,
          9330.157577765947,
          9338.074853028189,
          9342.241840008315,
          9342.241840008315,
          9342.241840008315,
          9360.57658272087,
          9369.743954077148,
          9378.911325433428,
          9378.911325433428,
          9378.911325433428,
          9397.246068145985,
          9397.246068145985,
          9419.747797838669,
          9419.747797838669,
          9424.74818221482,
          9440.999431437314,
          9443.082924927377,
          9461.417667639933,
          9464.751257224036,
          9470.585038996212,
          9479.75241035249,
          9498.087153065047,
          9503.087537441199,
          9528.08945932196,
          9543.92400984644,
          9553.091381202717,
          9571.426123915275,
          9571.426123915275,
          9611.42919892449,
          9615.179487206604,
          9617.262980696669,
          9663.099837478061,
          9672.267208834339,
          9711.43688644753,
          9727.271436972009,
          9763.940922397123,
          9763.940922397123,
          9763.940922397123,
          9778.108678129553,
          9782.275665109679,
          9846.44726460363,
          9864.782007316186,
          9892.28412138502,
          9974.790463591527,
          10084.79891986687,
          10313.98320377383
         ],
         "yaxis": "y"
        }
       ],
       "layout": {
        "legend": {
         "title": {
          "text": "smoker"
         },
         "tracegroupgap": 0
        },
        "template": {
         "data": {
          "bar": [
           {
            "error_x": {
             "color": "#2a3f5f"
            },
            "error_y": {
             "color": "#2a3f5f"
            },
            "marker": {
             "line": {
              "color": "#E5ECF6",
              "width": 0.5
             },
             "pattern": {
              "fillmode": "overlay",
              "size": 10,
              "solidity": 0.2
             }
            },
            "type": "bar"
           }
          ],
          "barpolar": [
           {
            "marker": {
             "line": {
              "color": "#E5ECF6",
              "width": 0.5
             },
             "pattern": {
              "fillmode": "overlay",
              "size": 10,
              "solidity": 0.2
             }
            },
            "type": "barpolar"
           }
          ],
          "carpet": [
           {
            "aaxis": {
             "endlinecolor": "#2a3f5f",
             "gridcolor": "white",
             "linecolor": "white",
             "minorgridcolor": "white",
             "startlinecolor": "#2a3f5f"
            },
            "baxis": {
             "endlinecolor": "#2a3f5f",
             "gridcolor": "white",
             "linecolor": "white",
             "minorgridcolor": "white",
             "startlinecolor": "#2a3f5f"
            },
            "type": "carpet"
           }
          ],
          "choropleth": [
           {
            "colorbar": {
             "outlinewidth": 0,
             "ticks": ""
            },
            "type": "choropleth"
           }
          ],
          "contour": [
           {
            "colorbar": {
             "outlinewidth": 0,
             "ticks": ""
            },
            "colorscale": [
             [
              0,
              "#0d0887"
             ],
             [
              0.1111111111111111,
              "#46039f"
             ],
             [
              0.2222222222222222,
              "#7201a8"
             ],
             [
              0.3333333333333333,
              "#9c179e"
             ],
             [
              0.4444444444444444,
              "#bd3786"
             ],
             [
              0.5555555555555556,
              "#d8576b"
             ],
             [
              0.6666666666666666,
              "#ed7953"
             ],
             [
              0.7777777777777778,
              "#fb9f3a"
             ],
             [
              0.8888888888888888,
              "#fdca26"
             ],
             [
              1,
              "#f0f921"
             ]
            ],
            "type": "contour"
           }
          ],
          "contourcarpet": [
           {
            "colorbar": {
             "outlinewidth": 0,
             "ticks": ""
            },
            "type": "contourcarpet"
           }
          ],
          "heatmap": [
           {
            "colorbar": {
             "outlinewidth": 0,
             "ticks": ""
            },
            "colorscale": [
             [
              0,
              "#0d0887"
             ],
             [
              0.1111111111111111,
              "#46039f"
             ],
             [
              0.2222222222222222,
              "#7201a8"
             ],
             [
              0.3333333333333333,
              "#9c179e"
             ],
             [
              0.4444444444444444,
              "#bd3786"
             ],
             [
              0.5555555555555556,
              "#d8576b"
             ],
             [
              0.6666666666666666,
              "#ed7953"
             ],
             [
              0.7777777777777778,
              "#fb9f3a"
             ],
             [
              0.8888888888888888,
              "#fdca26"
             ],
             [
              1,
              "#f0f921"
             ]
            ],
            "type": "heatmap"
           }
          ],
          "heatmapgl": [
           {
            "colorbar": {
             "outlinewidth": 0,
             "ticks": ""
            },
            "colorscale": [
             [
              0,
              "#0d0887"
             ],
             [
              0.1111111111111111,
              "#46039f"
             ],
             [
              0.2222222222222222,
              "#7201a8"
             ],
             [
              0.3333333333333333,
              "#9c179e"
             ],
             [
              0.4444444444444444,
              "#bd3786"
             ],
             [
              0.5555555555555556,
              "#d8576b"
             ],
             [
              0.6666666666666666,
              "#ed7953"
             ],
             [
              0.7777777777777778,
              "#fb9f3a"
             ],
             [
              0.8888888888888888,
              "#fdca26"
             ],
             [
              1,
              "#f0f921"
             ]
            ],
            "type": "heatmapgl"
           }
          ],
          "histogram": [
           {
            "marker": {
             "pattern": {
              "fillmode": "overlay",
              "size": 10,
              "solidity": 0.2
             }
            },
            "type": "histogram"
           }
          ],
          "histogram2d": [
           {
            "colorbar": {
             "outlinewidth": 0,
             "ticks": ""
            },
            "colorscale": [
             [
              0,
              "#0d0887"
             ],
             [
              0.1111111111111111,
              "#46039f"
             ],
             [
              0.2222222222222222,
              "#7201a8"
             ],
             [
              0.3333333333333333,
              "#9c179e"
             ],
             [
              0.4444444444444444,
              "#bd3786"
             ],
             [
              0.5555555555555556,
              "#d8576b"
             ],
             [
              0.6666666666666666,
              "#ed7953"
             ],
             [
              0.7777777777777778,
              "#fb9f3a"
             ],
             [
              0.8888888888888888,
              "#fdca26"
             ],
             [
              1,
              "#f0f921"
             ]
            ],
            "type": "histogram2d"
           }
          ],
          "histogram2dcontour": [
           {
            "colorbar": {
             "outlinewidth": 0,
             "ticks": ""
            },
            "colorscale": [
             [
              0,
              "#0d0887"
             ],
             [
              0.1111111111111111,
              "#46039f"
             ],
             [
              0.2222222222222222,
              "#7201a8"
             ],
             [
              0.3333333333333333,
              "#9c179e"
             ],
             [
              0.4444444444444444,
              "#bd3786"
             ],
             [
              0.5555555555555556,
              "#d8576b"
             ],
             [
              0.6666666666666666,
              "#ed7953"
             ],
             [
              0.7777777777777778,
              "#fb9f3a"
             ],
             [
              0.8888888888888888,
              "#fdca26"
             ],
             [
              1,
              "#f0f921"
             ]
            ],
            "type": "histogram2dcontour"
           }
          ],
          "mesh3d": [
           {
            "colorbar": {
             "outlinewidth": 0,
             "ticks": ""
            },
            "type": "mesh3d"
           }
          ],
          "parcoords": [
           {
            "line": {
             "colorbar": {
              "outlinewidth": 0,
              "ticks": ""
             }
            },
            "type": "parcoords"
           }
          ],
          "pie": [
           {
            "automargin": true,
            "type": "pie"
           }
          ],
          "scatter": [
           {
            "fillpattern": {
             "fillmode": "overlay",
             "size": 10,
             "solidity": 0.2
            },
            "type": "scatter"
           }
          ],
          "scatter3d": [
           {
            "line": {
             "colorbar": {
              "outlinewidth": 0,
              "ticks": ""
             }
            },
            "marker": {
             "colorbar": {
              "outlinewidth": 0,
              "ticks": ""
             }
            },
            "type": "scatter3d"
           }
          ],
          "scattercarpet": [
           {
            "marker": {
             "colorbar": {
              "outlinewidth": 0,
              "ticks": ""
             }
            },
            "type": "scattercarpet"
           }
          ],
          "scattergeo": [
           {
            "marker": {
             "colorbar": {
              "outlinewidth": 0,
              "ticks": ""
             }
            },
            "type": "scattergeo"
           }
          ],
          "scattergl": [
           {
            "marker": {
             "colorbar": {
              "outlinewidth": 0,
              "ticks": ""
             }
            },
            "type": "scattergl"
           }
          ],
          "scattermapbox": [
           {
            "marker": {
             "colorbar": {
              "outlinewidth": 0,
              "ticks": ""
             }
            },
            "type": "scattermapbox"
           }
          ],
          "scatterpolar": [
           {
            "marker": {
             "colorbar": {
              "outlinewidth": 0,
              "ticks": ""
             }
            },
            "type": "scatterpolar"
           }
          ],
          "scatterpolargl": [
           {
            "marker": {
             "colorbar": {
              "outlinewidth": 0,
              "ticks": ""
             }
            },
            "type": "scatterpolargl"
           }
          ],
          "scatterternary": [
           {
            "marker": {
             "colorbar": {
              "outlinewidth": 0,
              "ticks": ""
             }
            },
            "type": "scatterternary"
           }
          ],
          "surface": [
           {
            "colorbar": {
             "outlinewidth": 0,
             "ticks": ""
            },
            "colorscale": [
             [
              0,
              "#0d0887"
             ],
             [
              0.1111111111111111,
              "#46039f"
             ],
             [
              0.2222222222222222,
              "#7201a8"
             ],
             [
              0.3333333333333333,
              "#9c179e"
             ],
             [
              0.4444444444444444,
              "#bd3786"
             ],
             [
              0.5555555555555556,
              "#d8576b"
             ],
             [
              0.6666666666666666,
              "#ed7953"
             ],
             [
              0.7777777777777778,
              "#fb9f3a"
             ],
             [
              0.8888888888888888,
              "#fdca26"
             ],
             [
              1,
              "#f0f921"
             ]
            ],
            "type": "surface"
           }
          ],
          "table": [
           {
            "cells": {
             "fill": {
              "color": "#EBF0F8"
             },
             "line": {
              "color": "white"
             }
            },
            "header": {
             "fill": {
              "color": "#C8D4E3"
             },
             "line": {
              "color": "white"
             }
            },
            "type": "table"
           }
          ]
         },
         "layout": {
          "annotationdefaults": {
           "arrowcolor": "#2a3f5f",
           "arrowhead": 0,
           "arrowwidth": 1
          },
          "autotypenumbers": "strict",
          "coloraxis": {
           "colorbar": {
            "outlinewidth": 0,
            "ticks": ""
           }
          },
          "colorscale": {
           "diverging": [
            [
             0,
             "#8e0152"
            ],
            [
             0.1,
             "#c51b7d"
            ],
            [
             0.2,
             "#de77ae"
            ],
            [
             0.3,
             "#f1b6da"
            ],
            [
             0.4,
             "#fde0ef"
            ],
            [
             0.5,
             "#f7f7f7"
            ],
            [
             0.6,
             "#e6f5d0"
            ],
            [
             0.7,
             "#b8e186"
            ],
            [
             0.8,
             "#7fbc41"
            ],
            [
             0.9,
             "#4d9221"
            ],
            [
             1,
             "#276419"
            ]
           ],
           "sequential": [
            [
             0,
             "#0d0887"
            ],
            [
             0.1111111111111111,
             "#46039f"
            ],
            [
             0.2222222222222222,
             "#7201a8"
            ],
            [
             0.3333333333333333,
             "#9c179e"
            ],
            [
             0.4444444444444444,
             "#bd3786"
            ],
            [
             0.5555555555555556,
             "#d8576b"
            ],
            [
             0.6666666666666666,
             "#ed7953"
            ],
            [
             0.7777777777777778,
             "#fb9f3a"
            ],
            [
             0.8888888888888888,
             "#fdca26"
            ],
            [
             1,
             "#f0f921"
            ]
           ],
           "sequentialminus": [
            [
             0,
             "#0d0887"
            ],
            [
             0.1111111111111111,
             "#46039f"
            ],
            [
             0.2222222222222222,
             "#7201a8"
            ],
            [
             0.3333333333333333,
             "#9c179e"
            ],
            [
             0.4444444444444444,
             "#bd3786"
            ],
            [
             0.5555555555555556,
             "#d8576b"
            ],
            [
             0.6666666666666666,
             "#ed7953"
            ],
            [
             0.7777777777777778,
             "#fb9f3a"
            ],
            [
             0.8888888888888888,
             "#fdca26"
            ],
            [
             1,
             "#f0f921"
            ]
           ]
          },
          "colorway": [
           "#636efa",
           "#EF553B",
           "#00cc96",
           "#ab63fa",
           "#FFA15A",
           "#19d3f3",
           "#FF6692",
           "#B6E880",
           "#FF97FF",
           "#FECB52"
          ],
          "font": {
           "color": "#2a3f5f"
          },
          "geo": {
           "bgcolor": "white",
           "lakecolor": "white",
           "landcolor": "#E5ECF6",
           "showlakes": true,
           "showland": true,
           "subunitcolor": "white"
          },
          "hoverlabel": {
           "align": "left"
          },
          "hovermode": "closest",
          "mapbox": {
           "style": "light"
          },
          "paper_bgcolor": "white",
          "plot_bgcolor": "#E5ECF6",
          "polar": {
           "angularaxis": {
            "gridcolor": "white",
            "linecolor": "white",
            "ticks": ""
           },
           "bgcolor": "#E5ECF6",
           "radialaxis": {
            "gridcolor": "white",
            "linecolor": "white",
            "ticks": ""
           }
          },
          "scene": {
           "xaxis": {
            "backgroundcolor": "#E5ECF6",
            "gridcolor": "white",
            "gridwidth": 2,
            "linecolor": "white",
            "showbackground": true,
            "ticks": "",
            "zerolinecolor": "white"
           },
           "yaxis": {
            "backgroundcolor": "#E5ECF6",
            "gridcolor": "white",
            "gridwidth": 2,
            "linecolor": "white",
            "showbackground": true,
            "ticks": "",
            "zerolinecolor": "white"
           },
           "zaxis": {
            "backgroundcolor": "#E5ECF6",
            "gridcolor": "white",
            "gridwidth": 2,
            "linecolor": "white",
            "showbackground": true,
            "ticks": "",
            "zerolinecolor": "white"
           }
          },
          "shapedefaults": {
           "line": {
            "color": "#2a3f5f"
           }
          },
          "ternary": {
           "aaxis": {
            "gridcolor": "white",
            "linecolor": "white",
            "ticks": ""
           },
           "baxis": {
            "gridcolor": "white",
            "linecolor": "white",
            "ticks": ""
           },
           "bgcolor": "#E5ECF6",
           "caxis": {
            "gridcolor": "white",
            "linecolor": "white",
            "ticks": ""
           }
          },
          "title": {
           "x": 0.05
          },
          "xaxis": {
           "automargin": true,
           "gridcolor": "white",
           "linecolor": "white",
           "ticks": "",
           "title": {
            "standoff": 15
           },
           "zerolinecolor": "white",
           "zerolinewidth": 2
          },
          "yaxis": {
           "automargin": true,
           "gridcolor": "white",
           "linecolor": "white",
           "ticks": "",
           "title": {
            "standoff": 15
           },
           "zerolinecolor": "white",
           "zerolinewidth": 2
          }
         }
        },
        "title": {
         "text": "H2: BMI vs Insurance Charges (coloured by Smoker)"
        },
        "xaxis": {
         "anchor": "y",
         "domain": [
          0,
          1
         ],
         "title": {
          "text": "bmi"
         }
        },
        "yaxis": {
         "anchor": "x",
         "domain": [
          0,
          1
         ],
         "title": {
          "text": "charges"
         }
        }
       }
      }
     },
     "metadata": {},
     "output_type": "display_data"
    }
   ],
   "source": [
    "fig = px.scatter(\n",
    "    df,\n",
    "    x='bmi',\n",
    "    y='charges',\n",
    "    color='smoker',\n",
    "    trendline='ols',\n",
    "    title=\"H2: BMI vs Insurance Charges (coloured by Smoker)\"\n",
    ")\n",
    "fig.show()"
   ]
  },
  {
   "cell_type": "markdown",
   "id": "9e62d183",
   "metadata": {},
   "source": [
    "### Observation:\n",
    "- A positive correlation exists between BMI and charges.\n",
    "- Smokers with high BMI show particularly high expenses, supporting H2."
   ]
  }
 ],
 "metadata": {
  "kernelspec": {
   "display_name": ".venv",
   "language": "python",
   "name": "python3"
  },
  "language_info": {
   "codemirror_mode": {
    "name": "ipython",
    "version": 3
   },
   "file_extension": ".py",
   "mimetype": "text/x-python",
   "name": "python",
   "nbconvert_exporter": "python",
   "pygments_lexer": "ipython3",
   "version": "3.12.2"
  }
 },
 "nbformat": 4,
 "nbformat_minor": 5
}
