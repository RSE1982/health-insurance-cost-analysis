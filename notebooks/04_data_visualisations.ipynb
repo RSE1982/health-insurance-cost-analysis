{
 "cells": [
  {
   "cell_type": "markdown",
   "id": "a6bf3b8a",
   "metadata": {},
   "source": [
    "# 🏥 Healthcare Insurance Cost Analysis  \n",
    "## 📊 Notebook 04 – Exploratory Data Analysis and Visualisations \n",
    "\n",
    "| Feild | Description |\n",
    "|-------|-------------|\n",
    "|**Author:** |Robert Steven Elliott  |\n",
    "|**Course:** |Code Institute – Data Analytics with AI Bootcamp |  \n",
    "|**Project Type:** |Individual Formative Project  | \n",
    "|**Date:** |October 2025  |\n",
    "\n",
    "---\n",
    "\n",
    "## **Objectives**\n",
    "- Conduct exploratory data analysis (EDA) to uncover trends and patterns.  \n",
    "- Produce static visualisations using Matplotlib and Seaborn.  \n",
    "- Create interactive dashboards using Plotly.  \n",
    "- Summarise relationships between key features and healthcare insurance charges.\n",
    "\n",
    "## **Inputs**\n",
    "- `data/processed/insurance_enriched.csv`\n",
    "\n",
    "## **Outputs**\n",
    "- Static and interactive visualisations saved to `reports/figures/`  \n",
    "- Analytical insights summarised for presentation and documentation.\n",
    "\n",
    "## **Additional Comments**\n",
    "Run after `03_feature_engineering.ipynb`.  \n",
    "Ensure your enriched dataset is available in `data/processed/insurance_enriched.csv`.\n"
   ]
  },
  {
   "cell_type": "markdown",
   "id": "dcc5a90f",
   "metadata": {},
   "source": [
    "---"
   ]
  },
  {
   "cell_type": "markdown",
   "id": "6d00aa51",
   "metadata": {},
   "source": [
    "# Change Working Directory"
   ]
  },
  {
   "cell_type": "code",
   "execution_count": 1,
   "id": "45b8ac88",
   "metadata": {},
   "outputs": [
    {
     "name": "stdout",
     "output_type": "stream",
     "text": [
      "✅ Working directory set to project root: /home/robert/Projects/health-insurance-cost-analysis\n"
     ]
    }
   ],
   "source": [
    "import os\n",
    "PROJECT_ROOT = os.path.join(os.getcwd(), \"..\")\n",
    "os.chdir(PROJECT_ROOT)\n",
    "print(\"✅ Working directory set to project root:\", os.getcwd())"
   ]
  },
  {
   "cell_type": "markdown",
   "id": "b79da7f5",
   "metadata": {},
   "source": [
    "---"
   ]
  },
  {
   "cell_type": "markdown",
   "id": "8b97b6c1",
   "metadata": {},
   "source": [
    "# Import Libraries"
   ]
  },
  {
   "cell_type": "code",
   "execution_count": 2,
   "id": "b6e5cea5",
   "metadata": {},
   "outputs": [
    {
     "name": "stdout",
     "output_type": "stream",
     "text": [
      "✅ Libraries imported successfully.\n"
     ]
    }
   ],
   "source": [
    "import pandas as pd\n",
    "import numpy as np\n",
    "import matplotlib.pyplot as plt\n",
    "import seaborn as sns\n",
    "import plotly.express as px\n",
    "\n",
    "# Aesthetic setup\n",
    "sns.set(style=\"whitegrid\", palette=\"muted\")\n",
    "print(\"✅ Libraries imported successfully.\")"
   ]
  },
  {
   "cell_type": "markdown",
   "id": "23cfbd2b",
   "metadata": {},
   "source": [
    "---"
   ]
  },
  {
   "cell_type": "markdown",
   "id": "72a654af",
   "metadata": {},
   "source": [
    "# Load Enriched Dataset"
   ]
  },
  {
   "cell_type": "code",
   "execution_count": 5,
   "id": "8520ec2a",
   "metadata": {},
   "outputs": [
    {
     "name": "stdout",
     "output_type": "stream",
     "text": [
      "✅ Enriched dataset loaded. Shape: (1337, 10)\n"
     ]
    },
    {
     "data": {
      "application/vnd.microsoft.datawrangler.viewer.v0+json": {
       "columns": [
        {
         "name": "index",
         "rawType": "int64",
         "type": "integer"
        },
        {
         "name": "age",
         "rawType": "int64",
         "type": "integer"
        },
        {
         "name": "sex",
         "rawType": "object",
         "type": "string"
        },
        {
         "name": "bmi",
         "rawType": "float64",
         "type": "float"
        },
        {
         "name": "children",
         "rawType": "int64",
         "type": "integer"
        },
        {
         "name": "smoker",
         "rawType": "object",
         "type": "string"
        },
        {
         "name": "region",
         "rawType": "object",
         "type": "string"
        },
        {
         "name": "charges",
         "rawType": "float64",
         "type": "float"
        },
        {
         "name": "bmi_category",
         "rawType": "object",
         "type": "string"
        },
        {
         "name": "age_group",
         "rawType": "object",
         "type": "string"
        },
        {
         "name": "family_size_category",
         "rawType": "object",
         "type": "string"
        }
       ],
       "ref": "75bc0c86-43a7-4cca-b4b2-ff3c4af170ec",
       "rows": [
        [
         "0",
         "19",
         "female",
         "27.9",
         "0",
         "yes",
         "southwest",
         "16884.924",
         "Overweight",
         "18-25",
         "No Children"
        ],
        [
         "1",
         "18",
         "male",
         "33.77",
         "1",
         "no",
         "southeast",
         "1725.5523",
         "Obese",
         "18-25",
         "Small Family"
        ],
        [
         "2",
         "28",
         "male",
         "33.0",
         "3",
         "no",
         "southeast",
         "4449.462",
         "Obese",
         "26-35",
         "Medium Family"
        ],
        [
         "3",
         "33",
         "male",
         "22.705",
         "0",
         "no",
         "northwest",
         "21984.47061",
         "Normal",
         "26-35",
         "No Children"
        ],
        [
         "4",
         "32",
         "male",
         "28.88",
         "0",
         "no",
         "northwest",
         "3866.8552",
         "Overweight",
         "26-35",
         "No Children"
        ]
       ],
       "shape": {
        "columns": 10,
        "rows": 5
       }
      },
      "text/html": [
       "<div>\n",
       "<style scoped>\n",
       "    .dataframe tbody tr th:only-of-type {\n",
       "        vertical-align: middle;\n",
       "    }\n",
       "\n",
       "    .dataframe tbody tr th {\n",
       "        vertical-align: top;\n",
       "    }\n",
       "\n",
       "    .dataframe thead th {\n",
       "        text-align: right;\n",
       "    }\n",
       "</style>\n",
       "<table border=\"1\" class=\"dataframe\">\n",
       "  <thead>\n",
       "    <tr style=\"text-align: right;\">\n",
       "      <th></th>\n",
       "      <th>age</th>\n",
       "      <th>sex</th>\n",
       "      <th>bmi</th>\n",
       "      <th>children</th>\n",
       "      <th>smoker</th>\n",
       "      <th>region</th>\n",
       "      <th>charges</th>\n",
       "      <th>bmi_category</th>\n",
       "      <th>age_group</th>\n",
       "      <th>family_size_category</th>\n",
       "    </tr>\n",
       "  </thead>\n",
       "  <tbody>\n",
       "    <tr>\n",
       "      <th>0</th>\n",
       "      <td>19</td>\n",
       "      <td>female</td>\n",
       "      <td>27.900</td>\n",
       "      <td>0</td>\n",
       "      <td>yes</td>\n",
       "      <td>southwest</td>\n",
       "      <td>16884.92400</td>\n",
       "      <td>Overweight</td>\n",
       "      <td>18-25</td>\n",
       "      <td>No Children</td>\n",
       "    </tr>\n",
       "    <tr>\n",
       "      <th>1</th>\n",
       "      <td>18</td>\n",
       "      <td>male</td>\n",
       "      <td>33.770</td>\n",
       "      <td>1</td>\n",
       "      <td>no</td>\n",
       "      <td>southeast</td>\n",
       "      <td>1725.55230</td>\n",
       "      <td>Obese</td>\n",
       "      <td>18-25</td>\n",
       "      <td>Small Family</td>\n",
       "    </tr>\n",
       "    <tr>\n",
       "      <th>2</th>\n",
       "      <td>28</td>\n",
       "      <td>male</td>\n",
       "      <td>33.000</td>\n",
       "      <td>3</td>\n",
       "      <td>no</td>\n",
       "      <td>southeast</td>\n",
       "      <td>4449.46200</td>\n",
       "      <td>Obese</td>\n",
       "      <td>26-35</td>\n",
       "      <td>Medium Family</td>\n",
       "    </tr>\n",
       "    <tr>\n",
       "      <th>3</th>\n",
       "      <td>33</td>\n",
       "      <td>male</td>\n",
       "      <td>22.705</td>\n",
       "      <td>0</td>\n",
       "      <td>no</td>\n",
       "      <td>northwest</td>\n",
       "      <td>21984.47061</td>\n",
       "      <td>Normal</td>\n",
       "      <td>26-35</td>\n",
       "      <td>No Children</td>\n",
       "    </tr>\n",
       "    <tr>\n",
       "      <th>4</th>\n",
       "      <td>32</td>\n",
       "      <td>male</td>\n",
       "      <td>28.880</td>\n",
       "      <td>0</td>\n",
       "      <td>no</td>\n",
       "      <td>northwest</td>\n",
       "      <td>3866.85520</td>\n",
       "      <td>Overweight</td>\n",
       "      <td>26-35</td>\n",
       "      <td>No Children</td>\n",
       "    </tr>\n",
       "  </tbody>\n",
       "</table>\n",
       "</div>"
      ],
      "text/plain": [
       "   age     sex     bmi  children smoker     region      charges bmi_category  \\\n",
       "0   19  female  27.900         0    yes  southwest  16884.92400   Overweight   \n",
       "1   18    male  33.770         1     no  southeast   1725.55230        Obese   \n",
       "2   28    male  33.000         3     no  southeast   4449.46200        Obese   \n",
       "3   33    male  22.705         0     no  northwest  21984.47061       Normal   \n",
       "4   32    male  28.880         0     no  northwest   3866.85520   Overweight   \n",
       "\n",
       "  age_group family_size_category  \n",
       "0     18-25          No Children  \n",
       "1     18-25         Small Family  \n",
       "2     26-35        Medium Family  \n",
       "3     26-35          No Children  \n",
       "4     26-35          No Children  "
      ]
     },
     "metadata": {},
     "output_type": "display_data"
    }
   ],
   "source": [
    "data_path = \"data/final/insurance_final.csv\"\n",
    "\n",
    "try:\n",
    "    df = pd.read_csv(data_path)\n",
    "    print(f\"✅ Enriched dataset loaded. Shape: {df.shape}\")\n",
    "except FileNotFoundError:\n",
    "    raise FileNotFoundError(\"❌ insurance_final.csv not found. Please run Notebook 03 first.\")\n",
    "\n",
    "display(df.head())"
   ]
  },
  {
   "cell_type": "markdown",
   "id": "8bdf624a",
   "metadata": {},
   "source": [
    "## Data Type Restoration\n",
    "when loading from CSV, categorical columns (`sex`, `smoker`, `region`, `bmi_category`,`age_group`,`family_size_category`) were re-cast to the `category` dtype  \n",
    "to maintain consistency with the ETL pipeline and improve plotting performance."
   ]
  },
  {
   "cell_type": "code",
   "execution_count": 6,
   "id": "683fae55",
   "metadata": {},
   "outputs": [
    {
     "name": "stdout",
     "output_type": "stream",
     "text": [
      "✅ Data types after restoration:\n",
      "age                        int64\n",
      "sex                     category\n",
      "bmi                      float64\n",
      "children                   int64\n",
      "smoker                  category\n",
      "region                  category\n",
      "charges                  float64\n",
      "bmi_category            category\n",
      "age_group               category\n",
      "family_size_category    category\n",
      "dtype: object\n"
     ]
    }
   ],
   "source": [
    "for col in ['sex', 'smoker', 'region', 'bmi_category', 'age_group', 'family_size_category']:\n",
    "    df[col] = df[col].astype('category')\n",
    "print(\"✅ Data types after restoration:\")\n",
    "print(df.dtypes)"
   ]
  },
  {
   "cell_type": "markdown",
   "id": "66be151e",
   "metadata": {},
   "source": [
    "---"
   ]
  },
  {
   "cell_type": "markdown",
   "id": "6a084a92",
   "metadata": {},
   "source": [
    "# Summary Statistics and Overview"
   ]
  },
  {
   "cell_type": "code",
   "execution_count": 12,
   "id": "850c447d",
   "metadata": {},
   "outputs": [
    {
     "data": {
      "application/vnd.microsoft.datawrangler.viewer.v0+json": {
       "columns": [
        {
         "name": "index",
         "rawType": "object",
         "type": "string"
        },
        {
         "name": "age",
         "rawType": "float64",
         "type": "float"
        },
        {
         "name": "bmi",
         "rawType": "float64",
         "type": "float"
        },
        {
         "name": "children",
         "rawType": "float64",
         "type": "float"
        },
        {
         "name": "charges",
         "rawType": "float64",
         "type": "float"
        }
       ],
       "ref": "5a9c3368-5d0e-46be-bdfd-e00b82c270c5",
       "rows": [
        [
         "count",
         "1337.0",
         "1337.0",
         "1337.0",
         "1337.0"
        ],
        [
         "mean",
         "39.222139117427076",
         "30.66345175766642",
         "1.0957367240089753",
         "13279.121486655948"
        ],
        [
         "std",
         "14.044332734156425",
         "6.100468409615801",
         "1.2055714286412176",
         "12110.359656344175"
        ],
        [
         "min",
         "18.0",
         "15.96",
         "0.0",
         "1121.8739"
        ],
        [
         "25%",
         "27.0",
         "26.29",
         "0.0",
         "4746.344"
        ],
        [
         "50%",
         "39.0",
         "30.4",
         "1.0",
         "9386.1613"
        ],
        [
         "75%",
         "51.0",
         "34.7",
         "2.0",
         "16657.71745"
        ],
        [
         "max",
         "64.0",
         "53.13",
         "5.0",
         "63770.42801"
        ]
       ],
       "shape": {
        "columns": 4,
        "rows": 8
       }
      },
      "text/html": [
       "<div>\n",
       "<style scoped>\n",
       "    .dataframe tbody tr th:only-of-type {\n",
       "        vertical-align: middle;\n",
       "    }\n",
       "\n",
       "    .dataframe tbody tr th {\n",
       "        vertical-align: top;\n",
       "    }\n",
       "\n",
       "    .dataframe thead th {\n",
       "        text-align: right;\n",
       "    }\n",
       "</style>\n",
       "<table border=\"1\" class=\"dataframe\">\n",
       "  <thead>\n",
       "    <tr style=\"text-align: right;\">\n",
       "      <th></th>\n",
       "      <th>age</th>\n",
       "      <th>bmi</th>\n",
       "      <th>children</th>\n",
       "      <th>charges</th>\n",
       "    </tr>\n",
       "  </thead>\n",
       "  <tbody>\n",
       "    <tr>\n",
       "      <th>count</th>\n",
       "      <td>1337.000000</td>\n",
       "      <td>1337.000000</td>\n",
       "      <td>1337.000000</td>\n",
       "      <td>1337.000000</td>\n",
       "    </tr>\n",
       "    <tr>\n",
       "      <th>mean</th>\n",
       "      <td>39.222139</td>\n",
       "      <td>30.663452</td>\n",
       "      <td>1.095737</td>\n",
       "      <td>13279.121487</td>\n",
       "    </tr>\n",
       "    <tr>\n",
       "      <th>std</th>\n",
       "      <td>14.044333</td>\n",
       "      <td>6.100468</td>\n",
       "      <td>1.205571</td>\n",
       "      <td>12110.359656</td>\n",
       "    </tr>\n",
       "    <tr>\n",
       "      <th>min</th>\n",
       "      <td>18.000000</td>\n",
       "      <td>15.960000</td>\n",
       "      <td>0.000000</td>\n",
       "      <td>1121.873900</td>\n",
       "    </tr>\n",
       "    <tr>\n",
       "      <th>25%</th>\n",
       "      <td>27.000000</td>\n",
       "      <td>26.290000</td>\n",
       "      <td>0.000000</td>\n",
       "      <td>4746.344000</td>\n",
       "    </tr>\n",
       "    <tr>\n",
       "      <th>50%</th>\n",
       "      <td>39.000000</td>\n",
       "      <td>30.400000</td>\n",
       "      <td>1.000000</td>\n",
       "      <td>9386.161300</td>\n",
       "    </tr>\n",
       "    <tr>\n",
       "      <th>75%</th>\n",
       "      <td>51.000000</td>\n",
       "      <td>34.700000</td>\n",
       "      <td>2.000000</td>\n",
       "      <td>16657.717450</td>\n",
       "    </tr>\n",
       "    <tr>\n",
       "      <th>max</th>\n",
       "      <td>64.000000</td>\n",
       "      <td>53.130000</td>\n",
       "      <td>5.000000</td>\n",
       "      <td>63770.428010</td>\n",
       "    </tr>\n",
       "  </tbody>\n",
       "</table>\n",
       "</div>"
      ],
      "text/plain": [
       "               age          bmi     children       charges\n",
       "count  1337.000000  1337.000000  1337.000000   1337.000000\n",
       "mean     39.222139    30.663452     1.095737  13279.121487\n",
       "std      14.044333     6.100468     1.205571  12110.359656\n",
       "min      18.000000    15.960000     0.000000   1121.873900\n",
       "25%      27.000000    26.290000     0.000000   4746.344000\n",
       "50%      39.000000    30.400000     1.000000   9386.161300\n",
       "75%      51.000000    34.700000     2.000000  16657.717450\n",
       "max      64.000000    53.130000     5.000000  63770.428010"
      ]
     },
     "execution_count": 12,
     "metadata": {},
     "output_type": "execute_result"
    }
   ],
   "source": [
    "# Basic descriptive stats\n",
    "df.describe()\n"
   ]
  },
  {
   "cell_type": "code",
   "execution_count": 13,
   "id": "8933ce5b",
   "metadata": {},
   "outputs": [
    {
     "data": {
      "application/vnd.microsoft.datawrangler.viewer.v0+json": {
       "columns": [
        {
         "name": "index",
         "rawType": "object",
         "type": "string"
        },
        {
         "name": "charges",
         "rawType": "float64",
         "type": "float"
        }
       ],
       "ref": "9c9709c4-05ca-42e6-98f3-907d503d9a03",
       "rows": [
        [
         "charges",
         "1.0"
        ],
        [
         "age",
         "0.2983082125097863"
        ],
        [
         "bmi",
         "0.19840083122624932"
        ],
        [
         "children",
         "0.06738935083963248"
        ]
       ],
       "shape": {
        "columns": 1,
        "rows": 4
       }
      },
      "text/plain": [
       "charges     1.000000\n",
       "age         0.298308\n",
       "bmi         0.198401\n",
       "children    0.067389\n",
       "Name: charges, dtype: float64"
      ]
     },
     "metadata": {},
     "output_type": "display_data"
    }
   ],
   "source": [
    "\n",
    "# Correlation with target variable\n",
    "corr = df.corr(numeric_only=True)\n",
    "display(corr['charges'].sort_values(ascending=False))"
   ]
  },
  {
   "cell_type": "markdown",
   "id": "76728cda",
   "metadata": {},
   "source": [
    "---"
   ]
  },
  {
   "cell_type": "markdown",
   "id": "e1925d99",
   "metadata": {},
   "source": [
    "# Identify Top Correlations"
   ]
  },
  {
   "cell_type": "code",
   "execution_count": 11,
   "id": "1cb19301",
   "metadata": {},
   "outputs": [
    {
     "name": "stdout",
     "output_type": "stream",
     "text": [
      "🔍 Top 5 correlated features with Charges:\n"
     ]
    },
    {
     "data": {
      "application/vnd.microsoft.datawrangler.viewer.v0+json": {
       "columns": [
        {
         "name": "index",
         "rawType": "int64",
         "type": "integer"
        },
        {
         "name": "Feature",
         "rawType": "object",
         "type": "string"
        },
        {
         "name": "Correlation_with_Charges",
         "rawType": "float64",
         "type": "float"
        }
       ],
       "ref": "8fd61c4a-85bc-4f9f-873b-1548383121ac",
       "rows": [
        [
         "0",
         "age",
         "0.2983082125097863"
        ],
        [
         "1",
         "bmi",
         "0.19840083122624932"
        ],
        [
         "2",
         "children",
         "0.06738935083963248"
        ]
       ],
       "shape": {
        "columns": 2,
        "rows": 3
       }
      },
      "text/html": [
       "<div>\n",
       "<style scoped>\n",
       "    .dataframe tbody tr th:only-of-type {\n",
       "        vertical-align: middle;\n",
       "    }\n",
       "\n",
       "    .dataframe tbody tr th {\n",
       "        vertical-align: top;\n",
       "    }\n",
       "\n",
       "    .dataframe thead th {\n",
       "        text-align: right;\n",
       "    }\n",
       "</style>\n",
       "<table border=\"1\" class=\"dataframe\">\n",
       "  <thead>\n",
       "    <tr style=\"text-align: right;\">\n",
       "      <th></th>\n",
       "      <th>Feature</th>\n",
       "      <th>Correlation_with_Charges</th>\n",
       "    </tr>\n",
       "  </thead>\n",
       "  <tbody>\n",
       "    <tr>\n",
       "      <th>0</th>\n",
       "      <td>age</td>\n",
       "      <td>0.298308</td>\n",
       "    </tr>\n",
       "    <tr>\n",
       "      <th>1</th>\n",
       "      <td>bmi</td>\n",
       "      <td>0.198401</td>\n",
       "    </tr>\n",
       "    <tr>\n",
       "      <th>2</th>\n",
       "      <td>children</td>\n",
       "      <td>0.067389</td>\n",
       "    </tr>\n",
       "  </tbody>\n",
       "</table>\n",
       "</div>"
      ],
      "text/plain": [
       "    Feature  Correlation_with_Charges\n",
       "0       age                  0.298308\n",
       "1       bmi                  0.198401\n",
       "2  children                  0.067389"
      ]
     },
     "metadata": {},
     "output_type": "display_data"
    }
   ],
   "source": [
    "top_corr = corr.drop('charges').head(5)\n",
    "top_corr_df = top_corr.reset_index()\n",
    "top_corr_df.columns = ['Feature', 'Correlation_with_Charges']\n",
    "\n",
    "print(\"🔍 Top 5 correlated features with Charges:\")\n",
    "display(top_corr_df)"
   ]
  },
  {
   "cell_type": "markdown",
   "id": "a81393aa",
   "metadata": {},
   "source": []
  }
 ],
 "metadata": {
  "kernelspec": {
   "display_name": ".venv",
   "language": "python",
   "name": "python3"
  },
  "language_info": {
   "codemirror_mode": {
    "name": "ipython",
    "version": 3
   },
   "file_extension": ".py",
   "mimetype": "text/x-python",
   "name": "python",
   "nbconvert_exporter": "python",
   "pygments_lexer": "ipython3",
   "version": "3.12.2"
  }
 },
 "nbformat": 4,
 "nbformat_minor": 5
}
