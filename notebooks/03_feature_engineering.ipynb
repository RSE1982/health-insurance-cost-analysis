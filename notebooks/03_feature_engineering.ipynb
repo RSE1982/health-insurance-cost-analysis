{
 "cells": [
  {
   "cell_type": "markdown",
   "id": "47226d08",
   "metadata": {},
   "source": [
    "# 🏥 Healthcare Insurance Cost Analysis  \n",
    "### ⚙️ Notebook 03 – Feature Engineering  \n",
    "| Feild | Description |\n",
    "|-------|-------------|\n",
    "|**Author:** |Robert Steven Elliott  |\n",
    "|**Course:** |Code Institute – Data Analytics with AI Bootcamp |  \n",
    "|**Project Type:** |Individual Formative Project  | \n",
    "|**Date:** |October 2025  |\n",
    "\n",
    "---\n",
    "\n",
    "### **Objectives**\n",
    "- Create new features that provide deeper analytical insight.  \n",
    "- Derive BMI category, age group, and family size category variables.  \n",
    "- Save the enriched dataset for visualisation and analysis.\n",
    "\n",
    "### **Inputs**\n",
    "- `data/processed/insurance_clean.csv`  \n",
    "\n",
    "### **Outputs**\n",
    "- `data/processed/insurance_enriched.csv`  \n",
    "- Updated DataFrame with derived features.\n",
    "\n",
    "### **Additional Comments**\n",
    "Ensure this notebook is run after `02_data_cleaning_and_transformation.ipynb`.  \n",
    "All added features should be clearly documented and reproducible.\n"
   ]
  },
  {
   "cell_type": "markdown",
   "id": "dce02acb",
   "metadata": {},
   "source": [
    "---"
   ]
  },
  {
   "cell_type": "markdown",
   "id": "0b769683",
   "metadata": {},
   "source": [
    "# Change Working Directory"
   ]
  },
  {
   "cell_type": "code",
   "execution_count": 1,
   "id": "2ebae71f",
   "metadata": {},
   "outputs": [
    {
     "name": "stdout",
     "output_type": "stream",
     "text": [
      "✅ Working directory set to project root: /home/robert/Projects/health-insurance-cost-analysis\n"
     ]
    }
   ],
   "source": [
    "import os\n",
    "PROJECT_ROOT = os.path.join(os.getcwd(), \"..\")\n",
    "os.chdir(PROJECT_ROOT)\n",
    "print(\"✅ Working directory set to project root:\", os.getcwd())"
   ]
  },
  {
   "cell_type": "markdown",
   "id": "6973d8a2",
   "metadata": {},
   "source": [
    "---"
   ]
  },
  {
   "cell_type": "markdown",
   "id": "7d3a0e07",
   "metadata": {},
   "source": [
    "# Load Libraries"
   ]
  },
  {
   "cell_type": "code",
   "execution_count": 2,
   "id": "a2c4b25c",
   "metadata": {},
   "outputs": [],
   "source": [
    "import pandas as pd\n",
    "import numpy as np\n",
    "import matplotlib.pyplot as plt\n",
    "import seaborn as sns"
   ]
  },
  {
   "cell_type": "markdown",
   "id": "7a6e12c9",
   "metadata": {},
   "source": [
    "---"
   ]
  },
  {
   "cell_type": "markdown",
   "id": "2d4d4c77",
   "metadata": {},
   "source": [
    "# Load Cleaned Dataset"
   ]
  },
  {
   "cell_type": "code",
   "execution_count": 3,
   "id": "3203fd80",
   "metadata": {},
   "outputs": [
    {
     "name": "stdout",
     "output_type": "stream",
     "text": [
      "✅ Cleaned dataset loaded successfully. Shape: (1337, 7)\n"
     ]
    },
    {
     "data": {
      "application/vnd.microsoft.datawrangler.viewer.v0+json": {
       "columns": [
        {
         "name": "index",
         "rawType": "int64",
         "type": "integer"
        },
        {
         "name": "age",
         "rawType": "int64",
         "type": "integer"
        },
        {
         "name": "sex",
         "rawType": "object",
         "type": "string"
        },
        {
         "name": "bmi",
         "rawType": "float64",
         "type": "float"
        },
        {
         "name": "children",
         "rawType": "int64",
         "type": "integer"
        },
        {
         "name": "smoker",
         "rawType": "object",
         "type": "string"
        },
        {
         "name": "region",
         "rawType": "object",
         "type": "string"
        },
        {
         "name": "charges",
         "rawType": "float64",
         "type": "float"
        }
       ],
       "ref": "48cca0ad-f6bc-49e2-806c-a9aee91c9d11",
       "rows": [
        [
         "0",
         "19",
         "female",
         "27.9",
         "0",
         "yes",
         "southwest",
         "16884.924"
        ],
        [
         "1",
         "18",
         "male",
         "33.77",
         "1",
         "no",
         "southeast",
         "1725.5523"
        ],
        [
         "2",
         "28",
         "male",
         "33.0",
         "3",
         "no",
         "southeast",
         "4449.462"
        ],
        [
         "3",
         "33",
         "male",
         "22.705",
         "0",
         "no",
         "northwest",
         "21984.47061"
        ],
        [
         "4",
         "32",
         "male",
         "28.88",
         "0",
         "no",
         "northwest",
         "3866.8552"
        ]
       ],
       "shape": {
        "columns": 7,
        "rows": 5
       }
      },
      "text/html": [
       "<div>\n",
       "<style scoped>\n",
       "    .dataframe tbody tr th:only-of-type {\n",
       "        vertical-align: middle;\n",
       "    }\n",
       "\n",
       "    .dataframe tbody tr th {\n",
       "        vertical-align: top;\n",
       "    }\n",
       "\n",
       "    .dataframe thead th {\n",
       "        text-align: right;\n",
       "    }\n",
       "</style>\n",
       "<table border=\"1\" class=\"dataframe\">\n",
       "  <thead>\n",
       "    <tr style=\"text-align: right;\">\n",
       "      <th></th>\n",
       "      <th>age</th>\n",
       "      <th>sex</th>\n",
       "      <th>bmi</th>\n",
       "      <th>children</th>\n",
       "      <th>smoker</th>\n",
       "      <th>region</th>\n",
       "      <th>charges</th>\n",
       "    </tr>\n",
       "  </thead>\n",
       "  <tbody>\n",
       "    <tr>\n",
       "      <th>0</th>\n",
       "      <td>19</td>\n",
       "      <td>female</td>\n",
       "      <td>27.900</td>\n",
       "      <td>0</td>\n",
       "      <td>yes</td>\n",
       "      <td>southwest</td>\n",
       "      <td>16884.92400</td>\n",
       "    </tr>\n",
       "    <tr>\n",
       "      <th>1</th>\n",
       "      <td>18</td>\n",
       "      <td>male</td>\n",
       "      <td>33.770</td>\n",
       "      <td>1</td>\n",
       "      <td>no</td>\n",
       "      <td>southeast</td>\n",
       "      <td>1725.55230</td>\n",
       "    </tr>\n",
       "    <tr>\n",
       "      <th>2</th>\n",
       "      <td>28</td>\n",
       "      <td>male</td>\n",
       "      <td>33.000</td>\n",
       "      <td>3</td>\n",
       "      <td>no</td>\n",
       "      <td>southeast</td>\n",
       "      <td>4449.46200</td>\n",
       "    </tr>\n",
       "    <tr>\n",
       "      <th>3</th>\n",
       "      <td>33</td>\n",
       "      <td>male</td>\n",
       "      <td>22.705</td>\n",
       "      <td>0</td>\n",
       "      <td>no</td>\n",
       "      <td>northwest</td>\n",
       "      <td>21984.47061</td>\n",
       "    </tr>\n",
       "    <tr>\n",
       "      <th>4</th>\n",
       "      <td>32</td>\n",
       "      <td>male</td>\n",
       "      <td>28.880</td>\n",
       "      <td>0</td>\n",
       "      <td>no</td>\n",
       "      <td>northwest</td>\n",
       "      <td>3866.85520</td>\n",
       "    </tr>\n",
       "  </tbody>\n",
       "</table>\n",
       "</div>"
      ],
      "text/plain": [
       "   age     sex     bmi  children smoker     region      charges\n",
       "0   19  female  27.900         0    yes  southwest  16884.92400\n",
       "1   18    male  33.770         1     no  southeast   1725.55230\n",
       "2   28    male  33.000         3     no  southeast   4449.46200\n",
       "3   33    male  22.705         0     no  northwest  21984.47061\n",
       "4   32    male  28.880         0     no  northwest   3866.85520"
      ]
     },
     "metadata": {},
     "output_type": "display_data"
    }
   ],
   "source": [
    "data_path = \"data/processed/insurance_clean.csv\"\n",
    "\n",
    "try:\n",
    "    df = pd.read_csv(data_path)\n",
    "    print(f\"✅ Cleaned dataset loaded successfully. Shape: {df.shape}\")\n",
    "except FileNotFoundError:\n",
    "    raise FileNotFoundError(\"❌ Cleaned dataset not found. Please run Notebook 02 first.\")\n",
    "\n",
    "display(df.head())"
   ]
  },
  {
   "cell_type": "markdown",
   "id": "dcb22f7a",
   "metadata": {},
   "source": [
    "---"
   ]
  },
  {
   "cell_type": "markdown",
   "id": "7c2e07bc",
   "metadata": {},
   "source": [
    "# Create BMI categories"
   ]
  },
  {
   "cell_type": "code",
   "execution_count": 4,
   "id": "88294b20",
   "metadata": {},
   "outputs": [
    {
     "name": "stdout",
     "output_type": "stream",
     "text": [
      "✅ Added BMI category column.\n"
     ]
    },
    {
     "data": {
      "application/vnd.microsoft.datawrangler.viewer.v0+json": {
       "columns": [
        {
         "name": "index",
         "rawType": "int64",
         "type": "integer"
        },
        {
         "name": "bmi",
         "rawType": "float64",
         "type": "float"
        },
        {
         "name": "bmi_category",
         "rawType": "category",
         "type": "unknown"
        }
       ],
       "ref": "4970dda4-7aea-4995-b33b-6872672558cf",
       "rows": [
        [
         "0",
         "27.9",
         "Overweight"
        ],
        [
         "1",
         "33.77",
         "Obese"
        ],
        [
         "2",
         "33.0",
         "Obese"
        ],
        [
         "3",
         "22.705",
         "Normal"
        ],
        [
         "4",
         "28.88",
         "Overweight"
        ],
        [
         "5",
         "25.74",
         "Overweight"
        ],
        [
         "6",
         "33.44",
         "Obese"
        ],
        [
         "7",
         "27.74",
         "Overweight"
        ],
        [
         "8",
         "29.83",
         "Overweight"
        ],
        [
         "9",
         "25.84",
         "Overweight"
        ]
       ],
       "shape": {
        "columns": 2,
        "rows": 10
       }
      },
      "text/html": [
       "<div>\n",
       "<style scoped>\n",
       "    .dataframe tbody tr th:only-of-type {\n",
       "        vertical-align: middle;\n",
       "    }\n",
       "\n",
       "    .dataframe tbody tr th {\n",
       "        vertical-align: top;\n",
       "    }\n",
       "\n",
       "    .dataframe thead th {\n",
       "        text-align: right;\n",
       "    }\n",
       "</style>\n",
       "<table border=\"1\" class=\"dataframe\">\n",
       "  <thead>\n",
       "    <tr style=\"text-align: right;\">\n",
       "      <th></th>\n",
       "      <th>bmi</th>\n",
       "      <th>bmi_category</th>\n",
       "    </tr>\n",
       "  </thead>\n",
       "  <tbody>\n",
       "    <tr>\n",
       "      <th>0</th>\n",
       "      <td>27.900</td>\n",
       "      <td>Overweight</td>\n",
       "    </tr>\n",
       "    <tr>\n",
       "      <th>1</th>\n",
       "      <td>33.770</td>\n",
       "      <td>Obese</td>\n",
       "    </tr>\n",
       "    <tr>\n",
       "      <th>2</th>\n",
       "      <td>33.000</td>\n",
       "      <td>Obese</td>\n",
       "    </tr>\n",
       "    <tr>\n",
       "      <th>3</th>\n",
       "      <td>22.705</td>\n",
       "      <td>Normal</td>\n",
       "    </tr>\n",
       "    <tr>\n",
       "      <th>4</th>\n",
       "      <td>28.880</td>\n",
       "      <td>Overweight</td>\n",
       "    </tr>\n",
       "    <tr>\n",
       "      <th>5</th>\n",
       "      <td>25.740</td>\n",
       "      <td>Overweight</td>\n",
       "    </tr>\n",
       "    <tr>\n",
       "      <th>6</th>\n",
       "      <td>33.440</td>\n",
       "      <td>Obese</td>\n",
       "    </tr>\n",
       "    <tr>\n",
       "      <th>7</th>\n",
       "      <td>27.740</td>\n",
       "      <td>Overweight</td>\n",
       "    </tr>\n",
       "    <tr>\n",
       "      <th>8</th>\n",
       "      <td>29.830</td>\n",
       "      <td>Overweight</td>\n",
       "    </tr>\n",
       "    <tr>\n",
       "      <th>9</th>\n",
       "      <td>25.840</td>\n",
       "      <td>Overweight</td>\n",
       "    </tr>\n",
       "  </tbody>\n",
       "</table>\n",
       "</div>"
      ],
      "text/plain": [
       "      bmi bmi_category\n",
       "0  27.900   Overweight\n",
       "1  33.770        Obese\n",
       "2  33.000        Obese\n",
       "3  22.705       Normal\n",
       "4  28.880   Overweight\n",
       "5  25.740   Overweight\n",
       "6  33.440        Obese\n",
       "7  27.740   Overweight\n",
       "8  29.830   Overweight\n",
       "9  25.840   Overweight"
      ]
     },
     "metadata": {},
     "output_type": "display_data"
    }
   ],
   "source": [
    "# Create BMI category bins\n",
    "bmi_bins = [0, 18.5, 24.9, 29.9, 39.9, 100]\n",
    "bmi_labels = ['Underweight', 'Normal', 'Overweight', 'Obese', 'Severely Obese']\n",
    "\n",
    "df['bmi_category'] = pd.cut(df['bmi'], bins=bmi_bins, labels=bmi_labels)\n",
    "\n",
    "print(\"✅ Added BMI category column.\")\n",
    "display(df[['bmi', 'bmi_category']].head(10))"
   ]
  },
  {
   "cell_type": "markdown",
   "id": "d16d13a9",
   "metadata": {},
   "source": [
    "---"
   ]
  },
  {
   "cell_type": "markdown",
   "id": "81011268",
   "metadata": {},
   "source": [
    "# Create Age Groups"
   ]
  },
  {
   "cell_type": "code",
   "execution_count": 5,
   "id": "4bc16029",
   "metadata": {},
   "outputs": [
    {
     "name": "stdout",
     "output_type": "stream",
     "text": [
      "✅ Added age group column.\n"
     ]
    },
    {
     "data": {
      "application/vnd.microsoft.datawrangler.viewer.v0+json": {
       "columns": [
        {
         "name": "index",
         "rawType": "int64",
         "type": "integer"
        },
        {
         "name": "age",
         "rawType": "int64",
         "type": "integer"
        },
        {
         "name": "age_group",
         "rawType": "category",
         "type": "unknown"
        }
       ],
       "ref": "8e7de056-97aa-4ba9-b977-16223bd0fd10",
       "rows": [
        [
         "0",
         "19",
         "18-25"
        ],
        [
         "1",
         "18",
         "18-25"
        ],
        [
         "2",
         "28",
         "26-35"
        ],
        [
         "3",
         "33",
         "26-35"
        ],
        [
         "4",
         "32",
         "26-35"
        ],
        [
         "5",
         "31",
         "26-35"
        ],
        [
         "6",
         "46",
         "46-55"
        ],
        [
         "7",
         "37",
         "36-45"
        ],
        [
         "8",
         "37",
         "36-45"
        ],
        [
         "9",
         "60",
         "56-65"
        ]
       ],
       "shape": {
        "columns": 2,
        "rows": 10
       }
      },
      "text/html": [
       "<div>\n",
       "<style scoped>\n",
       "    .dataframe tbody tr th:only-of-type {\n",
       "        vertical-align: middle;\n",
       "    }\n",
       "\n",
       "    .dataframe tbody tr th {\n",
       "        vertical-align: top;\n",
       "    }\n",
       "\n",
       "    .dataframe thead th {\n",
       "        text-align: right;\n",
       "    }\n",
       "</style>\n",
       "<table border=\"1\" class=\"dataframe\">\n",
       "  <thead>\n",
       "    <tr style=\"text-align: right;\">\n",
       "      <th></th>\n",
       "      <th>age</th>\n",
       "      <th>age_group</th>\n",
       "    </tr>\n",
       "  </thead>\n",
       "  <tbody>\n",
       "    <tr>\n",
       "      <th>0</th>\n",
       "      <td>19</td>\n",
       "      <td>18-25</td>\n",
       "    </tr>\n",
       "    <tr>\n",
       "      <th>1</th>\n",
       "      <td>18</td>\n",
       "      <td>18-25</td>\n",
       "    </tr>\n",
       "    <tr>\n",
       "      <th>2</th>\n",
       "      <td>28</td>\n",
       "      <td>26-35</td>\n",
       "    </tr>\n",
       "    <tr>\n",
       "      <th>3</th>\n",
       "      <td>33</td>\n",
       "      <td>26-35</td>\n",
       "    </tr>\n",
       "    <tr>\n",
       "      <th>4</th>\n",
       "      <td>32</td>\n",
       "      <td>26-35</td>\n",
       "    </tr>\n",
       "    <tr>\n",
       "      <th>5</th>\n",
       "      <td>31</td>\n",
       "      <td>26-35</td>\n",
       "    </tr>\n",
       "    <tr>\n",
       "      <th>6</th>\n",
       "      <td>46</td>\n",
       "      <td>46-55</td>\n",
       "    </tr>\n",
       "    <tr>\n",
       "      <th>7</th>\n",
       "      <td>37</td>\n",
       "      <td>36-45</td>\n",
       "    </tr>\n",
       "    <tr>\n",
       "      <th>8</th>\n",
       "      <td>37</td>\n",
       "      <td>36-45</td>\n",
       "    </tr>\n",
       "    <tr>\n",
       "      <th>9</th>\n",
       "      <td>60</td>\n",
       "      <td>56-65</td>\n",
       "    </tr>\n",
       "  </tbody>\n",
       "</table>\n",
       "</div>"
      ],
      "text/plain": [
       "   age age_group\n",
       "0   19     18-25\n",
       "1   18     18-25\n",
       "2   28     26-35\n",
       "3   33     26-35\n",
       "4   32     26-35\n",
       "5   31     26-35\n",
       "6   46     46-55\n",
       "7   37     36-45\n",
       "8   37     36-45\n",
       "9   60     56-65"
      ]
     },
     "metadata": {},
     "output_type": "display_data"
    }
   ],
   "source": [
    "# Create age group bins\n",
    "age_bins = [17, 25, 35, 45, 55, 65, 100]\n",
    "age_labels = ['18-25', '26-35', '36-45', '46-55', '56-65', '65+']\n",
    "\n",
    "df['age_group'] = pd.cut(df['age'], bins=age_bins, labels=age_labels)\n",
    "\n",
    "print(\"✅ Added age group column.\")\n",
    "display(df[['age', 'age_group']].head(10))\n"
   ]
  },
  {
   "cell_type": "markdown",
   "id": "7b995ce0",
   "metadata": {},
   "source": [
    "# Create Family Size Groups"
   ]
  },
  {
   "cell_type": "code",
   "execution_count": 6,
   "id": "ac41d1ee",
   "metadata": {},
   "outputs": [
    {
     "name": "stdout",
     "output_type": "stream",
     "text": [
      "✅ Added family size category column.\n"
     ]
    },
    {
     "data": {
      "application/vnd.microsoft.datawrangler.viewer.v0+json": {
       "columns": [
        {
         "name": "index",
         "rawType": "int64",
         "type": "integer"
        },
        {
         "name": "children",
         "rawType": "int64",
         "type": "integer"
        },
        {
         "name": "family_size_category",
         "rawType": "category",
         "type": "unknown"
        }
       ],
       "ref": "23df565a-bc79-46d0-acb4-571d9e064dce",
       "rows": [
        [
         "0",
         "0",
         "No Children"
        ],
        [
         "1",
         "1",
         "Small Family"
        ],
        [
         "2",
         "3",
         "Medium Family"
        ],
        [
         "3",
         "0",
         "No Children"
        ],
        [
         "4",
         "0",
         "No Children"
        ],
        [
         "5",
         "0",
         "No Children"
        ],
        [
         "6",
         "1",
         "Small Family"
        ],
        [
         "7",
         "3",
         "Medium Family"
        ],
        [
         "8",
         "2",
         "Small Family"
        ],
        [
         "9",
         "0",
         "No Children"
        ]
       ],
       "shape": {
        "columns": 2,
        "rows": 10
       }
      },
      "text/html": [
       "<div>\n",
       "<style scoped>\n",
       "    .dataframe tbody tr th:only-of-type {\n",
       "        vertical-align: middle;\n",
       "    }\n",
       "\n",
       "    .dataframe tbody tr th {\n",
       "        vertical-align: top;\n",
       "    }\n",
       "\n",
       "    .dataframe thead th {\n",
       "        text-align: right;\n",
       "    }\n",
       "</style>\n",
       "<table border=\"1\" class=\"dataframe\">\n",
       "  <thead>\n",
       "    <tr style=\"text-align: right;\">\n",
       "      <th></th>\n",
       "      <th>children</th>\n",
       "      <th>family_size_category</th>\n",
       "    </tr>\n",
       "  </thead>\n",
       "  <tbody>\n",
       "    <tr>\n",
       "      <th>0</th>\n",
       "      <td>0</td>\n",
       "      <td>No Children</td>\n",
       "    </tr>\n",
       "    <tr>\n",
       "      <th>1</th>\n",
       "      <td>1</td>\n",
       "      <td>Small Family</td>\n",
       "    </tr>\n",
       "    <tr>\n",
       "      <th>2</th>\n",
       "      <td>3</td>\n",
       "      <td>Medium Family</td>\n",
       "    </tr>\n",
       "    <tr>\n",
       "      <th>3</th>\n",
       "      <td>0</td>\n",
       "      <td>No Children</td>\n",
       "    </tr>\n",
       "    <tr>\n",
       "      <th>4</th>\n",
       "      <td>0</td>\n",
       "      <td>No Children</td>\n",
       "    </tr>\n",
       "    <tr>\n",
       "      <th>5</th>\n",
       "      <td>0</td>\n",
       "      <td>No Children</td>\n",
       "    </tr>\n",
       "    <tr>\n",
       "      <th>6</th>\n",
       "      <td>1</td>\n",
       "      <td>Small Family</td>\n",
       "    </tr>\n",
       "    <tr>\n",
       "      <th>7</th>\n",
       "      <td>3</td>\n",
       "      <td>Medium Family</td>\n",
       "    </tr>\n",
       "    <tr>\n",
       "      <th>8</th>\n",
       "      <td>2</td>\n",
       "      <td>Small Family</td>\n",
       "    </tr>\n",
       "    <tr>\n",
       "      <th>9</th>\n",
       "      <td>0</td>\n",
       "      <td>No Children</td>\n",
       "    </tr>\n",
       "  </tbody>\n",
       "</table>\n",
       "</div>"
      ],
      "text/plain": [
       "   children family_size_category\n",
       "0         0          No Children\n",
       "1         1         Small Family\n",
       "2         3        Medium Family\n",
       "3         0          No Children\n",
       "4         0          No Children\n",
       "5         0          No Children\n",
       "6         1         Small Family\n",
       "7         3        Medium Family\n",
       "8         2         Small Family\n",
       "9         0          No Children"
      ]
     },
     "metadata": {},
     "output_type": "display_data"
    }
   ],
   "source": [
    "# Create a categorical variable for number of children\n",
    "family_bins = [-1, 0, 2, 4, 10]\n",
    "family_labels = ['No Children', 'Small Family', 'Medium Family', 'Large Family']\n",
    "\n",
    "df['family_size_category'] = pd.cut(df['children'], bins=family_bins, labels=family_labels)\n",
    "\n",
    "print(\"✅ Added family size category column.\")\n",
    "display(df[['children', 'family_size_category']].head(10))\n"
   ]
  },
  {
   "cell_type": "markdown",
   "id": "b93a28ec",
   "metadata": {},
   "source": [
    "---"
   ]
  },
  {
   "cell_type": "code",
   "execution_count": 7,
   "id": "c2b3eb54",
   "metadata": {},
   "outputs": [
    {
     "name": "stdout",
     "output_type": "stream",
     "text": [
      "<class 'pandas.core.frame.DataFrame'>\n",
      "RangeIndex: 1337 entries, 0 to 1336\n",
      "Data columns (total 10 columns):\n",
      " #   Column                Non-Null Count  Dtype   \n",
      "---  ------                --------------  -----   \n",
      " 0   age                   1337 non-null   int64   \n",
      " 1   sex                   1337 non-null   object  \n",
      " 2   bmi                   1337 non-null   float64 \n",
      " 3   children              1337 non-null   int64   \n",
      " 4   smoker                1337 non-null   object  \n",
      " 5   region                1337 non-null   object  \n",
      " 6   charges               1337 non-null   float64 \n",
      " 7   bmi_category          1337 non-null   category\n",
      " 8   age_group             1337 non-null   category\n",
      " 9   family_size_category  1337 non-null   category\n",
      "dtypes: category(3), float64(2), int64(2), object(3)\n",
      "memory usage: 77.8+ KB\n"
     ]
    }
   ],
   "source": [
    "df.info()"
   ]
  },
  {
   "cell_type": "markdown",
   "id": "744ed06e",
   "metadata": {},
   "source": [
    "# Validate Derived Features"
   ]
  },
  {
   "cell_type": "code",
   "execution_count": 8,
   "id": "64fe856e",
   "metadata": {},
   "outputs": [
    {
     "name": "stdout",
     "output_type": "stream",
     "text": [
      "🧩 Derived columns added:\n",
      "       bmi_category age_group family_size_category\n",
      "count          1337      1337                 1337\n",
      "unique            5         5                    4\n",
      "top           Obese     18-25          No Children\n",
      "freq            622       305                  573\n",
      "\n",
      "🔍 Missing values check:\n",
      "bmi_category            0\n",
      "age_group               0\n",
      "family_size_category    0\n",
      "dtype: int64\n"
     ]
    }
   ],
   "source": [
    "# Confirm new columns were created correctly\n",
    "print(\"🧩 Derived columns added:\")\n",
    "print(df[['bmi_category', 'age_group', 'family_size_category']].describe(include='category'))\n",
    "\n",
    "# Check for missing or invalid values\n",
    "print(\"\\n🔍 Missing values check:\")\n",
    "print(df[['bmi_category', 'age_group', 'family_size_category']].isnull().sum())\n"
   ]
  },
  {
   "cell_type": "markdown",
   "id": "0dbd0f2e",
   "metadata": {},
   "source": [
    "---"
   ]
  },
  {
   "cell_type": "markdown",
   "id": "be3a2747",
   "metadata": {},
   "source": [
    "# Save Enriched Dataset"
   ]
  },
  {
   "cell_type": "code",
   "execution_count": 9,
   "id": "3ab17343",
   "metadata": {},
   "outputs": [
    {
     "name": "stdout",
     "output_type": "stream",
     "text": [
      "📁 Enriched dataset saved to: data/final/insurance_final.csv\n"
     ]
    }
   ],
   "source": [
    "output_path = \"data/final/insurance_final.csv\"\n",
    "df.to_csv(output_path, index=False)\n",
    "print(f\"📁 Enriched dataset saved to: {output_path}\")"
   ]
  },
  {
   "cell_type": "markdown",
   "id": "c298cfa7",
   "metadata": {},
   "source": [
    "---"
   ]
  },
  {
   "cell_type": "markdown",
   "id": "eed52425",
   "metadata": {},
   "source": [
    "# Quick Summary Visual Check"
   ]
  },
  {
   "cell_type": "code",
   "execution_count": 10,
   "id": "78651dc0",
   "metadata": {},
   "outputs": [
    {
     "data": {
      "image/png": "[encoded data removed]",
      "text/plain": [
       "<Figure size 1500x400 with 3 Axes>"
      ]
     },
     "metadata": {},
     "output_type": "display_data"
    }
   ],
   "source": [
    "# Count plots for new features\n",
    "fig, axes = plt.subplots(1, 3, figsize=(15, 4))\n",
    "\n",
    "sns.countplot(data=df, x='bmi_category', ax=axes[0])\n",
    "axes[0].set_title('BMI Categories')\n",
    "\n",
    "sns.countplot(data=df, x='age_group', ax=axes[1])\n",
    "axes[1].set_title('Age Groups')\n",
    "\n",
    "sns.countplot(data=df, x='family_size_category', ax=axes[2])\n",
    "axes[2].set_title('Family Size Categories')\n",
    "\n",
    "plt.tight_layout()\n",
    "plt.show()"
   ]
  }
 ],
 "metadata": {
  "kernelspec": {
   "display_name": ".venv",
   "language": "python",
   "name": "python3"
  },
  "language_info": {
   "codemirror_mode": {
    "name": "ipython",
    "version": 3
   },
   "file_extension": ".py",
   "mimetype": "text/x-python",
   "name": "python",
   "nbconvert_exporter": "python",
   "pygments_lexer": "ipython3",
   "version": "3.12.2"
  }
 },
 "nbformat": 4,
 "nbformat_minor": 5
}
