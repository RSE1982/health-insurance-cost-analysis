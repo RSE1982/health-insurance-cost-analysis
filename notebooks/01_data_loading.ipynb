{
  "cells": [
    {
      "cell_type": "markdown",
      "metadata": {
        "id": "0aStgWSO0E0E"
      },
      "source": [
        "# 🏥 Healthcare Insurance Cost Analysis  \n",
        "## 📘 Notebook 01 – Data Loading and Initial Inspection\n",
        "|Field|Description|  \n",
        "|-----|-----------|\n",
        "|**Author:** |Robert Steven Elliott|  \n",
        "|**Course:** |Code Institute – Data Analytics with AI Bootcamp|  \n",
        "|**Project Type:** |Individual Formative Project|  \n",
        "|**Date:** | October 2025|  \n",
        "\n",
        "---\n",
        "\n",
        "### **Objectives**\n",
        "- Load the healthcare insurance dataset from Kaggle.  \n",
        "- Inspect structure, datatypes, and completeness.  \n",
        "- Verify working directory and environment setup.\n",
        "\n",
        "### **Inputs**\n",
        "- `data/raw/insurance.csv`  \n",
        "\n",
        "### **Outputs**\n",
        "- Printed dataset info and summary statistics.  \n",
        "\n",
        "### **Additional Comments**\n",
        "Run this notebook top-down only. Do not edit `data/raw` files directly.\n"
      ]
    },
    {
      "cell_type": "markdown",
      "metadata": {
        "id": "9uWZXH9LwoQg"
      },
      "source": [
        "---"
      ]
    },
    {
      "cell_type": "markdown",
      "metadata": {
        "id": "cqP-UeN-z3i2"
      },
      "source": [
        "# Change working directory"
      ]
    },
    {
      "cell_type": "code",
      "execution_count": 1,
      "metadata": {
        "id": "wZfF_j-Bz3i4",
        "outputId": "66943449-1436-4c3d-85c7-b85f9f78349b"
      },
      "outputs": [
        {
          "name": "stdout",
          "output_type": "stream",
          "text": [
            "You set a new current directory\n"
          ]
        }
      ],
      "source": [
        "import os\n",
        "current_dir = os.getcwd()\n",
        "current_dir\n",
        "os.chdir(os.path.dirname(current_dir))\n",
        "print(\"You set a new current directory\")"
      ]
    },
    {
      "cell_type": "markdown",
      "metadata": {
        "id": "M_xPk_Ijz3i-"
      },
      "source": [
        "Confirm the new current directory"
      ]
    },
    {
      "cell_type": "code",
      "execution_count": 2,
      "metadata": {
        "id": "vz3S-_kjz3jA",
        "outputId": "00b79ae4-75d0-4a96-d193-ac9ef9847ea2"
      },
      "outputs": [
        {
          "data": {
            "text/plain": [
              "'/home/robert/Projects/health-insurance-cost-analysis'"
            ]
          },
          "execution_count": 2,
          "metadata": {},
          "output_type": "execute_result"
        }
      ],
      "source": [
        "current_dir = os.getcwd()\n",
        "current_dir"
      ]
    },
    {
      "cell_type": "markdown",
      "metadata": {},
      "source": [
        "---"
      ]
    },
    {
      "cell_type": "markdown",
      "metadata": {
        "id": "-mavJ8DibrcQ"
      },
      "source": [
        "# Import Require Libraries"
      ]
    },
    {
      "cell_type": "code",
      "execution_count": 3,
      "metadata": {},
      "outputs": [],
      "source": [
        "import pandas as pd"
      ]
    },
    {
      "cell_type": "markdown",
      "metadata": {
        "id": "ZY3l0-AxO93d"
      },
      "source": [
        "---"
      ]
    },
    {
      "cell_type": "markdown",
      "metadata": {
        "id": "uFQo3ycuO-v6"
      },
      "source": [
        "# Load Dataset"
      ]
    },
    {
      "cell_type": "code",
      "execution_count": 4,
      "metadata": {},
      "outputs": [
        {
          "name": "stdout",
          "output_type": "stream",
          "text": [
            "✅ Dataset loaded successfully!\n"
          ]
        }
      ],
      "source": [
        "data_path = \"data/raw/insurance.csv\"\n",
        "\n",
        "try:\n",
        "    df = pd.read_csv(data_path)\n",
        "    print(\"✅ Dataset loaded successfully!\")\n",
        "except FileNotFoundError:\n",
        "    print(\"❌ Dataset not found. Please download insurance.csv from Kaggle to data/raw/\")\n",
        "    raise"
      ]
    }
  ],
  "metadata": {
    "accelerator": "GPU",
    "colab": {
      "name": "Data Practitioner Jupyter Notebook.ipynb",
      "provenance": [],
      "toc_visible": true
    },
    "kernelspec": {
      "display_name": ".venv",
      "language": "python",
      "name": "python3"
    },
    "language_info": {
      "codemirror_mode": {
        "name": "ipython",
        "version": 3
      },
      "file_extension": ".py",
      "mimetype": "text/x-python",
      "name": "python",
      "nbconvert_exporter": "python",
      "pygments_lexer": "ipython3",
      "version": "3.12.2"
    },
    "orig_nbformat": 2
  },
  "nbformat": 4,
  "nbformat_minor": 2
}
